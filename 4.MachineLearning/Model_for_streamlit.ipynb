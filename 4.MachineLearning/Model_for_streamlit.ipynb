{
 "cells": [
  {
   "cell_type": "markdown",
   "id": "b7724169",
   "metadata": {},
   "source": [
    "In this assignment, I use machine learning to model the MNIST data. I  evaluate a linear model and SVC model"
   ]
  },
  {
   "cell_type": "code",
   "execution_count": 1,
   "id": "6dfcbef3",
   "metadata": {},
   "outputs": [],
   "source": [
    "import numpy as np\n",
    "import pandas as pd\n",
    "import matplotlib.pyplot as plt\n",
    "import matplotlib as mpl\n",
    "import cv2\n",
    "\n",
    "from sklearn.preprocessing import StandardScaler\n",
    "from sklearn.metrics import accuracy_score\n",
    "\n",
    "\n",
    "from sklearn.pipeline import Pipeline\n",
    "from sklearn.model_selection import GridSearchCV\n",
    "from sklearn.metrics import confusion_matrix, ConfusionMatrixDisplay\n",
    "from sklearn.metrics import accuracy_score\n",
    "\n",
    "\n",
    "from sklearn.neighbors import KNeighborsClassifier\n",
    "\n",
    "import joblib\n"
   ]
  },
  {
   "cell_type": "markdown",
   "id": "10069829",
   "metadata": {},
   "source": [
    "# Downloading MNIST data "
   ]
  },
  {
   "cell_type": "code",
   "execution_count": 2,
   "id": "ce66a2a8",
   "metadata": {},
   "outputs": [],
   "source": [
    "from sklearn.datasets import fetch_openml"
   ]
  },
  {
   "cell_type": "code",
   "execution_count": 3,
   "id": "c429bcb1",
   "metadata": {},
   "outputs": [
    {
     "name": "stderr",
     "output_type": "stream",
     "text": [
      "C:\\Users\\lidii\\anaconda3\\Lib\\site-packages\\sklearn\\datasets\\_openml.py:1002: FutureWarning: The default value of `parser` will change from `'liac-arff'` to `'auto'` in 1.4. You can set `parser='auto'` to silence this warning. Therefore, an `ImportError` will be raised from 1.4 if the dataset is dense and pandas is not installed. Note that the pandas parser may return different data types. See the Notes Section in fetch_openml's API doc for details.\n",
      "  warn(\n"
     ]
    },
    {
     "name": "stdout",
     "output_type": "stream",
     "text": [
      "**Author**: Yann LeCun, Corinna Cortes, Christopher J.C. Burges  \n",
      "**Source**: [MNIST Website](http://yann.lecun.com/exdb/mnist/) - Date unknown  \n",
      "**Please cite**:  \n",
      "\n",
      "The MNIST database of handwritten digits with 784 features, raw data available at: http://yann.lecun.com/exdb/mnist/. It can be split in a training set of the first 60,000 examples, and a test set of 10,000 examples  \n",
      "\n",
      "It is a subset of a larger set available from NIST. The digits have been size-normalized and centered in a fixed-size image. It is a good database for people who want to try learning techniques and pattern recognition methods on real-world data while spending minimal efforts on preprocessing and formatting. The original black and white (bilevel) images from NIST were size normalized to fit in a 20x20 pixel box while preserving their aspect ratio. The resulting images contain grey levels as a result of the anti-aliasing technique used by the normalization algorithm. the images were centered in a 28x28 image by computing the center of mass of the pixels, and translating the image so as to position this point at the center of the 28x28 field.  \n",
      "\n",
      "With some classification methods (particularly template-based methods, such as SVM and K-nearest neighbors), the error rate improves when the digits are centered by bounding box rather than center of mass. If you do this kind of pre-processing, you should report it in your publications. The MNIST database was constructed from NIST's NIST originally designated SD-3 as their training set and SD-1 as their test set. However, SD-3 is much cleaner and easier to recognize than SD-1. The reason for this can be found on the fact that SD-3 was collected among Census Bureau employees, while SD-1 was collected among high-school students. Drawing sensible conclusions from learning experiments requires that the result be independent of the choice of training set and test among the complete set of samples. Therefore it was necessary to build a new database by mixing NIST's datasets.  \n",
      "\n",
      "The MNIST training set is composed of 30,000 patterns from SD-3 and 30,000 patterns from SD-1. Our test set was composed of 5,000 patterns from SD-3 and 5,000 patterns from SD-1. The 60,000 pattern training set contained examples from approximately 250 writers. We made sure that the sets of writers of the training set and test set were disjoint. SD-1 contains 58,527 digit images written by 500 different writers. In contrast to SD-3, where blocks of data from each writer appeared in sequence, the data in SD-1 is scrambled. Writer identities for SD-1 is available and we used this information to unscramble the writers. We then split SD-1 in two: characters written by the first 250 writers went into our new training set. The remaining 250 writers were placed in our test set. Thus we had two sets with nearly 30,000 examples each. The new training set was completed with enough examples from SD-3, starting at pattern # 0, to make a full set of 60,000 training patterns. Similarly, the new test set was completed with SD-3 examples starting at pattern # 35,000 to make a full set with 60,000 test patterns. Only a subset of 10,000 test images (5,000 from SD-1 and 5,000 from SD-3) is available on this site. The full 60,000 sample training set is available.\n",
      "\n",
      "Downloaded from openml.org.\n"
     ]
    }
   ],
   "source": [
    "mnist = fetch_openml('mnist_784', version=1, cache=True, as_frame=False)\n",
    "print(mnist.DESCR)"
   ]
  },
  {
   "cell_type": "code",
   "execution_count": 4,
   "id": "997ba672",
   "metadata": {},
   "outputs": [],
   "source": [
    "X=mnist[\"data\"]\n",
    "y=mnist[\"target\"].astype(np.uint8)"
   ]
  },
  {
   "cell_type": "markdown",
   "id": "c3fac6c4",
   "metadata": {},
   "source": [
    "# Division of data into training, validation and test  and and standardizing them"
   ]
  },
  {
   "cell_type": "code",
   "execution_count": 5,
   "id": "d2c1b39b",
   "metadata": {},
   "outputs": [],
   "source": [
    "\n",
    "X_train = X[:50000]\n",
    "y_train = y[:50000]\n",
    "\n",
    "X_val = X[51000:52000]\n",
    "y_val = y[51000:52000]\n",
    "\n",
    "X_test = X[53000:54000]\n",
    "y_test = y[53000:54000]\n"
   ]
  },
  {
   "cell_type": "code",
   "execution_count": 6,
   "id": "0b5f226e",
   "metadata": {},
   "outputs": [],
   "source": [
    "# Standardizing the data (generally always should do when using SVM models).\n",
    "scaler = StandardScaler()\n",
    "X_train_scaled = scaler.fit_transform(X_train) #fit and transform\n",
    "X_val_scaled = scaler.transform(X_val)  # only transforming  \n",
    "X_test_scaled = scaler.transform(X_test) # only transforming  "
   ]
  },
  {
   "cell_type": "code",
   "execution_count": 7,
   "id": "e49c8002",
   "metadata": {},
   "outputs": [
    {
     "data": {
      "text/plain": [
       "5"
      ]
     },
     "execution_count": 7,
     "metadata": {},
     "output_type": "execute_result"
    }
   ],
   "source": [
    "# Chack a label\n",
    "y[0]"
   ]
  },
  {
   "cell_type": "code",
   "execution_count": 8,
   "id": "cb0fad29",
   "metadata": {},
   "outputs": [
    {
     "data": {
      "text/plain": [
       "<matplotlib.image.AxesImage at 0x13de6f91610>"
      ]
     },
     "execution_count": 8,
     "metadata": {},
     "output_type": "execute_result"
    },
    {
     "data": {
      "image/png": "[encoded data removed]",
      "text/plain": [
       "<Figure size 640x480 with 1 Axes>"
      ]
     },
     "metadata": {},
     "output_type": "display_data"
    }
   ],
   "source": [
    "#Chack the image for the label\n",
    "some_digit = X[0]\n",
    "some_digit_image = some_digit.reshape(28, 28)\n",
    "plt.imshow(some_digit_image, cmap=mpl.cm.binary)"
   ]
  },
  {
   "cell_type": "code",
   "execution_count": 9,
   "id": "17684b57",
   "metadata": {},
   "outputs": [
    {
     "name": "stdout",
     "output_type": "stream",
     "text": [
      "(50000, 784)\n",
      "(50000,)\n"
     ]
    }
   ],
   "source": [
    "print(X_train.shape)\n",
    "print(y_train.shape)"
   ]
  },
  {
   "cell_type": "code",
   "execution_count": null,
   "id": "c60e5405",
   "metadata": {},
   "outputs": [],
   "source": []
  },
  {
   "cell_type": "markdown",
   "id": "87f56d04",
   "metadata": {},
   "source": [
    "# K-nearest neighbors (KNN)-model"
   ]
  },
  {
   "cell_type": "code",
   "execution_count": 10,
   "id": "49be1fcc",
   "metadata": {},
   "outputs": [],
   "source": [
    "model = KNeighborsClassifier(3)"
   ]
  },
  {
   "cell_type": "code",
   "execution_count": 11,
   "id": "e4fabf11",
   "metadata": {},
   "outputs": [
    {
     "data": {
      "text/html": [
       "<style>#sk-container-id-1 {color: black;}#sk-container-id-1 pre{padding: 0;}#sk-container-id-1 div.sk-toggleable {background-color: white;}#sk-container-id-1 label.sk-toggleable__label {cursor: pointer;display: block;width: 100%;margin-bottom: 0;padding: 0.3em;box-sizing: border-box;text-align: center;}#sk-container-id-1 label.sk-toggleable__label-arrow:before {content: \"▸\";float: left;margin-right: 0.25em;color: #696969;}#sk-container-id-1 label.sk-toggleable__label-arrow:hover:before {color: black;}#sk-container-id-1 div.sk-estimator:hover label.sk-toggleable__label-arrow:before {color: black;}#sk-container-id-1 div.sk-toggleable__content {max-height: 0;max-width: 0;overflow: hidden;text-align: left;background-color: #f0f8ff;}#sk-container-id-1 div.sk-toggleable__content pre {margin: 0.2em;color: black;border-radius: 0.25em;background-color: #f0f8ff;}#sk-container-id-1 input.sk-toggleable__control:checked~div.sk-toggleable__content {max-height: 200px;max-width: 100%;overflow: auto;}#sk-container-id-1 input.sk-toggleable__control:checked~label.sk-toggleable__label-arrow:before {content: \"▾\";}#sk-container-id-1 div.sk-estimator input.sk-toggleable__control:checked~label.sk-toggleable__label {background-color: #d4ebff;}#sk-container-id-1 div.sk-label input.sk-toggleable__control:checked~label.sk-toggleable__label {background-color: #d4ebff;}#sk-container-id-1 input.sk-hidden--visually {border: 0;clip: rect(1px 1px 1px 1px);clip: rect(1px, 1px, 1px, 1px);height: 1px;margin: -1px;overflow: hidden;padding: 0;position: absolute;width: 1px;}#sk-container-id-1 div.sk-estimator {font-family: monospace;background-color: #f0f8ff;border: 1px dotted black;border-radius: 0.25em;box-sizing: border-box;margin-bottom: 0.5em;}#sk-container-id-1 div.sk-estimator:hover {background-color: #d4ebff;}#sk-container-id-1 div.sk-parallel-item::after {content: \"\";width: 100%;border-bottom: 1px solid gray;flex-grow: 1;}#sk-container-id-1 div.sk-label:hover label.sk-toggleable__label {background-color: #d4ebff;}#sk-container-id-1 div.sk-serial::before {content: \"\";position: absolute;border-left: 1px solid gray;box-sizing: border-box;top: 0;bottom: 0;left: 50%;z-index: 0;}#sk-container-id-1 div.sk-serial {display: flex;flex-direction: column;align-items: center;background-color: white;padding-right: 0.2em;padding-left: 0.2em;position: relative;}#sk-container-id-1 div.sk-item {position: relative;z-index: 1;}#sk-container-id-1 div.sk-parallel {display: flex;align-items: stretch;justify-content: center;background-color: white;position: relative;}#sk-container-id-1 div.sk-item::before, #sk-container-id-1 div.sk-parallel-item::before {content: \"\";position: absolute;border-left: 1px solid gray;box-sizing: border-box;top: 0;bottom: 0;left: 50%;z-index: -1;}#sk-container-id-1 div.sk-parallel-item {display: flex;flex-direction: column;z-index: 1;position: relative;background-color: white;}#sk-container-id-1 div.sk-parallel-item:first-child::after {align-self: flex-end;width: 50%;}#sk-container-id-1 div.sk-parallel-item:last-child::after {align-self: flex-start;width: 50%;}#sk-container-id-1 div.sk-parallel-item:only-child::after {width: 0;}#sk-container-id-1 div.sk-dashed-wrapped {border: 1px dashed gray;margin: 0 0.4em 0.5em 0.4em;box-sizing: border-box;padding-bottom: 0.4em;background-color: white;}#sk-container-id-1 div.sk-label label {font-family: monospace;font-weight: bold;display: inline-block;line-height: 1.2em;}#sk-container-id-1 div.sk-label-container {text-align: center;}#sk-container-id-1 div.sk-container {/* jupyter's `normalize.less` sets `[hidden] { display: none; }` but bootstrap.min.css set `[hidden] { display: none !important; }` so we also need the `!important` here to be able to override the default hidden behavior on the sphinx rendered scikit-learn.org. See: https://github.com/scikit-learn/scikit-learn/issues/21755 */display: inline-block !important;position: relative;}#sk-container-id-1 div.sk-text-repr-fallback {display: none;}</style><div id=\"sk-container-id-1\" class=\"sk-top-container\"><div class=\"sk-text-repr-fallback\"><pre>KNeighborsClassifier(n_neighbors=3)</pre><b>In a Jupyter environment, please rerun this cell to show the HTML representation or trust the notebook. <br />On GitHub, the HTML representation is unable to render, please try loading this page with nbviewer.org.</b></div><div class=\"sk-container\" hidden><div class=\"sk-item\"><div class=\"sk-estimator sk-toggleable\"><input class=\"sk-toggleable__control sk-hidden--visually\" id=\"sk-estimator-id-1\" type=\"checkbox\" checked><label for=\"sk-estimator-id-1\" class=\"sk-toggleable__label sk-toggleable__label-arrow\">KNeighborsClassifier</label><div class=\"sk-toggleable__content\"><pre>KNeighborsClassifier(n_neighbors=3)</pre></div></div></div></div></div>"
      ],
      "text/plain": [
       "KNeighborsClassifier(n_neighbors=3)"
      ]
     },
     "execution_count": 11,
     "metadata": {},
     "output_type": "execute_result"
    }
   ],
   "source": [
    "#Trening of  KNN model, hyperparameter selection\n",
    "\n",
    "model.fit(X_train_scaled, y_train)"
   ]
  },
  {
   "cell_type": "code",
   "execution_count": 12,
   "id": "bb055538",
   "metadata": {},
   "outputs": [],
   "source": [
    "#Validation KNN-model\n",
    "y_val_pred_knn = model.predict(X_val_scaled)"
   ]
  },
  {
   "cell_type": "code",
   "execution_count": 13,
   "id": "df68942b",
   "metadata": {},
   "outputs": [
    {
     "name": "stdout",
     "output_type": "stream",
     "text": [
      "Accuracy of KNN on validation data: 0.957\n"
     ]
    }
   ],
   "source": [
    "#Checking the accuracy of the prediction of KNN-model\n",
    "accuracy_knn_val = accuracy_score(y_val, y_val_pred_knn)\n",
    "print(\"Accuracy of KNN on validation data:\",accuracy_knn_val)"
   ]
  },
  {
   "cell_type": "code",
   "execution_count": 14,
   "id": "98749c55",
   "metadata": {},
   "outputs": [
    {
     "data": {
      "text/plain": [
       "['model_knn.joblib']"
      ]
     },
     "execution_count": 14,
     "metadata": {},
     "output_type": "execute_result"
    }
   ],
   "source": [
    "#Saving the model\n",
    "joblib.dump(model, 'model_knn.joblib')"
   ]
  },
  {
   "cell_type": "code",
   "execution_count": 15,
   "id": "c8c36b1b",
   "metadata": {},
   "outputs": [],
   "source": [
    "# Ladda modell\n",
    "loaded_model = joblib.load('model_knn.joblib')"
   ]
  },
  {
   "cell_type": "code",
   "execution_count": 16,
   "id": "96c7333d",
   "metadata": {},
   "outputs": [],
   "source": [
    "# Gör förutsägelser\n",
    "predicted_test = loaded_model.predict(X_test_scaled)\n"
   ]
  },
  {
   "cell_type": "code",
   "execution_count": 17,
   "id": "2e5499c1",
   "metadata": {},
   "outputs": [
    {
     "name": "stdout",
     "output_type": "stream",
     "text": [
      "Accuracy Score on Test Data: 0.943\n"
     ]
    }
   ],
   "source": [
    "#Compute accuracy score for KNN model (test data)\n",
    "accuracy_test_knn = accuracy_score(y_test, predicted_test)\n",
    "print(\"Accuracy Score on Test Data:\", accuracy_test_knn)"
   ]
  },
  {
   "cell_type": "markdown",
   "id": "0be641e4",
   "metadata": {},
   "source": [
    "# My images"
   ]
  },
  {
   "cell_type": "markdown",
   "id": "5d9ebc7a",
   "metadata": {},
   "source": [
    "Checking models in photographs that I took myself:\n"
   ]
  },
  {
   "cell_type": "code",
   "execution_count": 18,
   "id": "4c05ce4b",
   "metadata": {},
   "outputs": [],
   "source": [
    "#Image pre-processing\n",
    "\n",
    "def preprocess_image(image_path):    \n",
    "    \n",
    "    # Load the image\n",
    "    image = cv2.imread(image_path)\n",
    "    \n",
    "    # Convert to grayscale\n",
    "    grayscale_image = cv2.cvtColor(image, cv2.COLOR_BGR2GRAY)\n",
    "    \n",
    "    # Transform the image to 28x28 pixels\n",
    "    resized_image = cv2.resize(grayscale_image, (28, 28), interpolation=cv2.INTER_AREA)\n",
    "    \n",
    "  \n",
    "    \n",
    " # Change the color of the pixels\n",
    "    lower_pixel = 140  # Do not change black pixels to white\n",
    "    upper_pixel = 160  # Change white pixels to black\n",
    "    \n",
    "    for i in range(resized_image.shape[0]):\n",
    "        for j in range(resized_image.shape[1]):\n",
    "            if resized_image[i, j] <= lower_pixel:\n",
    "                resized_image[i, j] = 0\n",
    "            elif resized_image[i, j] > upper_pixel:\n",
    "                resized_image[i, j] = 255\n",
    "                \n",
    "    normalized_image = resized_image\n",
    "    resized_image = cv2.bitwise_not( resized_image) #invert the pixel values\n",
    "\n",
    "     \n",
    "    \n",
    "    # Flattens the image into a vector with 784 features\n",
    "    flattened_image = resized_image.flatten().reshape(1, -1)\n",
    "    \n",
    "   \n",
    "    \n",
    "    return resized_image, normalized_image, flattened_image\n",
    "\n",
    "\n"
   ]
  },
  {
   "cell_type": "code",
   "execution_count": 19,
   "id": "b927b5be",
   "metadata": {},
   "outputs": [],
   "source": [
    "#Getting an image from a folder\n",
    "image_path = r\"0.jpg\""
   ]
  },
  {
   "cell_type": "code",
   "execution_count": 20,
   "id": "11949b1e",
   "metadata": {},
   "outputs": [],
   "source": [
    "#Image pre-processing\n",
    "resized_image, normalized_image, flattened_image = preprocess_image(image_path)"
   ]
  },
  {
   "cell_type": "code",
   "execution_count": 21,
   "id": "e33c3eab",
   "metadata": {},
   "outputs": [
    {
     "data": {
      "text/plain": [
       "<matplotlib.image.AxesImage at 0x13de6fb4bd0>"
      ]
     },
     "execution_count": 21,
     "metadata": {},
     "output_type": "execute_result"
    },
    {
     "data": {
      "image/png": "[encoded data removed]",
      "text/plain": [
       "<Figure size 640x480 with 1 Axes>"
      ]
     },
     "metadata": {},
     "output_type": "display_data"
    }
   ],
   "source": [
    "# Image after changing the color of the pixels\n",
    "plt.imshow(normalized_image, cmap='gray')\n"
   ]
  },
  {
   "cell_type": "code",
   "execution_count": 22,
   "id": "39ca6873",
   "metadata": {},
   "outputs": [
    {
     "data": {
      "text/plain": [
       "<matplotlib.image.AxesImage at 0x13d939483d0>"
      ]
     },
     "execution_count": 22,
     "metadata": {},
     "output_type": "execute_result"
    },
    {
     "data": {
      "image/png": "[encoded data removed]",
      "text/plain": [
       "<Figure size 640x480 with 1 Axes>"
      ]
     },
     "metadata": {},
     "output_type": "display_data"
    }
   ],
   "source": [
    "# Image after invert the pixel values\n",
    "plt.imshow(resized_image, cmap='gray')"
   ]
  },
  {
   "cell_type": "code",
   "execution_count": 23,
   "id": "6cd3cfc1",
   "metadata": {},
   "outputs": [
    {
     "name": "stdout",
     "output_type": "stream",
     "text": [
      "Prediction knn: [0]\n"
     ]
    }
   ],
   "source": [
    "# Prediction av KNN-model on the preprocessed image\n",
    "\n",
    "my_image_predict = loaded_model.predict(flattened_image)\n",
    "print(\"Prediction knn:\", my_image_predict)"
   ]
  },
  {
   "cell_type": "code",
   "execution_count": null,
   "id": "77d5dc6d",
   "metadata": {},
   "outputs": [],
   "source": []
  },
  {
   "cell_type": "code",
   "execution_count": null,
   "id": "2041f946",
   "metadata": {},
   "outputs": [],
   "source": []
  }
 ],
 "metadata": {
  "kernelspec": {
   "display_name": "Python 3 (ipykernel)",
   "language": "python",
   "name": "python3"
  },
  "language_info": {
   "codemirror_mode": {
    "name": "ipython",
    "version": 3
   },
   "file_extension": ".py",
   "mimetype": "text/x-python",
   "name": "python",
   "nbconvert_exporter": "python",
   "pygments_lexer": "ipython3",
   "version": "3.9.18"
  }
 },
 "nbformat": 4,
 "nbformat_minor": 5
}
