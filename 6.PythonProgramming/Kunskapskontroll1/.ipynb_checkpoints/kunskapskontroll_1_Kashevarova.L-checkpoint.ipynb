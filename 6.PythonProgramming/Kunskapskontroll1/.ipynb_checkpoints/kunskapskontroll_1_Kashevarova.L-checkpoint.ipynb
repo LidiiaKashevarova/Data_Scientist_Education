{
 "cells": [
  {
   "cell_type": "markdown",
   "id": "d5c74153",
   "metadata": {},
   "source": [
    "# Fördjupad Pythonprogrammering\n",
    "\n",
    "## Kunskapskontrol 1\n",
    "\n",
    "## Lidiia Kashevarova "
   ]
  },
  {
   "cell_type": "code",
   "execution_count": null,
   "id": "1bf6ee4b",
   "metadata": {},
   "outputs": [],
   "source": []
  },
  {
   "cell_type": "markdown",
   "id": "96bacd56",
   "metadata": {},
   "source": [
    "# Fråga 1"
   ]
  },
  {
   "cell_type": "markdown",
   "id": "ebf216c2",
   "metadata": {},
   "source": [
    "Koden konfigurerar ett grafiskt användargränssnitt (GUI) med hjälp av Tkinter för att visa och interagera med data från en CSV-fil. Användaren kan justera bredden på kolumnerna för att förbättra visningen av data och sedan exportera den till en ny CSV-fil. Dessutom inkluderar applikationen felhantering. "
   ]
  },
  {
   "cell_type": "code",
   "execution_count": null,
   "id": "d25b4e36",
   "metadata": {},
   "outputs": [],
   "source": [
    "import pandas as pd # Imports the Pandas library\n",
    "import tkinter as tk # Imports the tkinter library, which is used for creating graphical user interfaces (GUIs) in Python\n",
    "from tkinter import ttk, filedialog, messagebox # Imports specific components from tkinter:\n",
    "# - `ttk`: A themed widget set for tkinter, providing a modern look.\n",
    "# - `filedialog`: Provides functions to open file dialogs, allowing users to choose files from their file system.\n",
    "# - `messagebox`: Allows displaying pop-up dialog boxes for messages like warnings or confirmations.\n",
    "\n",
    "# Läs in CSV-filen\n",
    "df = pd.read_csv('test_data.csv')# Reads the CSV file\n",
    "\n",
    "class VehicleViewerApp:\n",
    "    def __init__(self, root):\n",
    "        self.root = root\n",
    "        self.root.title(\"Autostrada - CSV Viewer\")\n",
    "        self.filtered_df = df.copy()  # Save filtered dataframe here\n",
    "\n",
    "        # Set window icon\n",
    "        self.set_window_icon()\n",
    "\n",
    "        # Style configurations\n",
    "        style = ttk.Style()\n",
    "        style.configure(\"Treeview\", rowheight=30, font=('Arial', 10))# Sets the row height and font for the table\n",
    "        style.configure(\"Treeview.Heading\", font=('Arial', 12, 'bold')) # Configures the table headings\n",
    "        style.configure(\"Treeview\", background=\"#F5F5F5\", foreground=\"#000000\", fieldbackground=\"#FFFFFF\")# Table background and foreground colors\n",
    "        style.configure('TButton', font=('Arial', 10), padding=6)# Configures the button style\n",
    "\n",
    "        # Create a main frame\n",
    "        main_frame = tk.Frame(root, bg=\"#EAEAEA\")\n",
    "        main_frame.grid(row=0, column=0, sticky=\"nsew\", padx=10, pady=10)\n",
    "\n",
    "        # Create filter frame\n",
    "        filter_frame = tk.Frame(main_frame, bg=\"#EAEAEA\")\n",
    "        filter_frame.grid(row=0, column=0, sticky=\"ew\")\n",
    "\n",
    "        # Add a label and entry for filtering\n",
    "        self.filter_label = tk.Label(filter_frame, text=\"Filter (Column:Value):\", bg=\"#EAEAEA\")# frame where the label will appear and the text that will appear in the label\n",
    "        self.filter_label.grid(row=0, column=0, padx=5, pady=5, sticky=\"w\")\n",
    "\n",
    "        self.filter_entry = tk.Entry(filter_frame, width=40) # Text input for filter criteria\n",
    "        self.filter_entry.grid(row=0, column=1, padx=5, pady=5)\n",
    "\n",
    "        self.filter_button = tk.Button(filter_frame, text=\"Apply Filter\", command=self.apply_filter) # Button to apply the filter\n",
    "        self.filter_button.grid(row=0, column=2, padx=5, pady=5)\n",
    "\n",
    "        # Result Display as a table\n",
    "        self.tree = ttk.Treeview(main_frame, columns=[col for col in df.columns], show='headings') # Create a table to display CSV data\n",
    "        self.tree.grid(row=1, column=0, padx=10, pady=10, sticky='nsew')\n",
    "\n",
    "        # Scrollbars\n",
    "        self.vsb = ttk.Scrollbar(main_frame, orient=\"vertical\", command=self.tree.yview)  # Add vertical scrollbars for the table\n",
    "        self.vsb.grid(row=1, column=1, sticky='ns')\n",
    "        self.tree.configure(yscrollcommand=self.vsb.set)\n",
    "\n",
    "        self.hsb = ttk.Scrollbar(main_frame, orient=\"horizontal\", command=self.tree.xview)#Add horizontal scrollbars for the table\n",
    "        self.hsb.grid(row=2, column=0, columnspan=2, sticky='ew')\n",
    "        self.tree.configure(xscrollcommand=self.hsb.set)\n",
    "\n",
    "        # Set column headings and initial column width\n",
    "        for col in df.columns:\n",
    "            self.tree.heading(col, text=col)\n",
    "            self.tree.column(col, width=100, stretch=tk.NO)  # Initial width, stretch turned off\n",
    "\n",
    "        self.auto_adjust_column_width()  # Automatically adjust the column widths based on content\n",
    "\n",
    "\n",
    "        # Row count label\n",
    "        self.row_count_label = tk.Label(main_frame, text=f\"Antal rader: {len(df)}\", font=('Arial', 10, 'bold'), bg=\"#EAEAEA\")\n",
    "        self.row_count_label.grid(row=2, column=0, pady=10, sticky=\"w\")\n",
    "\n",
    "        # Configure grid weights\n",
    "        main_frame.grid_rowconfigure(1, weight=1)\n",
    "        main_frame.grid_columnconfigure(0, weight=1)\n",
    "\n",
    "        # Make the main window resize with the content\n",
    "        self.root.grid_rowconfigure(0, weight=1)\n",
    "        self.root.grid_columnconfigure(0, weight=1)\n",
    "\n",
    "        # Display the full data\n",
    "        self.display_results(self.filtered_df)\n",
    "\n",
    "    def set_window_icon(self):\n",
    "        try:\n",
    "            # Load and set the window icon\n",
    "            self.icon_image = tk.PhotoImage(file='icon.png')  # Path to your icon file\n",
    "            self.root.iconphoto(True, self.icon_image) # Set the icon for the window\n",
    "        except tk.TclError:\n",
    "            # Handle error if icon cannot be loaded\n",
    "            print(\"Error loading icon image. Make sure the file path is correct and the file is a valid image format.\")\n",
    "\n",
    "    def auto_adjust_column_width(self):\n",
    "        # Create a label for text measurement\n",
    "        label = tk.Label(self.root, font=('Arial', 10))\n",
    "        \n",
    "         # Initialize max_width dictionary to store max width for each column\n",
    "        max_width = {col: len(self.tree.heading(col, 'text')) * 10 for col in self.tree[\"columns\"]}  \n",
    "\n",
    "        # Adjust width across all lines\n",
    "        for item in self.tree.get_children():\n",
    "            row_values = self.tree.item(item, 'values')\n",
    "            for col, value in zip(self.tree[\"columns\"], row_values):\n",
    "                label.config(text=value)\n",
    "                text_width = label.winfo_reqwidth()\n",
    "                max_width[col] = max(max_width[col], text_width)\n",
    "\n",
    "        # Set column width based on the widest content\n",
    "        for col, width in max_width.items():\n",
    "            self.tree.column(col, width=width + 20)  # Add extra padding\n",
    "\n",
    "    def display_results(self, df_to_display):\n",
    "        # Clear previous results\n",
    "        for item in self.tree.get_children():\n",
    "            self.tree.delete(item)\n",
    "\n",
    "        # Display results\n",
    "        for _, row in df_to_display.iterrows():\n",
    "            self.tree.insert(\"\", \"end\", values=row.tolist())\n",
    "\n",
    "    def apply_filter(self):\n",
    "        filter_text = self.filter_entry.get() # Get the filter text from input\n",
    "        if not filter_text:\n",
    "            self.filtered_df = df.copy()  # If filter is empty, reset to full DataFrame\n",
    "        else:\n",
    "            try: \n",
    "                #Parse the filter input as 'Column:Value'\n",
    "                column, value = filter_text.split(':', 1)\n",
    "                column = column.strip() # Remove any extra spaces\n",
    "                value = value.strip()\n",
    "                \n",
    "                 # Apply filter if column exists in the DataFrame\n",
    "                if column in df.columns:\n",
    "                    self.filtered_df = df[df[column].astype(str).str.contains(value, case=False, na=False)]\n",
    "                else:\n",
    "                    messagebox.showwarning(\"Invalid Column\", f\"Column '{column}' does not exist.\")\n",
    "                    self.filtered_df = df.copy()\n",
    "            except ValueError:\n",
    "                messagebox.showwarning(\"Invalid Filter\", \"Filter format should be 'Column:Value'.\")\n",
    "                self.filtered_df = df.copy()\n",
    "\n",
    "        # Update the display with filtered data\n",
    "        self.display_results(self.filtered_df)\n",
    "        self.row_count_label.config(text=f\"Antal rader: {len(self.filtered_df)}\")# Update row count\n",
    "\n",
    "    def export_to_csv(self):\n",
    "        # Ask user for a file name and location\n",
    "        file_path = filedialog.asksaveasfilename(defaultextension=\".csv\",\n",
    "                                                 filetypes=[(\"CSV files\", \"*.csv\"), (\"All files\", \"*.*\")])\n",
    "        if not file_path:\n",
    "            return  # User canceled the save dialog\n",
    "\n",
    "        try:\n",
    "            # Export DataFrame to CSV with UTF-8 encoding\n",
    "            self.filtered_df.to_csv(file_path, index=False, encoding='utf-8-sig')\n",
    "            messagebox.showinfo(\"Export Success\", \"Data exported successfully!\")\n",
    "        except Exception as e:\n",
    "            messagebox.showerror(\"Export Error\", f\"An error occurred while exporting the data:\\n{e}\")\n",
    "\n",
    "\n",
    "# Create the application window\n",
    "root = tk.Tk() # Tkinter window\n",
    "app = VehicleViewerApp(root) #VehicleViewerApp\n",
    "root.mainloop() # Start the loop "
   ]
  },
  {
   "cell_type": "markdown",
   "id": "ba215df1",
   "metadata": {},
   "source": [
    "![Result](f_1.png)"
   ]
  },
  {
   "cell_type": "markdown",
   "id": "c69344c6",
   "metadata": {},
   "source": [
    "# Fråga 2"
   ]
  },
  {
   "cell_type": "code",
   "execution_count": null,
   "id": "58027f9e",
   "metadata": {},
   "outputs": [],
   "source": []
  },
  {
   "cell_type": "markdown",
   "id": "0b46840d",
   "metadata": {},
   "source": [
    "## Kapitel 6"
   ]
  },
  {
   "cell_type": "markdown",
   "id": "283e3b3f",
   "metadata": {},
   "source": [
    "1. Kolla vilka klasser variablerna a, b, c, och d tillhör genom att använda type() funktionen.\n",
    "   Notera att vi i variablen d har sparat en funktion. Vi hade kunnat anropa den genom att till exempel skriva d(2). "
   ]
  },
  {
   "cell_type": "code",
   "execution_count": 143,
   "id": "6f90625e",
   "metadata": {},
   "outputs": [],
   "source": [
    "a = 10 \n",
    "b = [5, 7, 3] \n",
    "c = {2, 7, 1, 8, 2, 8}\n",
    "\n",
    "def my_fun(x):\n",
    "    return 2*2\n",
    "\n",
    "d = my_fun"
   ]
  },
  {
   "cell_type": "code",
   "execution_count": 144,
   "id": "31760a78",
   "metadata": {},
   "outputs": [
    {
     "name": "stdout",
     "output_type": "stream",
     "text": [
      "<class 'int'>\n",
      "<class 'list'>\n",
      "<class 'set'>\n",
      "<class 'function'>\n",
      "4\n"
     ]
    }
   ],
   "source": [
    "print(type(a))\n",
    "print(type(b))\n",
    "print(type(c))\n",
    "print(type(d))\n",
    "e=d(2)\n",
    "print(e)"
   ]
  },
  {
   "cell_type": "markdown",
   "id": "17bbd58f",
   "metadata": {},
   "source": [
    "2. a) Kolla om variablen \"my_variable\" är en instans av \"tuple\" klassen genom att använda isinstance() funktionen.\n",
    "   \n",
    "   b) Kolla om variablen \"my_variable\" är en instans av \"list\" klassen genom att använda isinstance() funktionen."
   ]
  },
  {
   "cell_type": "code",
   "execution_count": 145,
   "id": "654b7ee7",
   "metadata": {},
   "outputs": [],
   "source": [
    "my_variable = (1, 1, 2, 3, 5)"
   ]
  },
  {
   "cell_type": "code",
   "execution_count": 146,
   "id": "e76aaf8c",
   "metadata": {},
   "outputs": [
    {
     "name": "stdout",
     "output_type": "stream",
     "text": [
      "True\n"
     ]
    }
   ],
   "source": [
    "is_tuple = isinstance(my_variable, tuple)\n",
    "print(is_tuple) "
   ]
  },
  {
   "cell_type": "code",
   "execution_count": 147,
   "id": "b2baf5fb",
   "metadata": {},
   "outputs": [
    {
     "name": "stdout",
     "output_type": "stream",
     "text": [
      "False\n"
     ]
    }
   ],
   "source": [
    "is_list = isinstance(my_variable, list)\n",
    "print(is_list) "
   ]
  },
  {
   "cell_type": "markdown",
   "id": "ea9324b8",
   "metadata": {},
   "source": [
    "3. I denna uppgiften skall du göra följande:\n",
    " \n",
    "   a) Skapa en klass som heter \"FruitProduct\" som har en docstring där det står \"A class representing fruit products in a grocery store.\".\n",
    "   \n",
    "   b) Klassen skall ha instans-attributen \"price\" och \"quantity\". Detta gör du i samband med _\\_\\_init_\\__() .\n",
    "   \n",
    "   c) Instantiera klassen och spara instansen i variablen \"swedish_apples\". Dess pris skall vara 52 och dess kvantitet 1. Det är underförstått att vi menar kronor respektive kg. \n",
    "   \n",
    "   d) Printa ut klassens docstring genom att använda dig av _\\_\\_doc_\\_\\_.\n",
    "   \n",
    "   e) Printa ut attributen från \"swedish_apples\" instansen.\n",
    "   \n",
    "   f) Kolla vilken klass instansen \"swedish_apples\" tillhör genom att använda type() metoden.\n",
    "   \n",
    "   g) Kolla om \"swedish_apples\" tillhör klassen \"FruitProduct\" genom att använda isinstance() metoden."
   ]
  },
  {
   "cell_type": "code",
   "execution_count": 148,
   "id": "f234df52",
   "metadata": {},
   "outputs": [
    {
     "name": "stdout",
     "output_type": "stream",
     "text": [
      "A class representing fruit products in a grocery store.\n",
      "Price: 52 per  Quantity: 1 kg\n"
     ]
    }
   ],
   "source": [
    "class FruitProduct:\n",
    "    \"\"\"A class representing fruit products in a grocery store.\"\"\"\n",
    "    \n",
    "    def __init__(self, price, quantity):\n",
    "        self.price=price\n",
    "        self.quantity=quantity\n",
    "        \n",
    "swedish_apples=FruitProduct(52, 1) \n",
    "\n",
    "print(FruitProduct.__doc__)\n",
    "print(f'Price: {swedish_apples.price} per  Quantity: {swedish_apples.quantity} kg')\n"
   ]
  },
  {
   "cell_type": "code",
   "execution_count": 149,
   "id": "471eced8",
   "metadata": {},
   "outputs": [
    {
     "data": {
      "text/plain": [
       "__main__.FruitProduct"
      ]
     },
     "execution_count": 149,
     "metadata": {},
     "output_type": "execute_result"
    }
   ],
   "source": [
    "type(swedish_apples)"
   ]
  },
  {
   "cell_type": "code",
   "execution_count": 150,
   "id": "b15b70e7",
   "metadata": {},
   "outputs": [
    {
     "data": {
      "text/plain": [
       "True"
      ]
     },
     "execution_count": 150,
     "metadata": {},
     "output_type": "execute_result"
    }
   ],
   "source": [
    "isinstance(swedish_apples,FruitProduct)"
   ]
  },
  {
   "cell_type": "markdown",
   "id": "da7883e9",
   "metadata": {},
   "source": [
    "4. Skapa en klass \"Square\" vars instanser har attributet \"side_length\". Skapa två metoder, \"perimeter()\" och \"area()\" där metoderna beräknar omkretsen respektive arean givet längden på kvadraternas sidor som finns i attributet \"side_length\". Skapa en instans \"my_square\" med sidlängden 8. Beräkna omkretsen och arean av \"my_square\" genom att använda de två metoderna som du har skapat. "
   ]
  },
  {
   "cell_type": "code",
   "execution_count": 151,
   "id": "5a29178a",
   "metadata": {},
   "outputs": [],
   "source": [
    "class Sguare:\n",
    "    \n",
    "    def __init__(self, side_length):\n",
    "        self.side_length=side_length\n",
    "    \n",
    "    def perimetr(self):\n",
    "        return self.side_length*4\n",
    "      \n",
    "    \n",
    "    def area(self):\n",
    "        return self.side_length**2"
   ]
  },
  {
   "cell_type": "code",
   "execution_count": 152,
   "id": "7c257801",
   "metadata": {},
   "outputs": [
    {
     "name": "stdout",
     "output_type": "stream",
     "text": [
      "Perimetr: 20 and area: 25\n"
     ]
    }
   ],
   "source": [
    "my_sguare=Sguare(5)\n",
    "\n",
    "print(f'Perimetr: {my_sguare.perimetr()} and area: {my_sguare.area()}')"
   ]
  },
  {
   "cell_type": "markdown",
   "id": "01985dae",
   "metadata": {},
   "source": [
    "5. a) Förklara vad nedanstående kod gör.\n",
    "   \n",
    "   b) Prova ändra variabeln L i koden nedan till en tuple och se vad som sker när du kör om all kod. "
   ]
  },
  {
   "cell_type": "code",
   "execution_count": 153,
   "id": "757bf68f",
   "metadata": {},
   "outputs": [],
   "source": [
    "class DescriptiveStatistics():\n",
    "    \"\"\"This class provides functionality for calculating descriptive statistics from a list.\"\"\" #brief descriptions of what the class does\n",
    "    \n",
    "    def __init__(self):  #method constructor is used when a new instance of the class is created\n",
    "        self.data = []\n",
    "    \n",
    "    def add_data(self, data): #method takes the data and adds it to the list self.data\n",
    "        if isinstance(data, list): #checks if the data is a list\n",
    "            self.data.extend(data) # If the data is a list, its contents are appended to self.data using self.data.extend(data).\n",
    "        else:\n",
    "            # Code below raises an error if the data is not a list. Will be covered in chapter 8 of the book. \n",
    "            raise Exception('Only \"Lists\" are accepted as data.')#If the data is not a list, the method throws an Exception with an error message\n",
    "            \n",
    "    def calc_sum(self): #method returns the sum of all elements in self.data\n",
    "        return sum(self.data) #sum() is Python-funktionen\n",
    "    \n",
    "    def calc_nbr_of_elements(self): #method returns the number of all elements in self.data\n",
    "        return len(self.data)  #method returns the numberfunktionen\n",
    "    \n",
    "    def calc_mean(self): #method calculates and returns the mean  of all elements i self.data \n",
    "        return (self.calc_sum())/(self.calc_nbr_of_elements())\n",
    "    \n",
    "    def print_summary(self):\n",
    "        print('Sum:', self.calc_sum())\n",
    "        print('Number of elements:', self.calc_nbr_of_elements())\n",
    "        print('Mean:', self.calc_mean())  "
   ]
  },
  {
   "cell_type": "code",
   "execution_count": 154,
   "id": "e810af23",
   "metadata": {},
   "outputs": [],
   "source": [
    "L = [1, 2, 1, 3, 5, 7, 4, 9, 10, 3, 2, 1, 6, 4, 3, 2, 1, 10, 9, 1, 8, 7, 3, 2, 1]\n",
    "my_data = DescriptiveStatistics()\n",
    "my_data.add_data(L)"
   ]
  },
  {
   "cell_type": "code",
   "execution_count": 155,
   "id": "8fed8991",
   "metadata": {},
   "outputs": [
    {
     "data": {
      "text/plain": [
       "[1, 2, 1, 3, 5, 7, 4, 9, 10, 3, 2, 1, 6, 4, 3, 2, 1, 10, 9, 1, 8, 7, 3, 2, 1]"
      ]
     },
     "execution_count": 155,
     "metadata": {},
     "output_type": "execute_result"
    }
   ],
   "source": [
    "my_data.data"
   ]
  },
  {
   "cell_type": "code",
   "execution_count": 156,
   "id": "f0b5c6e6",
   "metadata": {},
   "outputs": [
    {
     "name": "stdout",
     "output_type": "stream",
     "text": [
      "Sum: 105\n",
      "Number of elements: 25\n",
      "Mean: 4.2\n"
     ]
    }
   ],
   "source": [
    "print('Sum:', my_data.calc_sum())\n",
    "print('Number of elements:', my_data.calc_nbr_of_elements())\n",
    "print('Mean:', my_data.calc_mean())"
   ]
  },
  {
   "cell_type": "code",
   "execution_count": 157,
   "id": "e8d9fef8",
   "metadata": {},
   "outputs": [
    {
     "name": "stdout",
     "output_type": "stream",
     "text": [
      "Sum: 105\n",
      "Number of elements: 25\n",
      "Mean: 4.2\n"
     ]
    }
   ],
   "source": [
    "my_data.print_summary()"
   ]
  },
  {
   "cell_type": "code",
   "execution_count": 158,
   "id": "ee400648",
   "metadata": {},
   "outputs": [
    {
     "data": {
      "text/plain": [
       "tuple"
      ]
     },
     "execution_count": 158,
     "metadata": {},
     "output_type": "execute_result"
    }
   ],
   "source": [
    "L = (1, 2, 1, 3, 5, 7, 4, 9, 10, 3, 2, 1, 6, 4, 3, 2, 1, 10, 9, 1, 8, 7, 3, 2, 1)\n",
    "type(L)"
   ]
  },
  {
   "cell_type": "code",
   "execution_count": 159,
   "id": "f6f62af8",
   "metadata": {},
   "outputs": [
    {
     "ename": "Exception",
     "evalue": "Only \"Lists\" are accepted as data.",
     "output_type": "error",
     "traceback": [
      "\u001b[1;31m---------------------------------------------------------------------------\u001b[0m",
      "\u001b[1;31mException\u001b[0m                                 Traceback (most recent call last)",
      "Cell \u001b[1;32mIn[159], line 2\u001b[0m\n\u001b[0;32m      1\u001b[0m my_data \u001b[38;5;241m=\u001b[39m DescriptiveStatistics()\n\u001b[1;32m----> 2\u001b[0m \u001b[43mmy_data\u001b[49m\u001b[38;5;241;43m.\u001b[39;49m\u001b[43madd_data\u001b[49m\u001b[43m(\u001b[49m\u001b[43mL\u001b[49m\u001b[43m)\u001b[49m\n",
      "Cell \u001b[1;32mIn[153], line 12\u001b[0m, in \u001b[0;36mDescriptiveStatistics.add_data\u001b[1;34m(self, data)\u001b[0m\n\u001b[0;32m      9\u001b[0m     \u001b[38;5;28mself\u001b[39m\u001b[38;5;241m.\u001b[39mdata\u001b[38;5;241m.\u001b[39mextend(data) \u001b[38;5;66;03m# If the data is a list, its contents are appended to self.data using self.data.extend(data).\u001b[39;00m\n\u001b[0;32m     10\u001b[0m \u001b[38;5;28;01melse\u001b[39;00m:\n\u001b[0;32m     11\u001b[0m     \u001b[38;5;66;03m# Code below raises an error if the data is not a list. Will be covered in chapter 8 of the book. \u001b[39;00m\n\u001b[1;32m---> 12\u001b[0m     \u001b[38;5;28;01mraise\u001b[39;00m \u001b[38;5;167;01mException\u001b[39;00m(\u001b[38;5;124m'\u001b[39m\u001b[38;5;124mOnly \u001b[39m\u001b[38;5;124m\"\u001b[39m\u001b[38;5;124mLists\u001b[39m\u001b[38;5;124m\"\u001b[39m\u001b[38;5;124m are accepted as data.\u001b[39m\u001b[38;5;124m'\u001b[39m)\n",
      "\u001b[1;31mException\u001b[0m: Only \"Lists\" are accepted as data."
     ]
    }
   ],
   "source": [
    "my_data = DescriptiveStatistics()\n",
    "my_data.add_data(L)"
   ]
  },
  {
   "cell_type": "markdown",
   "id": "2ed78d8a",
   "metadata": {},
   "source": [
    "6. a) Skapa en klass som heter BankAccount. Klassen skall ha attributet \"account_holder\" som visar kontoinnehavarens namn samt attributet \"balance\" som visar kontoinnehavarens balans. Klassen skall ha metoden \"deposit()\" för att kunna sätta in pengar på kontot samt metoden \"withdraw()\" för att kunna ta ut pengar från kontot. Om bankinnehavaren försöker ta ut mer pengar än vad som finns på kontot skall meddelandet \"Too low balance\" printas ut.\n",
    "   \n",
    "   b) Skapa en instans av klassen och testa så klassen funkar så som du förväntar dig. Du kan till exempel prova printa ut attributen, sätta in pengar och ta ut pengar. "
   ]
  },
  {
   "cell_type": "code",
   "execution_count": 160,
   "id": "42b05819",
   "metadata": {},
   "outputs": [],
   "source": [
    "class BankAccount:\n",
    "    def __init__(self, account_holder, balance):\n",
    "        self.account_holder=account_holder\n",
    "        self. balance=balance\n",
    "    \n",
    "    def deposit(self, amount): #sätta in pengar\n",
    "        if amount >0:\n",
    "            new_balance = self.balance + amount\n",
    "            self.balance = new_balance\n",
    "            print (f'Deposit amount:{amount}. New balance:{self. balance}')\n",
    "    \n",
    "        else:\n",
    "            print(\"Deposit amount must be positive.\")\n",
    "    \n",
    " \n",
    "    \n",
    "    def withdraw(self, amount): #ta ut pengar\n",
    "        if amount > self.balance:\n",
    "            print ('Too low balance')\n",
    "        elif amount<=0:\n",
    "            print ('The amount must be more than 0')\n",
    "        else:\n",
    "            new_balance=self.balance-amount\n",
    "            self.balance=new_balance\n",
    "            print (f'Withdrawal amount:{amount}. New balance::{self. balance}')\n",
    "        \n",
    "            "
   ]
  },
  {
   "cell_type": "code",
   "execution_count": 161,
   "id": "d265ca46",
   "metadata": {},
   "outputs": [],
   "source": [
    "Svensson_account=BankAccount('Svensson', 1000)\n",
    "Andersson_account=BankAccount('Andersson', 120)"
   ]
  },
  {
   "cell_type": "code",
   "execution_count": 162,
   "id": "d7c2f75d",
   "metadata": {},
   "outputs": [
    {
     "name": "stdout",
     "output_type": "stream",
     "text": [
      "Deposit amount:100. New balance:1100\n"
     ]
    }
   ],
   "source": [
    "Svensson_account.deposit(100)"
   ]
  },
  {
   "cell_type": "code",
   "execution_count": 163,
   "id": "3f191758",
   "metadata": {},
   "outputs": [
    {
     "name": "stdout",
     "output_type": "stream",
     "text": [
      "Deposit amount:300. New balance:1400\n"
     ]
    }
   ],
   "source": [
    "Svensson_account.deposit(300)"
   ]
  },
  {
   "cell_type": "code",
   "execution_count": 164,
   "id": "69565e1d",
   "metadata": {},
   "outputs": [
    {
     "name": "stdout",
     "output_type": "stream",
     "text": [
      "Withdrawal amount:500. New balance::900\n"
     ]
    }
   ],
   "source": [
    "Svensson_account.withdraw(500)"
   ]
  },
  {
   "cell_type": "code",
   "execution_count": 165,
   "id": "0ae212a3",
   "metadata": {},
   "outputs": [
    {
     "name": "stdout",
     "output_type": "stream",
     "text": [
      "Deposit amount must be positive.\n"
     ]
    }
   ],
   "source": [
    "Andersson_account.deposit(0)"
   ]
  },
  {
   "cell_type": "code",
   "execution_count": 166,
   "id": "cabd3af5",
   "metadata": {},
   "outputs": [
    {
     "name": "stdout",
     "output_type": "stream",
     "text": [
      "Too low balance\n"
     ]
    }
   ],
   "source": [
    "Andersson_account.withdraw(500)"
   ]
  },
  {
   "cell_type": "markdown",
   "id": "b081a59f",
   "metadata": {},
   "source": [
    "7. Din kollega Adrian frågar dig, vad är klasser för något? Försök förklara detta för Adrian. Använd begreppen instanser, attribut samt metoder i din förklaring. "
   ]
  },
  {
   "cell_type": "markdown",
   "id": "13abd726",
   "metadata": {},
   "source": [
    "Klasser är ett sätt att kombinera data och funktionalitet tillsammans. När vi skapar en ny klass, skapar vi en ny typ av objekt, som vi sedan kan skapa instanser av. Till exempel, om du har en klass Bok kan du använda den här klassen för att skapa flera böcker (instanser) med olika titlar, författare, genre och så vidare. Attribut lagrar information om en instans. För Bok kan attributen vara titel eller författare. Metoder är funktioner definierade i en klass som kan användas av instanser för att utföra olika uppgifter. För Bok kan metoderna vara boken användsk eller boken ligger på en hylla."
   ]
  },
  {
   "cell_type": "code",
   "execution_count": null,
   "id": "b010b828",
   "metadata": {},
   "outputs": [],
   "source": []
  },
  {
   "cell_type": "markdown",
   "id": "600ad66a",
   "metadata": {},
   "source": [
    "## Kapitel 7"
   ]
  },
  {
   "cell_type": "markdown",
   "id": "6bc3df6d",
   "metadata": {},
   "source": [
    "1. Läs \"PEP 8 – Style Guide for \n",
    "Python Cod\"  och besvaranedanstående frågor.\n",
    " \n",
    "   a) Om du arbetar i ett projekt som har ett internt dokument med \"style guidelines\" där vissa saker går emot vad PEP8 säger. Vad gör du då?\n",
    "   \n",
    "   b) På vilket språk skall kommentarer generellt sett skrivas.\n",
    "   \n",
    "   c) Hur skall funktioner och variabler namnges?\n",
    "   \n",
    "   d) Hur skall klasser namnges?\n",
    "   \n",
    "   e) Om du i ditt skript importerar exempelvis en modul, vart i skriptet skall koden som utför importen placeras?\n",
    "   \n",
    "   f) Enligt PEP8, skall man använda enkla ('my_string') eller dubbla (\"my_string\") citattecken för att skapa en sträng?\n",
    "   \n",
    "   g) Vilket av \"Alternativ 1\" och \"Alternativ 2\" nedan är det korrekta sättet att skriva koden på enligt PEP8?"
   ]
  },
  {
   "cell_type": "code",
   "execution_count": 167,
   "id": "17e1fc24",
   "metadata": {},
   "outputs": [],
   "source": [
    "# Alternativ 1\n",
    "a1 = 5 + 2\n",
    "\n",
    "# Alternativ 2\n",
    "a2=5+2"
   ]
  },
  {
   "cell_type": "markdown",
   "id": "35bfa518",
   "metadata": {},
   "source": [
    "a) Jag följer rekommendationerna för detta projekt;\n",
    "\n",
    "b) Engelska;\n",
    "\n",
    "c) gemener, med ord åtskilda av understreck\n",
    "   \n",
    "d) enstaka ord eller två ord går ihop med en stor bokstav i början av varje ord\n",
    "\n",
    "e) Import bör vanligtvis ske på separata rader. Importer placeras alltid överst i filen, omedelbart efter eventuella modulkommentarer och doclines, och före modulens globala variabler och konstanter. Importer bör grupperas i följande ordning:\n",
    "- Standard biblioteksimport.\n",
    "- Länkad import av tredjepartsapplikationer.\n",
    "- Lokal import specifik för biblioteket/den lokala applikationen.\n",
    "\n",
    "Vi måste placera en tom rad mellan varje importgrupp.\n",
    "\n",
    "f) ja, båda är rätt \n",
    "\n",
    "g) alternativ 1\n",
    "\n"
   ]
  },
  {
   "cell_type": "markdown",
   "id": "71193bd0",
   "metadata": {},
   "source": [
    "2. I \"PEP20 - The Zen of Python\" så står det:\n",
    "   \n",
    "   a) \"Explicit is better than implicit.\" Vad tror du det innebär? Kan du exemplifiera?\n",
    "   \n",
    "   b) \"Simple is better than complex.\" Vad tror du det innebär? Kan du exemplifiera? "
   ]
  },
  {
   "cell_type": "markdown",
   "id": "555ee6ed",
   "metadata": {},
   "source": [
    "a)  det är bättre att vara tydlig och direkt;\n",
    "\n",
    "b) att prioritera  enkla lösningar framför mer komplexa när det är möjligt."
   ]
  },
  {
   "cell_type": "code",
   "execution_count": 168,
   "id": "deab2310",
   "metadata": {},
   "outputs": [],
   "source": [
    "ord_lista = [\"äpple\", \"banan\", \"äpple\", \"apelsin\", \"banan\"]\n",
    "\n",
    "räkna = {}\n",
    "for ord in ord_lista:\n",
    "    if ord in räkna:\n",
    "        räkna[ord] += 1\n",
    "    else:\n",
    "        räkna[ord] = 1"
   ]
  },
  {
   "cell_type": "code",
   "execution_count": 169,
   "id": "e2b4c413",
   "metadata": {},
   "outputs": [],
   "source": [
    "from collections import Counter\n",
    "\n",
    "ord_lista = [\"äpple\", \"banan\", \"äpple\", \"apelsin\", \"banan\"]\n",
    "räkna = Counter(ord_lista)"
   ]
  },
  {
   "cell_type": "markdown",
   "id": "764a8f0e",
   "metadata": {},
   "source": [
    "3. Du och din nya kollega har en fikapaus och han säger följande: \"Det känns krångligt att vi alla skall behöva följa konventioner och standarder. Är det inte lättare om alla bara skriver kod på det sättet som de vill, sålänge som den fungerar\"? Vad svarar du? "
   ]
  },
  {
   "cell_type": "markdown",
   "id": "f1a63abc",
   "metadata": {},
   "source": [
    "Om alla följer samma konventioner blir det mycket enklare för andra att läsa och förstå din kod.  Om alla följer olika stilar blir det svårt och tidskrävande att samarbeta. "
   ]
  },
  {
   "cell_type": "code",
   "execution_count": null,
   "id": "04fc6278",
   "metadata": {},
   "outputs": [],
   "source": []
  },
  {
   "cell_type": "markdown",
   "id": "de613831",
   "metadata": {},
   "source": [
    "## Kapitel 8"
   ]
  },
  {
   "cell_type": "markdown",
   "id": "50fb5ebf",
   "metadata": {},
   "source": [
    "1. Din kollega Johanna frågar dig:\n",
    "   \n",
    "   a) Vad är syntax errors?\n",
    "   \n",
    "   b) Varför skulle man vilja \"fånga exceptions\" i ett program och inte bara låta programmet stanna vid fel?\n",
    "   \n",
    "   c) Varför skulle man vilja \"lyfta exceptions\" i ett program? "
   ]
  },
  {
   "cell_type": "markdown",
   "id": "bafc913e",
   "metadata": {},
   "source": [
    "a) Syntaxfel uppstår när koden är skriven på ett sätt som Python inte förstår. \n",
    "\n",
    "b) Istället för att programmet kraschar, visas ett meddelande.\n",
    "\n",
    "c) Man gör detta för att tydligt markera att ett problem har uppstått som behöver hanteras, antingen där felet lyfts eller högre upp i kodens anropskedja. "
   ]
  },
  {
   "cell_type": "markdown",
   "id": "786b6494",
   "metadata": {},
   "source": [
    "2. a) Förklara vad nedanstående kod gör.\n",
    "\n",
    "   b) Generellt sett, vad är poängen med att använda \"else\"?  "
   ]
  },
  {
   "cell_type": "code",
   "execution_count": 170,
   "id": "ca16f591",
   "metadata": {},
   "outputs": [
    {
     "name": "stdout",
     "output_type": "stream",
     "text": [
      "314\n",
      "Invalid input, cannot convert to integer.\n"
     ]
    }
   ],
   "source": [
    "def convert_string_to_int(string):\n",
    "    try:\n",
    "        int(string)\n",
    "    except ValueError:\n",
    "        return \"Invalid input, cannot convert to integer.\"\n",
    "    else:\n",
    "        return int(string)\n",
    "\n",
    "print(convert_string_to_int(\"314\")) \n",
    "print(convert_string_to_int(\"abc\"))  "
   ]
  },
  {
   "cell_type": "markdown",
   "id": "d5070283",
   "metadata": {},
   "source": [
    "1) Koden definierar en funktion som försöker konvertera en sträng till ett heltal (integer).\n",
    "2) \"else\" körs bara efter \"try\" har inget fel och tydligt separera fall när koden fungerar korrekt från fel. "
   ]
  },
  {
   "cell_type": "markdown",
   "id": "d0901e9c",
   "metadata": {},
   "source": [
    "3. Skriv ett kodexempel där du fångar en exception. Endast din kreativitet sätter gränser. "
   ]
  },
  {
   "cell_type": "markdown",
   "id": "824cdb19",
   "metadata": {},
   "source": [
    "Inträdet till museet kostar 100 kronor. Vid ingången finns en automat som endast tar emot sedlar på 50 och 100 kronor. Automaten ger inte växel tillbaka, men returnerar överflödiga sedlar om någon stoppar in mer än vad som behövs.\n",
    "\n",
    "Vi behöver att automaten vid varje inmatning av en sedel ökar summan och när summan når 100 kronor ger meddelandet \"Vänligen, stig in\".\n",
    "\n",
    "Om den insatta summan är mindre än 100 kronor, ska automaten skriva ut ett meddelande \"Vänligen, lägg till det saknade beloppet på __ kronor\".\n",
    "\n",
    "Om en sedel av annan valör stoppas in, ska automaten skriva ut ett felmeddelande \"Automaten accepterar endast sedlar på 50 och 100 kronor\"."
   ]
  },
  {
   "cell_type": "code",
   "execution_count": 171,
   "id": "f8ca2a3e",
   "metadata": {},
   "outputs": [],
   "source": [
    "class MuseumAutomat:\n",
    "    def __init__(self):\n",
    "        self.total_summa = 0\n",
    "        \n",
    "    def insert_banknote (self, banknote):\n",
    "        try: \n",
    "            if banknote not in [50, 100]: \n",
    "                raise ValueError(\"Automaten accepterar endast sedlar på 50 och 100 kronor\")\n",
    "           \n",
    "        except ValueError as e:\n",
    "            print(e)\n",
    "            \n",
    "        else:\n",
    "           \n",
    "            self.total_summa += banknote\n",
    "            print (self.total_summa)\n",
    "           \n",
    "            self.handle_amount() #call method handle_amount\n",
    "            \n",
    "    def handle_amount (self):\n",
    "        if self.total_summa == 100:\n",
    "            print(\"Vänligen, stig in.\")\n",
    "            self.total_summa = 0  # Reset the total after the visitor has gained entry\n",
    "            \n",
    "        elif self.total_summa < 100:\n",
    "            missing_amount = 100 - self.total_summa\n",
    "            print(f\"Vänligen, lägg till det saknade beloppet på {missing_amount} kronor.\")\n",
    "        \n",
    "        else:\n",
    "            excess = self.total_summa - 100\n",
    "            print(f\"Vänligen, stig in. Här är din överskjutande summa: {excess} kronor.\")\n",
    "            self.total_summa = 0  # Reset the total after the visitor has gained entry\n",
    "        "
   ]
  },
  {
   "cell_type": "code",
   "execution_count": 172,
   "id": "12556d65",
   "metadata": {},
   "outputs": [],
   "source": [
    "automat = MuseumAutomat()"
   ]
  },
  {
   "cell_type": "code",
   "execution_count": 173,
   "id": "9c756196",
   "metadata": {},
   "outputs": [
    {
     "name": "stdout",
     "output_type": "stream",
     "text": [
      "50\n",
      "Vänligen, lägg till det saknade beloppet på 50 kronor.\n"
     ]
    }
   ],
   "source": [
    "automat.insert_banknote(50) "
   ]
  },
  {
   "cell_type": "code",
   "execution_count": 174,
   "id": "6e294cff",
   "metadata": {},
   "outputs": [
    {
     "name": "stdout",
     "output_type": "stream",
     "text": [
      "150\n",
      "Vänligen, stig in. Här är din överskjutande summa: 50 kronor.\n"
     ]
    }
   ],
   "source": [
    "automat.insert_banknote(100) "
   ]
  },
  {
   "cell_type": "code",
   "execution_count": 175,
   "id": "8af423a3",
   "metadata": {},
   "outputs": [
    {
     "name": "stdout",
     "output_type": "stream",
     "text": [
      "50\n",
      "Vänligen, lägg till det saknade beloppet på 50 kronor.\n"
     ]
    }
   ],
   "source": [
    "automat.insert_banknote(50)"
   ]
  },
  {
   "cell_type": "code",
   "execution_count": 176,
   "id": "7781ad36",
   "metadata": {},
   "outputs": [
    {
     "name": "stdout",
     "output_type": "stream",
     "text": [
      "100\n",
      "Vänligen, stig in.\n"
     ]
    }
   ],
   "source": [
    "automat.insert_banknote(50)"
   ]
  },
  {
   "cell_type": "code",
   "execution_count": 177,
   "id": "a8d93d93",
   "metadata": {},
   "outputs": [
    {
     "name": "stdout",
     "output_type": "stream",
     "text": [
      "Automaten accepterar endast sedlar på 50 och 100 kronor\n"
     ]
    }
   ],
   "source": [
    "automat.insert_banknote(20)"
   ]
  },
  {
   "cell_type": "code",
   "execution_count": 178,
   "id": "fc48f895",
   "metadata": {},
   "outputs": [
    {
     "name": "stdout",
     "output_type": "stream",
     "text": [
      "100\n",
      "Vänligen, stig in.\n"
     ]
    }
   ],
   "source": [
    "automat.insert_banknote(100)"
   ]
  },
  {
   "cell_type": "markdown",
   "id": "d74a7b55",
   "metadata": {},
   "source": [
    "4. Skapa en funktion \"add_two_small_numbers\" som adderar två tal. Om något av talen är större än 100 så skall du lyfta en exception och skriva ut meddelandet \"both numbers must be smaller than or equal to 100\". "
   ]
  },
  {
   "cell_type": "code",
   "execution_count": 179,
   "id": "c30092e6",
   "metadata": {},
   "outputs": [],
   "source": [
    "def add_twa_small(a, b):\n",
    "    try:\n",
    "        if a > 100 or b > 100:\n",
    "            raise ValueError(\"Both numbers must be smaller than or equal to 100\")\n",
    "           \n",
    "    except ValueError as e:\n",
    "        print(e)\n",
    "        \n",
    "    else:\n",
    "        print (f'Summan av a och b är lika {a + b}')"
   ]
  },
  {
   "cell_type": "code",
   "execution_count": 180,
   "id": "d17a137b",
   "metadata": {},
   "outputs": [
    {
     "name": "stdout",
     "output_type": "stream",
     "text": [
      "Both numbers must be smaller than or equal to 100\n"
     ]
    }
   ],
   "source": [
    "add_twa_small(45,120)"
   ]
  },
  {
   "cell_type": "code",
   "execution_count": 181,
   "id": "76fadc63",
   "metadata": {},
   "outputs": [
    {
     "name": "stdout",
     "output_type": "stream",
     "text": [
      "Summan av a och b är lika 60\n"
     ]
    }
   ],
   "source": [
    "add_twa_small(45,15)"
   ]
  },
  {
   "cell_type": "markdown",
   "id": "eaedb6e2",
   "metadata": {},
   "source": [
    "5. Din kollega, som är en skicklig programmerare, brukar innan hon försöker göra ett perfekt fungerande program testa olika ideér för att undersöka och lära sig mer om det problem hon försöker lösa. Nedan ser du ett av hennes skript som gjorts i syfte att undersöka och lära sig mer. Förklara vad det är hon gjort. "
   ]
  },
  {
   "cell_type": "markdown",
   "id": "01e963ac",
   "metadata": {},
   "source": [
    "Hon försöker att skapa Exception-klasser som representerar och specificera möjliga exception  "
   ]
  },
  {
   "cell_type": "code",
   "execution_count": 182,
   "id": "2f685f0d",
   "metadata": {},
   "outputs": [
    {
     "name": "stdout",
     "output_type": "stream",
     "text": [
      "<class 'TypeError'>\n",
      "unsupported operand type(s) for +: 'int' and 'str'\n"
     ]
    }
   ],
   "source": [
    "# Checking which exception is raised\n",
    "try:\n",
    "    5 + \"Python is fun!\"\n",
    "except Exception as exception_instance:\n",
    "    print(type(exception_instance))\n",
    "    print(exception_instance)"
   ]
  },
  {
   "cell_type": "code",
   "execution_count": 183,
   "id": "f813ff4b",
   "metadata": {},
   "outputs": [],
   "source": [
    "#Python tillåter inte att man adderar en int och en str direkt. Resultaten är ett exception som har \"class 'TypeError'\" \n",
    "#så  problemet är med datatyper i en operation."
   ]
  },
  {
   "cell_type": "code",
   "execution_count": 184,
   "id": "1e846f1f",
   "metadata": {},
   "outputs": [
    {
     "name": "stdout",
     "output_type": "stream",
     "text": [
      "<class 'ZeroDivisionError'>\n",
      "division by zero\n"
     ]
    }
   ],
   "source": [
    "# Checking which exception is raised\n",
    "try:\n",
    "    5/0\n",
    "except Exception as exception_instance:\n",
    "    print(type(exception_instance))\n",
    "    print(exception_instance)"
   ]
  },
  {
   "cell_type": "code",
   "execution_count": 185,
   "id": "0bb37a79",
   "metadata": {},
   "outputs": [],
   "source": [
    "#Matematiskt är det ett fel att dividera med noll så Python visar som resultatet ett exception som har \"class 'ZeroDivisionError'\" \n",
    "#så  problemet är omöjlighet att dividera med noll."
   ]
  },
  {
   "cell_type": "code",
   "execution_count": 186,
   "id": "36fe324f",
   "metadata": {},
   "outputs": [],
   "source": [
    "def add_two_numbers(a, b):\n",
    "    try:\n",
    "        return(a/b)\n",
    "    except TypeError:\n",
    "        print(\"Both arguments must be numbers.\")\n",
    "    except ZeroDivisionError:\n",
    "        print(\"Division by zero is not defined.\")   "
   ]
  },
  {
   "cell_type": "code",
   "execution_count": 187,
   "id": "41bde2cb",
   "metadata": {},
   "outputs": [
    {
     "name": "stdout",
     "output_type": "stream",
     "text": [
      "2.5\n",
      "Both arguments must be numbers.\n",
      "None\n",
      "Division by zero is not defined.\n",
      "None\n"
     ]
    }
   ],
   "source": [
    "# Testing so the functionality is as expected\n",
    "print(add_two_numbers(5, 2))\n",
    "print(add_two_numbers(5, \"hello\"))\n",
    "print(add_two_numbers(5, 0))"
   ]
  },
  {
   "cell_type": "markdown",
   "id": "9ea15b46",
   "metadata": {},
   "source": [
    "Efter hon har definierat klasser för exception skapar hon en funktion add_two_numbers med except-klausuler som kommer att visa ett tydligare meddelande till användaren för exception av klasserna ZeroDivisionError' och 'TypeError'"
   ]
  },
  {
   "cell_type": "code",
   "execution_count": null,
   "id": "91b07e4a",
   "metadata": {},
   "outputs": [],
   "source": []
  },
  {
   "cell_type": "markdown",
   "id": "7ad29e22",
   "metadata": {},
   "source": [
    "## Kapitel 9"
   ]
  },
  {
   "cell_type": "markdown",
   "id": "52375f2b",
   "metadata": {},
   "source": [
    "1. Varför är det generellt sett en god idé att bygga upp tester för sin kod? "
   ]
  },
  {
   "cell_type": "markdown",
   "id": "b73d992d",
   "metadata": {},
   "source": [
    "Tester kan hjälpa: \n",
    "- att fånga fel tidigt;\n",
    "- att säkerställa att ändringarna inte orsakar oväntade problem i andra delar av systemet;\n",
    "- att förstå  snabbt vad koden är tänkt att göra genom att läsa testerna. "
   ]
  },
  {
   "cell_type": "markdown",
   "id": "55806204",
   "metadata": {},
   "source": [
    "2. Nedan ser du funktionen multiply_two_numbers. Använd \"doctest\" modulen för att implementera några test för funktionen \"multiply_two_numbers\". \n",
    "Den läsare som önskar kan även implementera testen i modulen \"pytest\". "
   ]
  },
  {
   "cell_type": "code",
   "execution_count": 188,
   "id": "97157a14",
   "metadata": {},
   "outputs": [],
   "source": [
    "def multiply_two_numbers(a, b):\n",
    "    \"\"\"Return the product of a and b.\"\"\"\n",
    "    return a*b"
   ]
  },
  {
   "cell_type": "code",
   "execution_count": 189,
   "id": "ee2d61e9",
   "metadata": {},
   "outputs": [],
   "source": [
    "def multiply_two_numbers(a, b):\n",
    "    \"\"\"\n",
    "    Return the product of a and b.\n",
    "\n",
    "    Examples:\n",
    "    >>> multiply_two_numbers(2, 3)\n",
    "    6\n",
    "    >>> multiply_two_numbers(-1, 5)\n",
    "    -5\n",
    "    >>> multiply_two_numbers(0, 100)\n",
    "    0\n",
    "    \"\"\"\n",
    "    return a * b"
   ]
  },
  {
   "cell_type": "markdown",
   "id": "46389a2d",
   "metadata": {},
   "source": [
    "[Test för funktionen \"multiply_two_numbers\"](multiply.py)"
   ]
  },
  {
   "cell_type": "markdown",
   "id": "3d40af0b",
   "metadata": {},
   "source": [
    "![Testresultatet](kap9_f2.png)"
   ]
  },
  {
   "cell_type": "markdown",
   "id": "17c8f799",
   "metadata": {},
   "source": [
    "3. Skriv någon kod eller använd någon kod som du till exempel skrivit i tidigare kapitels uppgifter och implementera några test. Använd \"doctest\" och/eller \"pytest\" modulen. "
   ]
  },
  {
   "cell_type": "code",
   "execution_count": 191,
   "id": "48938c53",
   "metadata": {},
   "outputs": [],
   "source": [
    "def add_or_multiply_pytest(a, b, operation):\n",
    "    if operation == \"add\":\n",
    "        return a + b\n",
    "    elif operation == \"multiply\":\n",
    "        return a * b\n",
    "    else:\n",
    "        return 'Choose either \"add\" or \"multiply\"'"
   ]
  },
  {
   "cell_type": "markdown",
   "id": "946b6c28",
   "metadata": {},
   "source": [
    "[Test för funktionen \"add_or_multiply_pytest\"](kap9_f3.py)"
   ]
  },
  {
   "cell_type": "markdown",
   "id": "efeb7312",
   "metadata": {},
   "source": [
    "![Testresultatet](kap9_f3.png)"
   ]
  },
  {
   "cell_type": "code",
   "execution_count": null,
   "id": "9cfd8bb9",
   "metadata": {},
   "outputs": [],
   "source": []
  },
  {
   "cell_type": "markdown",
   "id": "cac2b4aa",
   "metadata": {},
   "source": [
    "## Kapitel 10"
   ]
  },
  {
   "cell_type": "markdown",
   "id": "e207f4ab",
   "metadata": {},
   "source": [
    "3. Bygg en egen modul som till exempel innehåller två funktioner, importera därefter denna modulen i ett annat skript och prova använd de två funktionerna. Notera att modulen du bygger skall skrivas i ett \"vanligt skript\" (en .py fil) och inte i en jupyter notebook fil (.ipynb). Du kan däremot importera modulen (.py filen) i en jupyter notebook (.ipynb fil).\n",
    "  \n",
    "   Om du önskar importera en jupyter notebook (.ipynb fil) till en annan jupyter notebook (.ipynb fil) så kan du kolla igenom följande smidiga paket: https://pypi.org/project/import-ipynb/ ."
   ]
  },
  {
   "cell_type": "markdown",
   "id": "23382abf",
   "metadata": {},
   "source": [
    "[Modul](module_kap10_f3.py)"
   ]
  },
  {
   "cell_type": "code",
   "execution_count": 192,
   "id": "916067ab",
   "metadata": {},
   "outputs": [],
   "source": [
    "#The function for calculating the area of a rectangle\n",
    "def area(a, b):\n",
    "    \"\"\"Rreturn the area of a rectangle with sides a and b\"\"\"\n",
    "    return a * b\n",
    "\n",
    "#The function for calculating the perimetr of a rectangle\n",
    "def perimeter(a, b):\n",
    "    \"\"\"Rreturn the perimeter of a rectangle with sides a and b.\"\"\"\n",
    "    return 2*a + 2*b"
   ]
  },
  {
   "cell_type": "markdown",
   "id": "8c48dae2",
   "metadata": {},
   "source": [
    "[Script](script_kap10_f3.py)"
   ]
  },
  {
   "cell_type": "code",
   "execution_count": 193,
   "id": "cdcb900d",
   "metadata": {},
   "outputs": [
    {
     "name": "stdout",
     "output_type": "stream",
     "text": [
      "Area: 6\n",
      "Perimeter: 10\n"
     ]
    }
   ],
   "source": [
    "# Import of module\n",
    "from module_kap10_f3 import area, perimeter\n",
    "\n",
    "# Use the functions\n",
    "area_result = area(2, 3)\n",
    "perimeter_result = perimeter(2, 3)\n",
    "\n",
    "print(f\"Area: {area_result}\")\n",
    "print(f\"Perimeter: {perimeter_result}\")"
   ]
  },
  {
   "cell_type": "markdown",
   "id": "3b51302c",
   "metadata": {},
   "source": [
    "![Test](kap10_f3.png)"
   ]
  },
  {
   "cell_type": "code",
   "execution_count": null,
   "id": "1222ca0e",
   "metadata": {},
   "outputs": [],
   "source": []
  },
  {
   "cell_type": "markdown",
   "id": "ff9a6d3e",
   "metadata": {},
   "source": [
    "## Kapital 11"
   ]
  },
  {
   "cell_type": "markdown",
   "id": "15831cc4",
   "metadata": {},
   "source": [
    "1. Varför kan loggfiler med information vara viktiga för exempelvis företag och organisationer? "
   ]
  },
  {
   "cell_type": "markdown",
   "id": "4134db9f",
   "metadata": {},
   "source": [
    "Loggfilen är utformad för att lagra detaljerad information om hur systemet fungerar. Detta gör att man snabbt kan identifiera fel och analysera dem."
   ]
  },
  {
   "cell_type": "markdown",
   "id": "7f05393e",
   "metadata": {},
   "source": [
    "2. Vad menas med att det finns olika nivåer för logg-meddelanden? "
   ]
  },
  {
   "cell_type": "markdown",
   "id": "ba93e3bf",
   "metadata": {},
   "source": [
    "Loggin-modulen har fem nivåer på meddelanden: \n",
    "- DEBUG (detaljerad information);\n",
    "- INFO (bekräftelser att programmet fungerar som det ska);\n",
    "- WARNING (något oväntat hänt alllr är på väg att hända);\n",
    "- ERROR (ett fel);\n",
    "- CRITICAL (ett allvarligt fel, programmet har eventuellt stannat).\n",
    "\n",
    "Dessa nivåer vissar grad av allvarlighet eller betydelse som en händelse har när den loggas och gör det möjligt att filtrera och prioritera loggar baserat på deras relevans eller kritikalitet.\n"
   ]
  },
  {
   "cell_type": "markdown",
   "id": "20e0774d",
   "metadata": {},
   "source": [
    "3. Skapa ett valfritt program där du också använder dig av logging modulen. "
   ]
  },
  {
   "cell_type": "markdown",
   "id": "174c660e",
   "metadata": {},
   "source": [
    "En funktion som beräknar max_100 = a * (b + c / d) - 33, loggar ett meddelande beroende på resultatet och hanterar specialfallet där d=0 med en kritisk felhantering."
   ]
  },
  {
   "cell_type": "code",
   "execution_count": 67,
   "id": "507914c3",
   "metadata": {},
   "outputs": [],
   "source": [
    "import logging\n",
    "logger=logging.getLogger()"
   ]
  },
  {
   "cell_type": "code",
   "execution_count": 71,
   "id": "fc436608",
   "metadata": {},
   "outputs": [],
   "source": [
    "logging.basicConfig(\n",
    "    format='[%(asctime)s][%(levelname)s] %(message)s',\n",
    "    level=logging.DEBUG,\n",
    "    filename='limit.log'\n",
    ")"
   ]
  },
  {
   "cell_type": "code",
   "execution_count": 197,
   "id": "e1a07102",
   "metadata": {},
   "outputs": [],
   "source": [
    "\n",
    "def calculate_limit(a, b, c, d):\n",
    "    try:\n",
    "        if d==0:\n",
    "           #Crittical log-message\n",
    "            logging.critical(\"Division by zero detected! 'd' cannot be 0.\")\n",
    "            return None\n",
    "        \n",
    "        limit = a * (b + c / d) - 33  # Calculete max_100\n",
    "        logging.debug(f\"limit: {limit}\")\n",
    "        \n",
    "         # Log-level based on the max_100\n",
    "        if 0 < limit < 95:\n",
    "            logging.info(f\"INFO: limit value is in normal range: {limit}\")\n",
    "        elif 95 <= limit <= 100:\n",
    "            logging.warning(f\"WARNING: limit is in the warning range: {limit}\")\n",
    "        elif limit > 100:\n",
    "            logging.error(f\"ERROR: limit value exceeds the limit: {limit}\")\n",
    "        elif limit <= 0:\n",
    "            logging.error (f\"ERROR: max_100 value less than the limit 0: {limit}\")\n",
    "\n",
    "        return limit\n",
    "    except Exception as e:\n",
    "       # Log an error if anything else goes wrong\n",
    "        logging.error(f\"An error occurred during calculation: {e}\")\n",
    "        return None\n",
    "    "
   ]
  },
  {
   "cell_type": "code",
   "execution_count": 198,
   "id": "f1484828",
   "metadata": {},
   "outputs": [
    {
     "name": "stderr",
     "output_type": "stream",
     "text": [
      "DEBUG:root:limit: 71.0\n",
      "INFO:root:INFO: limit value is in normal range: 71.0\n",
      "DEBUG:root:limit: 97.0\n",
      "WARNING:root:WARNING: limit is in the warning range: 97.0\n",
      "DEBUG:root:limit: 267.0\n",
      "ERROR:root:ERROR: limit value exceeds the limit: 267.0\n",
      "CRITICAL:root:Division by zero detected! 'd' cannot be 0.\n",
      "DEBUG:root:limit: -113.0\n",
      "ERROR:root:ERROR: max_100 value less than the limit 0: -113.0\n"
     ]
    },
    {
     "data": {
      "text/plain": [
       "-113.0"
      ]
     },
     "execution_count": 198,
     "metadata": {},
     "output_type": "execute_result"
    }
   ],
   "source": [
    "calculate_limit(2, 50, 10, 5)  # Normal range\n",
    "calculate_limit(2, 55, 10, 1)  # Warning\n",
    "calculate_limit(2, 100, 50, 1)  # Error\n",
    "calculate_limit(2, 50, 10, 0)  # Critical (d=0)\n",
    "calculate_limit(2, -50, 10, 1) # Error"
   ]
  },
  {
   "cell_type": "markdown",
   "id": "c294410a",
   "metadata": {},
   "source": [
    "[Modul](kap11_f3.py)"
   ]
  },
  {
   "cell_type": "markdown",
   "id": "ab3b67c5",
   "metadata": {},
   "source": [
    "[log_message](limit.log)"
   ]
  },
  {
   "cell_type": "code",
   "execution_count": null,
   "id": "4d357488",
   "metadata": {},
   "outputs": [],
   "source": []
  }
 ],
 "metadata": {
  "kernelspec": {
   "display_name": "Python 3 (ipykernel)",
   "language": "python",
   "name": "python3"
  },
  "language_info": {
   "codemirror_mode": {
    "name": "ipython",
    "version": 3
   },
   "file_extension": ".py",
   "mimetype": "text/x-python",
   "name": "python",
   "nbconvert_exporter": "python",
   "pygments_lexer": "ipython3",
   "version": "3.9.18"
  }
 },
 "nbformat": 4,
 "nbformat_minor": 5
}
