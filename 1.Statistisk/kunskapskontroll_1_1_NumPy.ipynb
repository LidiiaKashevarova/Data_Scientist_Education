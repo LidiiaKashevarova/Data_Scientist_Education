{
 "cells": [
  {
   "cell_type": "markdown",
   "id": "dacf74e6",
   "metadata": {},
   "source": [
    "# NumPy"
   ]
  },
  {
   "cell_type": "markdown",
   "id": "01b2bf34",
   "metadata": {},
   "source": [
    "Read the links: https://numpy.org/doc/stable/user/quickstart.html  and https://numpy.org/doc/stable/user/basics.broadcasting.html  before solving the exercises. "
   ]
  },
  {
   "cell_type": "code",
   "execution_count": 3,
   "id": "1f79e4a6",
   "metadata": {},
   "outputs": [],
   "source": [
    "import numpy as np"
   ]
  },
  {
   "cell_type": "markdown",
   "id": "7dae6889",
   "metadata": {},
   "source": [
    "### Print out the dimension (number of axes), shape, size and the datatype of the matrix A."
   ]
  },
  {
   "cell_type": "code",
   "execution_count": null,
   "id": "0ccc436b",
   "metadata": {},
   "outputs": [],
   "source": []
  },
  {
   "cell_type": "code",
   "execution_count": 12,
   "id": "7b3678cd",
   "metadata": {},
   "outputs": [
    {
     "name": "stdout",
     "output_type": "stream",
     "text": [
      "[[ 1  2  3  4  5]\n",
      " [ 6  7  8  9 10]\n",
      " [11 12 13 14 15]]\n",
      "\n",
      "2\n",
      "\n",
      "(3, 5)\n",
      "\n",
      "4\n",
      "<class 'numpy.ndarray'>\n"
     ]
    }
   ],
   "source": [
    "A = np.arange(1, 16).reshape(3,5) \n",
    "\n",
    "print(A)\n",
    "print()\n",
    "\n",
    "print(A.ndim) #number of axes\n",
    "print()\n",
    "\n",
    "print (A.shape)#shape\n",
    "print()\n",
    "\n",
    "print (A.itemsize)#size\n",
    "\n",
    "print (type (A))#datatype\n"
   ]
  },
  {
   "cell_type": "markdown",
   "id": "e56d2a96",
   "metadata": {},
   "source": [
    "### Do the following computations on the matrices B and C: \n",
    "* Elementwise subtraction. \n",
    "* Elementwise multiplication. \n",
    "* Matrix multiplication (by default you should use the @ operator)."
   ]
  },
  {
   "cell_type": "code",
   "execution_count": 181,
   "id": "a7053fbb",
   "metadata": {},
   "outputs": [
    {
     "name": "stdout",
     "output_type": "stream",
     "text": [
      "[[1 2 3]\n",
      " [4 5 6]\n",
      " [7 8 9]]\n",
      "[[2. 2. 2.]\n",
      " [2. 2. 2.]\n",
      " [2. 2. 2.]]\n"
     ]
    }
   ],
   "source": [
    "B = np.arange(1, 10).reshape(3, 3)\n",
    "C = np.ones((3, 3))*2\n",
    "\n",
    "print(B)\n",
    "print(C)"
   ]
  },
  {
   "cell_type": "code",
   "execution_count": 182,
   "id": "8caf1294",
   "metadata": {},
   "outputs": [
    {
     "name": "stdout",
     "output_type": "stream",
     "text": [
      "[[-1.  0.  1.]\n",
      " [ 2.  3.  4.]\n",
      " [ 5.  6.  7.]]\n"
     ]
    }
   ],
   "source": [
    "print (B-C)#Elementwise subtraction"
   ]
  },
  {
   "cell_type": "code",
   "execution_count": 16,
   "id": "cd679815",
   "metadata": {},
   "outputs": [
    {
     "name": "stdout",
     "output_type": "stream",
     "text": [
      "[[ 2.  4.  6.]\n",
      " [ 8. 10. 12.]\n",
      " [14. 16. 18.]]\n"
     ]
    }
   ],
   "source": [
    "print (B*C)#Elementwise multiplication."
   ]
  },
  {
   "cell_type": "code",
   "execution_count": 26,
   "id": "4990ac40",
   "metadata": {},
   "outputs": [
    {
     "name": "stdout",
     "output_type": "stream",
     "text": [
      "[[12. 12. 12.]\n",
      " [30. 30. 30.]\n",
      " [48. 48. 48.]]\n"
     ]
    }
   ],
   "source": [
    "print (B.dot(C)) #Matrix multiplication (B*C)"
   ]
  },
  {
   "cell_type": "code",
   "execution_count": 25,
   "id": "64c4f684",
   "metadata": {},
   "outputs": [
    {
     "name": "stdout",
     "output_type": "stream",
     "text": [
      "[[24. 30. 36.]\n",
      " [24. 30. 36.]\n",
      " [24. 30. 36.]]\n"
     ]
    }
   ],
   "source": [
    "print (C.dot(B)) #Matrix multiplication (C*B)"
   ]
  },
  {
   "cell_type": "code",
   "execution_count": null,
   "id": "eba0a9fd",
   "metadata": {},
   "outputs": [],
   "source": []
  },
  {
   "cell_type": "markdown",
   "id": "96030d53",
   "metadata": {},
   "source": [
    "### Do the following calculations on the matrix:\n",
    "* Exponentiate each number elementwise (use the np.exp function).\n",
    "\n",
    "* Calculate the minimum value in the whole matrix. \n",
    "* Calculcate the minimum value in each row. \n",
    "* Calculcate the minimum value in each column. \n",
    "\n",
    "\n",
    "* Find the index value for the minimum value in the whole matrix (hint: use np.argmin).\n",
    "* Find the index value for the minimum value in each row (hint: use np.argmin).\n",
    "\n",
    "\n",
    "* Calculate the sum for all elements.\n",
    "* Calculate the mean for each column. \n",
    "* Calculate the median for each column. "
   ]
  },
  {
   "cell_type": "code",
   "execution_count": 24,
   "id": "f8a9166b",
   "metadata": {},
   "outputs": [
    {
     "name": "stdout",
     "output_type": "stream",
     "text": [
      "[[1 2 3]\n",
      " [4 5 6]\n",
      " [7 8 9]]\n"
     ]
    }
   ],
   "source": [
    "B = np.arange(1, 10).reshape(3, 3)\n",
    "print(B)"
   ]
  },
  {
   "cell_type": "code",
   "execution_count": 336,
   "id": "261068ce",
   "metadata": {},
   "outputs": [
    {
     "name": "stdout",
     "output_type": "stream",
     "text": [
      "[[0.36787944 2.71828183]\n",
      " [2.71828183 0.36787944]]\n"
     ]
    }
   ],
   "source": [
    "B_exp=np.exp(B) #Exponentiate each number elementwise\n",
    "print (B_exp)"
   ]
  },
  {
   "cell_type": "code",
   "execution_count": 34,
   "id": "c25fcbc6",
   "metadata": {},
   "outputs": [
    {
     "name": "stdout",
     "output_type": "stream",
     "text": [
      "1\n"
     ]
    }
   ],
   "source": [
    "print (B.min()) # the minimum value in the whole matrix"
   ]
  },
  {
   "cell_type": "code",
   "execution_count": 35,
   "id": "972f81c0",
   "metadata": {},
   "outputs": [
    {
     "name": "stdout",
     "output_type": "stream",
     "text": [
      "[1 4 7]\n"
     ]
    }
   ],
   "source": [
    "print (B.min(axis=1))# the minimum value in each row."
   ]
  },
  {
   "cell_type": "code",
   "execution_count": 37,
   "id": "f0468c3e",
   "metadata": {},
   "outputs": [
    {
     "name": "stdout",
     "output_type": "stream",
     "text": [
      "[1 2 3]\n"
     ]
    }
   ],
   "source": [
    "print (B.min(axis=0)) # the minimum value in each column"
   ]
  },
  {
   "cell_type": "code",
   "execution_count": 39,
   "id": "6fc76b0a",
   "metadata": {},
   "outputs": [
    {
     "name": "stdout",
     "output_type": "stream",
     "text": [
      "0\n"
     ]
    }
   ],
   "source": [
    "B_ind_matrix=np.argmin(B) # the index value for the minimum value in the whole matrix\n",
    "print(B_ind_matrix)"
   ]
  },
  {
   "cell_type": "code",
   "execution_count": 45,
   "id": "f03f24f7",
   "metadata": {},
   "outputs": [
    {
     "name": "stdout",
     "output_type": "stream",
     "text": [
      "[0 0 0]\n"
     ]
    }
   ],
   "source": [
    "B_ind_row=np.argmin(B, axis=1) #The index value for the minimum value in each row\n",
    "print(B_ind_row)"
   ]
  },
  {
   "cell_type": "code",
   "execution_count": 47,
   "id": "25f521f4",
   "metadata": {},
   "outputs": [
    {
     "name": "stdout",
     "output_type": "stream",
     "text": [
      "45\n"
     ]
    }
   ],
   "source": [
    "print(B.sum()) #the sum for all elements"
   ]
  },
  {
   "cell_type": "code",
   "execution_count": 49,
   "id": "c1e3547a",
   "metadata": {},
   "outputs": [
    {
     "name": "stdout",
     "output_type": "stream",
     "text": [
      "[4. 5. 6.]\n"
     ]
    }
   ],
   "source": [
    "B_mean=np.mean(B,axis=0) #the mean for each column\n",
    "print(B_mean)"
   ]
  },
  {
   "cell_type": "code",
   "execution_count": 53,
   "id": "4668bc2d",
   "metadata": {},
   "outputs": [
    {
     "name": "stdout",
     "output_type": "stream",
     "text": [
      "[4. 5. 6.]\n"
     ]
    }
   ],
   "source": [
    "B_median=np.median(B,axis=0)#the median for each column\n",
    "print(B_median)"
   ]
  },
  {
   "cell_type": "code",
   "execution_count": 58,
   "id": "b2a45c29",
   "metadata": {},
   "outputs": [
    {
     "name": "stdout",
     "output_type": "stream",
     "text": [
      "[4 5 6]\n"
     ]
    }
   ],
   "source": [
    "print(B[1])"
   ]
  },
  {
   "cell_type": "markdown",
   "id": "541eb7ba",
   "metadata": {},
   "source": [
    "### What does it mean when you provide fewer indices than axes when slicing? See example below."
   ]
  },
  {
   "cell_type": "code",
   "execution_count": 60,
   "id": "9c8abf56",
   "metadata": {},
   "outputs": [
    {
     "name": "stdout",
     "output_type": "stream",
     "text": [
      "[[ 1  2  3  4  5]\n",
      " [ 6  7  8  9 10]\n",
      " [11 12 13 14 15]]\n"
     ]
    }
   ],
   "source": [
    "print(A)"
   ]
  },
  {
   "cell_type": "code",
   "execution_count": 75,
   "id": "69415f7b",
   "metadata": {},
   "outputs": [
    {
     "data": {
      "text/plain": [
       "array([ 6,  7,  8,  9, 10])"
      ]
     },
     "execution_count": 75,
     "metadata": {},
     "output_type": "execute_result"
    }
   ],
   "source": [
    "A[1]"
   ]
  },
  {
   "cell_type": "markdown",
   "id": "6c53541b",
   "metadata": {},
   "source": [
    "**Answer:**"
   ]
  },
  {
   "cell_type": "code",
   "execution_count": null,
   "id": "de01e120",
   "metadata": {},
   "outputs": [],
   "source": [
    "#The program returns all data which located on the indicated axis"
   ]
  },
  {
   "cell_type": "markdown",
   "id": "6652d0c9",
   "metadata": {},
   "source": [
    "### Iterating over multidimensional arrays is done with respect to the first axis, so in the example below we iterate trough the rows. If you would like to iterate through the array *elementwise*, how would you do that?"
   ]
  },
  {
   "cell_type": "code",
   "execution_count": null,
   "id": "9459864f",
   "metadata": {},
   "outputs": [],
   "source": [
    "A"
   ]
  },
  {
   "cell_type": "code",
   "execution_count": 77,
   "id": "a671bb5a",
   "metadata": {},
   "outputs": [
    {
     "name": "stdout",
     "output_type": "stream",
     "text": [
      "[1 2 3 4 5]\n",
      "[ 6  7  8  9 10]\n",
      "[11 12 13 14 15]\n"
     ]
    }
   ],
   "source": [
    "for i in A:\n",
    "    print(i)"
   ]
  },
  {
   "cell_type": "code",
   "execution_count": 80,
   "id": "2ea6266b",
   "metadata": {},
   "outputs": [
    {
     "name": "stdout",
     "output_type": "stream",
     "text": [
      "1\n",
      "2\n",
      "3\n",
      "4\n",
      "5\n",
      "6\n",
      "7\n",
      "8\n",
      "9\n",
      "10\n",
      "11\n",
      "12\n",
      "13\n",
      "14\n",
      "15\n"
     ]
    }
   ],
   "source": [
    "for i in A.flat: #to iterate through the array elementwise// we can use the flat attribute \n",
    "    print(i)"
   ]
  },
  {
   "cell_type": "markdown",
   "id": "608a2583",
   "metadata": {},
   "source": [
    "### Explain what the code below does. More specifically, b has three axes - what does this mean? "
   ]
  },
  {
   "cell_type": "code",
   "execution_count": 90,
   "id": "f8f9b26f",
   "metadata": {},
   "outputs": [
    {
     "name": "stdout",
     "output_type": "stream",
     "text": [
      "[ 0  1  2  3  4  5  6  7  8  9 10 11 12 13 14 15 16 17 18 19 20 21 22 23\n",
      " 24 25 26 27 28 29]\n",
      "\n",
      "[[[ 0  1  2  3  4]\n",
      "  [ 5  6  7  8  9]\n",
      "  [10 11 12 13 14]]\n",
      "\n",
      " [[15 16 17 18 19]\n",
      "  [20 21 22 23 24]\n",
      "  [25 26 27 28 29]]]\n"
     ]
    }
   ],
   "source": [
    "a = np.arange(30)\n",
    "b = a.reshape((2, 3, -1))\n",
    "print(a)\n",
    "print()\n",
    "\n",
    "print(b)"
   ]
  },
  {
   "cell_type": "code",
   "execution_count": null,
   "id": "e1bbd7b5",
   "metadata": {},
   "outputs": [],
   "source": [
    "#The code returns the array with a modified shape.  \n",
    "#The first axis has a length of 2, the second axis has a length of 3. \n",
    "#Lengt of the third axis is undefined. \"-1\" means that the  dimensions for third axis  are calculated automatically."
   ]
  },
  {
   "cell_type": "markdown",
   "id": "ab5933d5",
   "metadata": {},
   "source": [
    "### Broadcasting\n",
    "**Read the following link about broadcasting: https://numpy.org/doc/stable/user/basics.broadcasting.html#basics-broadcasting**"
   ]
  },
  {
   "cell_type": "markdown",
   "id": "039805ba",
   "metadata": {},
   "source": [
    "# Remark on Broadcasting when doing Linear Algebra calculations in Python. "
   ]
  },
  {
   "cell_type": "markdown",
   "id": "c4bcc147",
   "metadata": {},
   "source": [
    "### From the mathematical rules of matrix addition, the operation below (m1 + m2) does not make sense. The reason is that matrix addition requires two matrices of the same size. In Python however, it works due to broadcasting rules in NumPy. So you must be careful when doing Linear Algebra calculations in Python since they do not follow the \"mathematical rules\". This can however easily be handled by doing some simple programming, for example validating that two matrices have the same shape is easy if you for instance want to add two matrices. "
   ]
  },
  {
   "cell_type": "code",
   "execution_count": 91,
   "id": "1fd46778",
   "metadata": {},
   "outputs": [
    {
     "name": "stdout",
     "output_type": "stream",
     "text": [
      "[[2 3]\n",
      " [4 5]]\n"
     ]
    }
   ],
   "source": [
    "m1 = np.array([[1, 2], [3, 4]])\n",
    "m2 = np.array([1, 1])\n",
    "print(m1 + m2)"
   ]
  },
  {
   "cell_type": "markdown",
   "id": "047d6576",
   "metadata": {},
   "source": [
    "### The example below would also not be allowed if following the \"mathematical rules\" in Linear Algebra. But it works due to broadcasting in NumPy. "
   ]
  },
  {
   "cell_type": "code",
   "execution_count": 92,
   "id": "5e6ef2e4",
   "metadata": {},
   "outputs": [
    {
     "name": "stdout",
     "output_type": "stream",
     "text": [
      "[2 3 4]\n"
     ]
    }
   ],
   "source": [
    "v1 = np.array([1, 2, 3])\n",
    "print(v1 + 1)"
   ]
  },
  {
   "cell_type": "code",
   "execution_count": 93,
   "id": "e2cbae26",
   "metadata": {},
   "outputs": [
    {
     "name": "stdout",
     "output_type": "stream",
     "text": [
      "[[1 2]\n",
      " [3 4]]\n",
      "[2 2]\n"
     ]
    }
   ],
   "source": [
    "A = np.arange(1, 5).reshape(2,2)\n",
    "print(A)\n",
    "\n",
    "b = np.array([2, 2])\n",
    "print(b)"
   ]
  },
  {
   "cell_type": "markdown",
   "id": "722fd5cd",
   "metadata": {},
   "source": [
    "# Linear Algebra Exercises"
   ]
  },
  {
   "cell_type": "markdown",
   "id": "b8935099",
   "metadata": {},
   "source": [
    "The exercies are taken from the \"Matrix Algebra for Engineers\" by Chasnov: https://www.math.hkust.edu.hk/~machas/matrix-algebra-for-engineers.pdf .\n",
    "\n",
    "Do the following exercises: \n",
    "* Chapter 2, exercise 1-3.\n",
    "* Quiz on p.11, exercise 2. \n",
    "* Chapter 6, exercise 1. \n",
    "* Quiz on p.19, exercise 3. \n",
    "\n",
    "\n",
    "* Chapter 10, exercise 1. \n",
    "* Chapter 12 exercise 1. \n"
   ]
  },
  {
   "cell_type": "code",
   "execution_count": 199,
   "id": "a452a77a",
   "metadata": {},
   "outputs": [
    {
     "name": "stdout",
     "output_type": "stream",
     "text": [
      "[[ 2  1 -1]\n",
      " [ 1 -1  1]]\n",
      "[[ 4 -2  1]\n",
      " [ 2 -4 -2]]\n",
      "[[1 2]\n",
      " [2 1]]\n",
      "[[3 4]\n",
      " [4 3]]\n",
      "[[1]\n",
      " [2]]\n"
     ]
    }
   ],
   "source": [
    "A = np.array([[2, 1, -1], [1, -1, 1]])\n",
    "B = np.array([[4, -2, 1], [2, -4, -2]])\n",
    "\n",
    "C = np.array([[1, 2], [2, 1]])\n",
    "D = np.array([[3, 4], [4, 3]])\n",
    "\n",
    "E = np.array([[1], [2]])\n",
    "\n",
    "print(A)\n",
    "print(B)\n",
    "print(C)\n",
    "print(D)\n",
    "print(E)"
   ]
  },
  {
   "cell_type": "markdown",
   "id": "9d8366cc",
   "metadata": {},
   "source": [
    "**Chap2. Question 1.**\n",
    "\n",
    "**Write a function \"add_mult_matrices\" that takes two matrices as input arguments (validate that the input are of the type numpy.ndarray by using the isinstance function), a third argument that is either 'add' or 'multiply' that specifies if you want to add or multiply the matrices (validate that the third argument is either 'add' or 'multiply'). When doing matrix addition, validate that the matrices have the same size. When doing matrix multiplication, validate that the sizes conform (i.e. number of columns in the first matrix is equal to the number of rows in the second matrix).**\n",
    "\n",
    "In this exercise, create a function that takes two matrices as input and either adds or multiplies them by specifying a argument as either 'add' or 'multiply'. Validate that both matrices taken as input are of the type ndarray (use the isinstance function)."
   ]
  },
  {
   "cell_type": "code",
   "execution_count": 240,
   "id": "a066b640",
   "metadata": {},
   "outputs": [],
   "source": [
    "def add_mult_matrices(Matrix_1, Matrix_2, add_or_multiply):\n",
    "    \n",
    "    if not isinstance(Matrix_1, np.ndarray) or not isinstance(Matrix_2, np.ndarray):\n",
    "        raise (\"The matrices must be numpy arrays.\")\n",
    "        \n",
    "    if add_or_multiply == 'add':\n",
    "        if Matrix_1.shape != Matrix_2.shape:\n",
    "            raise ValueError('For addition Matrix_1 and Matrix_2 must have the same shape.')\n",
    "        else:\n",
    "            return Matrix_1 + Matrix_2\n",
    "        \n",
    "            \n",
    "    elif add_or_multiply == 'multiply':\n",
    "        if Matrix_1.shape[1] != Matrix_2.shape[0]:\n",
    "            raise ValueError('The number of rows in Matrix_1 must be equal to the number of columns in Matrix_2.')\n",
    "            \n",
    "        else:\n",
    "            return (Matrix_1.dot(Matrix_2))\n",
    "        \n",
    "    else:\n",
    "        raise Exception('the add_or_multiply argument must be \"add\" or \"multiply\". ')\n",
    "        \n"
   ]
  },
  {
   "cell_type": "code",
   "execution_count": 223,
   "id": "91cfe01b",
   "metadata": {},
   "outputs": [
    {
     "data": {
      "text/plain": [
       "array([[ 0, -4,  3],\n",
       "       [ 0, -2, -4]])"
      ]
     },
     "execution_count": 223,
     "metadata": {},
     "output_type": "execute_result"
    }
   ],
   "source": [
    "# B - 2A\n",
    "add_mult_matrices(B, -2*A, 'add') "
   ]
  },
  {
   "cell_type": "code",
   "execution_count": 224,
   "id": "1d87c80b",
   "metadata": {},
   "outputs": [
    {
     "ename": "ValueError",
     "evalue": "For addition Matrix_1 and Matrix_2 must have the same shape.",
     "output_type": "error",
     "traceback": [
      "\u001b[1;31m---------------------------------------------------------------------------\u001b[0m",
      "\u001b[1;31mValueError\u001b[0m                                Traceback (most recent call last)",
      "Cell \u001b[1;32mIn[224], line 2\u001b[0m\n\u001b[0;32m      1\u001b[0m \u001b[38;5;66;03m# 3C - E\u001b[39;00m\n\u001b[1;32m----> 2\u001b[0m add_mult_matrices(\u001b[38;5;241m3\u001b[39m\u001b[38;5;241m*\u001b[39mC, \u001b[38;5;241m-\u001b[39m\u001b[38;5;241m1\u001b[39m\u001b[38;5;241m*\u001b[39mE, \u001b[38;5;124m'\u001b[39m\u001b[38;5;124madd\u001b[39m\u001b[38;5;124m'\u001b[39m)\n",
      "Cell \u001b[1;32mIn[221], line 8\u001b[0m, in \u001b[0;36madd_mult_matrices\u001b[1;34m(Matrix_1, Matrix_2, add_or_multiply)\u001b[0m\n\u001b[0;32m      6\u001b[0m \u001b[38;5;28;01mif\u001b[39;00m add_or_multiply \u001b[38;5;241m==\u001b[39m \u001b[38;5;124m'\u001b[39m\u001b[38;5;124madd\u001b[39m\u001b[38;5;124m'\u001b[39m:\n\u001b[0;32m      7\u001b[0m     \u001b[38;5;28;01mif\u001b[39;00m Matrix_1\u001b[38;5;241m.\u001b[39mshape \u001b[38;5;241m!=\u001b[39m Matrix_2\u001b[38;5;241m.\u001b[39mshape:\n\u001b[1;32m----> 8\u001b[0m         \u001b[38;5;28;01mraise\u001b[39;00m \u001b[38;5;167;01mValueError\u001b[39;00m(\u001b[38;5;124m'\u001b[39m\u001b[38;5;124mFor addition Matrix_1 and Matrix_2 must have the same shape.\u001b[39m\u001b[38;5;124m'\u001b[39m)\n\u001b[0;32m      9\u001b[0m     \u001b[38;5;28;01melse\u001b[39;00m:\n\u001b[0;32m     10\u001b[0m         \u001b[38;5;28;01mreturn\u001b[39;00m Matrix_1 \u001b[38;5;241m+\u001b[39m Matrix_2\n",
      "\u001b[1;31mValueError\u001b[0m: For addition Matrix_1 and Matrix_2 must have the same shape."
     ]
    }
   ],
   "source": [
    "# 3C - E\n",
    "add_mult_matrices(3*C, -1*E, 'add')"
   ]
  },
  {
   "cell_type": "code",
   "execution_count": 225,
   "id": "491fa427",
   "metadata": {},
   "outputs": [
    {
     "ename": "ValueError",
     "evalue": "The number of rows in Matrix_1 must be equal to the number of columns in Matrix_2.",
     "output_type": "error",
     "traceback": [
      "\u001b[1;31m---------------------------------------------------------------------------\u001b[0m",
      "\u001b[1;31mValueError\u001b[0m                                Traceback (most recent call last)",
      "Cell \u001b[1;32mIn[225], line 2\u001b[0m\n\u001b[0;32m      1\u001b[0m \u001b[38;5;66;03m#AC\u001b[39;00m\n\u001b[1;32m----> 2\u001b[0m add_mult_matrices(A, C, \u001b[38;5;124m'\u001b[39m\u001b[38;5;124mmultiply\u001b[39m\u001b[38;5;124m'\u001b[39m)\n",
      "Cell \u001b[1;32mIn[221], line 15\u001b[0m, in \u001b[0;36madd_mult_matrices\u001b[1;34m(Matrix_1, Matrix_2, add_or_multiply)\u001b[0m\n\u001b[0;32m     13\u001b[0m \u001b[38;5;28;01melif\u001b[39;00m add_or_multiply \u001b[38;5;241m==\u001b[39m \u001b[38;5;124m'\u001b[39m\u001b[38;5;124mmultiply\u001b[39m\u001b[38;5;124m'\u001b[39m:\n\u001b[0;32m     14\u001b[0m     \u001b[38;5;28;01mif\u001b[39;00m Matrix_1\u001b[38;5;241m.\u001b[39mshape[\u001b[38;5;241m1\u001b[39m] \u001b[38;5;241m!=\u001b[39m Matrix_2\u001b[38;5;241m.\u001b[39mshape[\u001b[38;5;241m0\u001b[39m]:\n\u001b[1;32m---> 15\u001b[0m         \u001b[38;5;28;01mraise\u001b[39;00m \u001b[38;5;167;01mValueError\u001b[39;00m(\u001b[38;5;124m'\u001b[39m\u001b[38;5;124mThe number of rows in Matrix_1 must be equal to the number of columns in Matrix_2.\u001b[39m\u001b[38;5;124m'\u001b[39m)\n\u001b[0;32m     17\u001b[0m     \u001b[38;5;28;01melse\u001b[39;00m:\n\u001b[0;32m     18\u001b[0m         \u001b[38;5;28;01mreturn\u001b[39;00m (Matrix_1\u001b[38;5;241m.\u001b[39mdot(Matrix_2))\n",
      "\u001b[1;31mValueError\u001b[0m: The number of rows in Matrix_1 must be equal to the number of columns in Matrix_2."
     ]
    }
   ],
   "source": [
    "#AC\n",
    "add_mult_matrices(A, C, 'multiply')"
   ]
  },
  {
   "cell_type": "code",
   "execution_count": 226,
   "id": "dd77f3d4",
   "metadata": {},
   "outputs": [
    {
     "data": {
      "text/plain": [
       "array([[11, 10],\n",
       "       [10, 11]])"
      ]
     },
     "execution_count": 226,
     "metadata": {},
     "output_type": "execute_result"
    }
   ],
   "source": [
    "#CD\n",
    "add_mult_matrices(C, D, 'multiply')"
   ]
  },
  {
   "cell_type": "code",
   "execution_count": 227,
   "id": "1651d706",
   "metadata": {},
   "outputs": [
    {
     "data": {
      "text/plain": [
       "array([[  8, -10,  -3],\n",
       "       [ 10,  -8,   0]])"
      ]
     },
     "execution_count": 227,
     "metadata": {},
     "output_type": "execute_result"
    }
   ],
   "source": [
    "#CB\n",
    "add_mult_matrices(C, B, 'multiply')"
   ]
  },
  {
   "cell_type": "markdown",
   "id": "5000c829",
   "metadata": {},
   "source": [
    "**Chap2. Question 2**"
   ]
  },
  {
   "cell_type": "code",
   "execution_count": 238,
   "id": "44dab740",
   "metadata": {},
   "outputs": [],
   "source": [
    "A=np.array([[1,2], [2,4]])\n",
    "B=np.array([[2,1],[1,3]])\n",
    "C=np.array([[4,3], [0,2]])"
   ]
  },
  {
   "cell_type": "code",
   "execution_count": 241,
   "id": "8f094b90",
   "metadata": {},
   "outputs": [],
   "source": [
    "#AB\n",
    "AB = add_mult_matrices(A, B, 'multiply')"
   ]
  },
  {
   "cell_type": "code",
   "execution_count": 243,
   "id": "eaa96685",
   "metadata": {},
   "outputs": [],
   "source": [
    "#AC\n",
    "AC=add_mult_matrices(A, C, 'multiply')"
   ]
  },
  {
   "cell_type": "code",
   "execution_count": 248,
   "id": "061c7045",
   "metadata": {},
   "outputs": [
    {
     "name": "stdout",
     "output_type": "stream",
     "text": [
      "AB= [[ 4  7]\n",
      " [ 8 14]]\n",
      "\n",
      "AC= [[ 4  7]\n",
      " [ 8 14]]\n",
      "\n",
      "AB=AC: \n",
      " True\n",
      "\n",
      "B=C:  \n",
      " False\n"
     ]
    }
   ],
   "source": [
    "print ('AB=', add_mult_matrices(A, B, 'multiply'))\n",
    "print()\n",
    "print ('AC=', add_mult_matrices(A, C, 'multiply'))\n",
    "print()\n",
    "print('AB=AC:', '\\n',(AB == AC).all())\n",
    "print()\n",
    "print('B=C: ','\\n', (B==C).all())"
   ]
  },
  {
   "cell_type": "markdown",
   "id": "a7f5b140",
   "metadata": {},
   "source": [
    "**Chap2. Question 3**"
   ]
  },
  {
   "cell_type": "code",
   "execution_count": 251,
   "id": "668b1323",
   "metadata": {},
   "outputs": [],
   "source": [
    "A=np.array([[1,1,1], [1,2,3],[1,3,4]])\n",
    "D=np.array([[2,0,0], [0,3,0], [0,0,4]])"
   ]
  },
  {
   "cell_type": "code",
   "execution_count": 252,
   "id": "7704c0ca",
   "metadata": {},
   "outputs": [
    {
     "name": "stdout",
     "output_type": "stream",
     "text": [
      "A*D= [[ 2  3  4]\n",
      " [ 2  6 12]\n",
      " [ 2  9 16]]\n"
     ]
    }
   ],
   "source": [
    "#AD\n",
    "\n",
    "AD=add_mult_matrices(A, D, 'multiply')\n",
    "print ('A*D=',add_mult_matrices(A, D, 'multiply'))"
   ]
  },
  {
   "cell_type": "code",
   "execution_count": 253,
   "id": "b90f7f94",
   "metadata": {},
   "outputs": [
    {
     "name": "stdout",
     "output_type": "stream",
     "text": [
      "D*A= [[ 2  2  2]\n",
      " [ 3  6  9]\n",
      " [ 4 12 16]]\n"
     ]
    }
   ],
   "source": [
    "#DA\n",
    "\n",
    "DA=add_mult_matrices(D, A, 'multiply')\n",
    "print ('D*A=',add_mult_matrices(D, A, 'multiply'))"
   ]
  },
  {
   "cell_type": "code",
   "execution_count": 254,
   "id": "590e2843",
   "metadata": {},
   "outputs": [
    {
     "name": "stdout",
     "output_type": "stream",
     "text": [
      "AD=DA: \n",
      " False\n"
     ]
    }
   ],
   "source": [
    "# Compute AD and DA\n",
    "\n",
    "print('AD=DA:', '\\n',(AD == DA).all())"
   ]
  },
  {
   "cell_type": "markdown",
   "id": "334ca623",
   "metadata": {},
   "source": [
    "**Quiz p.11, Question 2**"
   ]
  },
  {
   "cell_type": "code",
   "execution_count": 256,
   "id": "b031a786",
   "metadata": {},
   "outputs": [],
   "source": [
    "A=np.array([[1,-1], [-1,1]])\n",
    "B=np.array([[-1,1], [1,-1]])\n",
    "\n",
    "Answer_a=np.array([[-2,2], [2,-2]])\n",
    "Answer_b=np.array([[2,-2], [-2,2]])\n",
    "Answer_c=np.array([[-2,2], [-2,2]])\n",
    "Answer_d=np.array([[-2,-2], [2,2]])"
   ]
  },
  {
   "cell_type": "code",
   "execution_count": 259,
   "id": "5ed5b01c",
   "metadata": {},
   "outputs": [
    {
     "name": "stdout",
     "output_type": "stream",
     "text": [
      "A*B= [[-2  2]\n",
      " [ 2 -2]]\n"
     ]
    }
   ],
   "source": [
    "AB=add_mult_matrices(A, B, 'multiply')\n",
    "print ('A*B=',add_mult_matrices(A, B, 'multiply'))"
   ]
  },
  {
   "cell_type": "code",
   "execution_count": 260,
   "id": "43efe939",
   "metadata": {},
   "outputs": [
    {
     "name": "stdout",
     "output_type": "stream",
     "text": [
      "A*B= [[-2  2]\n",
      " [ 2 -2]]\n"
     ]
    }
   ],
   "source": [
    "#A*B\n",
    "\n",
    "AB=add_mult_matrices(A, B, 'multiply')\n",
    "print ('A*B=',add_mult_matrices(A, B, 'multiply'))"
   ]
  },
  {
   "cell_type": "code",
   "execution_count": 261,
   "id": "8f09d015",
   "metadata": {},
   "outputs": [
    {
     "name": "stdout",
     "output_type": "stream",
     "text": [
      "Answer_a: \n",
      " True\n",
      "\n",
      "Answer_b: \n",
      " False\n",
      "\n",
      "Answer_c: \n",
      " False\n",
      "\n",
      "Answer_d: \n",
      " False\n"
     ]
    }
   ],
   "source": [
    "#Choosing which matrix (Answer_a,b,c or d) is equal to A*B\n",
    "\n",
    "print('Answer_a:', '\\n',(AB == Answer_a).all())\n",
    "print ()\n",
    "print('Answer_b:', '\\n',(AB == Answer_b).all())\n",
    "print ()\n",
    "print('Answer_c:', '\\n',(AB == Answer_c).all())\n",
    "print ()\n",
    "print('Answer_d:', '\\n',(AB == Answer_d).all())\n"
   ]
  },
  {
   "cell_type": "markdown",
   "id": "fbfb4124",
   "metadata": {},
   "source": [
    "**Chap 6. Question 1**"
   ]
  },
  {
   "cell_type": "code",
   "execution_count": 275,
   "id": "9c68d160",
   "metadata": {},
   "outputs": [
    {
     "name": "stdout",
     "output_type": "stream",
     "text": [
      "[[1. 0.]\n",
      " [0. 1.]]\n"
     ]
    }
   ],
   "source": [
    "A_ch6=np.array([[5,6],[4,5]])\n",
    "B_ch6=np.array([[6,4],[3,3]])\n",
    "\n",
    "I=np.eye(2)\n",
    "\n",
    "print(I)"
   ]
  },
  {
   "cell_type": "code",
   "execution_count": 269,
   "id": "50e72c81",
   "metadata": {},
   "outputs": [
    {
     "name": "stdout",
     "output_type": "stream",
     "text": [
      "The inverses of the matrices A_ch6:  [[ 5. -6.]\n",
      " [-4.  5.]]\n"
     ]
    }
   ],
   "source": [
    "#Find the inverses of the matrices A_ch6\n",
    "\n",
    "A_ch6_inv = np.linalg.inv(A_ch6)\n",
    "print('The inverses of the matrices A_ch6: ', A_ch6_inv)"
   ]
  },
  {
   "cell_type": "code",
   "execution_count": 272,
   "id": "051834b5",
   "metadata": {},
   "outputs": [
    {
     "name": "stdout",
     "output_type": "stream",
     "text": [
      "A_ch6*A_ch6_inv=I is  True\n"
     ]
    }
   ],
   "source": [
    "#Verification\n",
    "\n",
    "print ('A_ch6*A_ch6_inv=I is ', np.allclose(A_ch6.dot(A_ch6_inv), I))\n"
   ]
  },
  {
   "cell_type": "code",
   "execution_count": 276,
   "id": "fff32641",
   "metadata": {},
   "outputs": [
    {
     "name": "stdout",
     "output_type": "stream",
     "text": [
      "The inverses of the matrices B_ch6:  [[ 0.5        -0.66666667]\n",
      " [-0.5         1.        ]]\n"
     ]
    }
   ],
   "source": [
    "#Find the inverses of the matrices B_ch6\n",
    "\n",
    "B_ch6_inv = np.linalg.inv(B_ch6)\n",
    "print('The inverses of the matrices B_ch6: ', B_ch6_inv)"
   ]
  },
  {
   "cell_type": "code",
   "execution_count": 277,
   "id": "85fe78fb",
   "metadata": {},
   "outputs": [
    {
     "name": "stdout",
     "output_type": "stream",
     "text": [
      "B_ch6*B_ch6_inv=I is  True\n"
     ]
    }
   ],
   "source": [
    "#Verification\n",
    "\n",
    "print ('B_ch6*B_ch6_inv=I is ', np.allclose(B_ch6.dot(B_ch6_inv), I))\n"
   ]
  },
  {
   "cell_type": "markdown",
   "id": "574b6d18",
   "metadata": {},
   "source": [
    "**Quiz p.19, Question 3**"
   ]
  },
  {
   "cell_type": "code",
   "execution_count": 292,
   "id": "c4cc11eb",
   "metadata": {},
   "outputs": [],
   "source": [
    "#Which matrix is the inverse of matrix A\n",
    "\n",
    "A=np.array([[2,2], [1,2]])\n",
    "\n",
    "\n",
    "# Answer options\n",
    "A_a=np.array([[2,-2], [-1,2]])\n",
    "A_b=np.array([[-2,2], [1,-2]])\n",
    "A_c=np.array([[2,2], [-1,-2]])\n",
    "A_d=np.array([[-2,-2], [1,2]])\n",
    "\n",
    "\n",
    "Answer_a=0.5*A_a\n",
    "Answer_b=0.5*A_b\n",
    "Answer_c=0.5*A_c\n",
    "Answer_d=0.5*A_d\n",
    "\n"
   ]
  },
  {
   "cell_type": "code",
   "execution_count": 293,
   "id": "c575872d",
   "metadata": {},
   "outputs": [
    {
     "name": "stdout",
     "output_type": "stream",
     "text": [
      "The inverses of the matrices A:  [[ 1.  -1. ]\n",
      " [-0.5  1. ]]\n",
      "\n",
      "Answer options:\n",
      "a)  [[ 1.  -1. ]\n",
      " [-0.5  1. ]]\n",
      "\n",
      "b)  [[ 1.  -1. ]\n",
      " [-0.5  1. ]]\n",
      "\n",
      "c)  [[ 1.  -1. ]\n",
      " [-0.5  1. ]]\n",
      "\n",
      "d)  [[ 1.  -1. ]\n",
      " [-0.5  1. ]]\n",
      "\n",
      "Correct answer: \n",
      "Answer_a: \n",
      " True\n",
      "\n",
      "Answer_b: \n",
      " False\n",
      "\n",
      "Answer_c: \n",
      " False\n",
      "\n",
      "Answer_d: \n",
      " False\n"
     ]
    }
   ],
   "source": [
    "A_inv=np.linalg.inv(A)\n",
    "\n",
    "print ('The inverses of the matrices A: ', A_inv)\n",
    "print()\n",
    "print('Answer options:')\n",
    "print('a) ', Answer_a)\n",
    "print()\n",
    "print('b) ', Answer_a)\n",
    "print()\n",
    "print('c) ', Answer_a)\n",
    "print()\n",
    "print('d) ', Answer_a)\n",
    "\n",
    "print()\n",
    "\n",
    "print('Correct answer: ')\n",
    "print('Answer_a:', '\\n', np.allclose(A_inv, Answer_a))\n",
    "print ()\n",
    "print('Answer_b:', '\\n', np.allclose(A_inv, Answer_b))\n",
    "print ()\n",
    "print('Answer_c:', '\\n', np.allclose(A_inv, Answer_c))\n",
    "print ()\n",
    "print('Answer_d:', '\\n', np.allclose(A_inv, Answer_d))"
   ]
  },
  {
   "cell_type": "code",
   "execution_count": 316,
   "id": "b3e8e2e0",
   "metadata": {},
   "outputs": [
    {
     "name": "stdout",
     "output_type": "stream",
     "text": [
      "Correct answer: \n",
      "Answer_a: \n",
      " True\n",
      "\n",
      "Answer_b: \n",
      " False\n",
      "\n",
      "Answer_c: \n",
      " False\n",
      "\n",
      "Answer_d: \n",
      " False\n"
     ]
    }
   ],
   "source": [
    "print ('Correct answer: ')\n",
    "\n",
    "print('Answer_a:', '\\n', np.allclose(A.dot(Answer_a), I))\n",
    "print ()\n",
    "print('Answer_b:', '\\n', np.allclose(A.dot(Answer_b), I))\n",
    "print ()\n",
    "print('Answer_c:', '\\n', np.allclose(A.dot(Answer_c), I))\n",
    "print ()\n",
    "print('Answer_d:', '\\n', np.allclose(A.dot(Answer_d), I))"
   ]
  },
  {
   "cell_type": "markdown",
   "id": "5de93779",
   "metadata": {},
   "source": [
    "**Chap10. Question 1 a)**"
   ]
  },
  {
   "cell_type": "code",
   "execution_count": 311,
   "id": "e9a63544",
   "metadata": {},
   "outputs": [
    {
     "name": "stdout",
     "output_type": "stream",
     "text": [
      "Coefficient [[ 3 -7 -2]\n",
      " [-3  5  1]\n",
      " [ 6 -4  0]]\n",
      "\n",
      "Answer [-7  5  2]\n"
     ]
    }
   ],
   "source": [
    "Coefficient = np.array([[3, -7, -2], [-3, 5, 1], [6, -4, 0]])\n",
    "Answer_ch10 = np.array([-7, 5, 2])\n",
    "\n",
    "print('Coefficient', Coefficient)\n",
    "print()\n",
    "print('Answer',Answer_ch10)"
   ]
  },
  {
   "cell_type": "code",
   "execution_count": 301,
   "id": "e9ea5730",
   "metadata": {},
   "outputs": [
    {
     "name": "stdout",
     "output_type": "stream",
     "text": [
      "x:  [ 3.  4. -6.]\n"
     ]
    }
   ],
   "source": [
    "# The answer to the system of equations.\n",
    "\n",
    "x = np.linalg.solve(Coefficient, Answer_ch10)\n",
    "\n",
    "print('x: ', x)"
   ]
  },
  {
   "cell_type": "code",
   "execution_count": 310,
   "id": "540862c2",
   "metadata": {},
   "outputs": [
    {
     "name": "stdout",
     "output_type": "stream",
     "text": [
      "Coefficient*x =  [-7.  5.  2.]\n",
      "\n",
      "Coefficient*x=Answer:  True\n"
     ]
    }
   ],
   "source": [
    "#Check\n",
    "\n",
    "print ('Coefficient*x = ',Coefficient@x)\n",
    "print()\n",
    "print ('Coefficient*x=Answer: ', np.allclose(Coefficient@x, Answer_ch10))"
   ]
  },
  {
   "cell_type": "markdown",
   "id": "3f49e9e1",
   "metadata": {},
   "source": [
    "**Chap10. Question 1 b)**"
   ]
  },
  {
   "cell_type": "code",
   "execution_count": 313,
   "id": "6f6e72fb",
   "metadata": {},
   "outputs": [
    {
     "name": "stdout",
     "output_type": "stream",
     "text": [
      "Coefficient [[ 1 -2  3]\n",
      " [-1  3 -1]\n",
      " [ 2 -5  5]]\n",
      "\n",
      "Answer [ 1 -1  1]\n"
     ]
    }
   ],
   "source": [
    "Coefficient = np.array([[1, -2, 3], [-1, 3, -1], [2, -5, 5]])\n",
    "Answer_ch10 = np.array([1, -1, 1])\n",
    "\n",
    "print('Coefficient', Coefficient)\n",
    "print()\n",
    "print('Answer',Answer_ch10)"
   ]
  },
  {
   "cell_type": "code",
   "execution_count": 314,
   "id": "1dfa96e6",
   "metadata": {},
   "outputs": [
    {
     "name": "stdout",
     "output_type": "stream",
     "text": [
      "x:  [ 8.  2. -1.]\n"
     ]
    }
   ],
   "source": [
    "# The answer to the system of equations.\n",
    "\n",
    "x = np.linalg.solve(Coefficient, Answer_ch10)\n",
    "\n",
    "print('x: ', x)"
   ]
  },
  {
   "cell_type": "code",
   "execution_count": 315,
   "id": "9577becb",
   "metadata": {},
   "outputs": [
    {
     "name": "stdout",
     "output_type": "stream",
     "text": [
      "Coefficient*x =  [ 1. -1.  1.]\n",
      "\n",
      "Coefficient*x=Answer:  True\n"
     ]
    }
   ],
   "source": [
    "#Check\n",
    "\n",
    "print ('Coefficient*x = ',Coefficient@x)\n",
    "print()\n",
    "print ('Coefficient*x=Answer: ', np.allclose(Coefficient@x, Answer_ch10))"
   ]
  },
  {
   "cell_type": "markdown",
   "id": "beb0a8af",
   "metadata": {},
   "source": [
    "**Chap 12. Question 1**"
   ]
  },
  {
   "cell_type": "code",
   "execution_count": 334,
   "id": "4fe15c46",
   "metadata": {},
   "outputs": [
    {
     "name": "stdout",
     "output_type": "stream",
     "text": [
      "Matrix A  [[ 3 -7 -2]\n",
      " [-3  5  1]\n",
      " [ 6 -4  0]]\n"
     ]
    }
   ],
   "source": [
    "A=np.array([[3,-7,-2], [-3,5,1], [6,-4,0]])\n",
    "\n",
    "I=np.eye(3)\n",
    "\n",
    "print('Matrix A ', A)"
   ]
  },
  {
   "cell_type": "code",
   "execution_count": 331,
   "id": "52af83e4",
   "metadata": {},
   "outputs": [
    {
     "name": "stdout",
     "output_type": "stream",
     "text": [
      "A_inv:  [[ 0.66666667  1.33333333  0.5       ]\n",
      " [ 1.          2.          0.5       ]\n",
      " [-3.         -5.         -1.        ]]\n",
      "\n",
      "A_inv is the inverses of the matrices A:  True\n",
      "None\n"
     ]
    }
   ],
   "source": [
    "A_inv=np.linalg.inv(A)\n",
    "\n",
    "print ('A_inv: ', A_inv)\n",
    "print()\n",
    "print ('A_inv is the inverses of the matrices A: ', np.allclose(A@A_inv, I))\n"
   ]
  },
  {
   "cell_type": "markdown",
   "id": "6a4a524f",
   "metadata": {},
   "source": [
    "### Copies and Views\n",
    "Read the following link: https://numpy.org/doc/stable/user/basics.copies.html"
   ]
  },
  {
   "cell_type": "markdown",
   "id": "6cbbeaf7",
   "metadata": {},
   "source": [
    "**Basic indexing creates a view, How can you check if v1 and v2 is a view or copy? If you change the last element in v2 to 123, will the last element in v1 be changed? Why?**"
   ]
  },
  {
   "cell_type": "code",
   "execution_count": 326,
   "id": "5b9ef4df",
   "metadata": {},
   "outputs": [
    {
     "name": "stdout",
     "output_type": "stream",
     "text": [
      "[0 1 2 3]\n",
      "[2 3]\n"
     ]
    }
   ],
   "source": [
    "v1 = np.arange(4)\n",
    "v2 = v1[-2:]\n",
    "print(v1)\n",
    "print(v2)"
   ]
  },
  {
   "cell_type": "code",
   "execution_count": 337,
   "id": "d2440489",
   "metadata": {},
   "outputs": [
    {
     "name": "stdout",
     "output_type": "stream",
     "text": [
      "None\n",
      "[0 1 2 3]\n"
     ]
    }
   ],
   "source": [
    "# The base attribute of a view returns the original array while it returns None for a copy.\n",
    "print(v1.base)\n",
    "print(v2.base)"
   ]
  },
  {
   "cell_type": "code",
   "execution_count": 338,
   "id": "c8752807",
   "metadata": {},
   "outputs": [
    {
     "name": "stdout",
     "output_type": "stream",
     "text": [
      "[  0   1   2 123]\n",
      "[  2 123]\n"
     ]
    }
   ],
   "source": [
    "# The last element in v1 will be changed aswell since v2 is a view, meaning they share the same data buffer.\n",
    "v2[-1] = 123\n",
    "print(v1)\n",
    "print(v2)"
   ]
  },
  {
   "cell_type": "code",
   "execution_count": null,
   "id": "3dd68221",
   "metadata": {},
   "outputs": [],
   "source": []
  }
 ],
 "metadata": {
  "kernelspec": {
   "display_name": "Python 3 (ipykernel)",
   "language": "python",
   "name": "python3"
  },
  "language_info": {
   "codemirror_mode": {
    "name": "ipython",
    "version": 3
   },
   "file_extension": ".py",
   "mimetype": "text/x-python",
   "name": "python",
   "nbconvert_exporter": "python",
   "pygments_lexer": "ipython3",
   "version": "3.11.5"
  }
 },
 "nbformat": 4,
 "nbformat_minor": 5
}
