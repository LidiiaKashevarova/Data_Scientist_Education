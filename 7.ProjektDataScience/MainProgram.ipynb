{
 "cells": [
  {
   "cell_type": "markdown",
   "id": "3c655f65",
   "metadata": {},
   "source": [
    "# The cost of education in 2025-2035 in secondary school and gymnasium"
   ]
  },
  {
   "cell_type": "markdown",
   "id": "e7c431a9",
   "metadata": {},
   "source": [
    "The purpose of this project is to forecast the cost of education in 2025-2035 in secondary school and gymnasium by region."
   ]
  },
  {
   "cell_type": "code",
   "execution_count": 1,
   "id": "0998586d",
   "metadata": {},
   "outputs": [],
   "source": [
    "import requests\n",
    "import json\n",
    "import csv\n",
    "import sqlite3\n",
    "import pandas as pd\n",
    "import matplotlib.pyplot as plt\n",
    "import seaborn as sns\n",
    "from sklearn.linear_model import LinearRegression\n",
    "import numpy as np\n",
    "from sklearn.model_selection import train_test_split\n",
    "from tensorflow.keras.models import Sequential\n",
    "from tensorflow.keras.layers import LSTM, Dense\n",
    "from sklearn.preprocessing import MinMaxScaler\n"
   ]
  },
  {
   "cell_type": "markdown",
   "id": "30813563",
   "metadata": {},
   "source": [
    "# 1. Load data"
   ]
  },
  {
   "cell_type": "markdown",
   "id": "bfb0a4b1",
   "metadata": {},
   "source": [
    "Levande födda efter region och år. År 1968 - 2023 (https://www.statistikdatabasen.scb.se/pxweb/sv/ssd/START__BE__BE0101__BE0101H/FoddaK/)"
   ]
  },
  {
   "cell_type": "code",
   "execution_count": 2,
   "id": "9b75ab0b",
   "metadata": {},
   "outputs": [],
   "source": [
    "# API URL\n",
    "url = \"https://api.scb.se/OV0104/v1/doris/sv/ssd/START/BE/BE0101/BE0101H/FoddaK\""
   ]
  },
  {
   "cell_type": "code",
   "execution_count": 3,
   "id": "f0b79ce4",
   "metadata": {},
   "outputs": [],
   "source": [
    "# JSON-förfrågan\n",
    "payload = {\n",
    "    \"query\": [\n",
    "        {\n",
    "            \"code\": \"Region\",\n",
    "            \"selection\": {\n",
    "                \"filter\": \"vs:RegionLän07\",\n",
    "                \"values\": [\n",
    "                    \"01\", \"03\", \"04\", \"05\", \"06\", \"07\", \"08\", \"09\", \"10\", \"12\",\n",
    "                    \"13\", \"14\", \"17\", \"18\", \"19\", \"20\", \"21\", \"22\", \"23\", \"24\", \"25\"\n",
    "                ]\n",
    "            }\n",
    "        }\n",
    "    ],\n",
    "    \"response\": {\n",
    "        \"format\": \"json\"\n",
    "    }\n",
    "}"
   ]
  },
  {
   "cell_type": "code",
   "execution_count": 4,
   "id": "83ac6d80",
   "metadata": {},
   "outputs": [],
   "source": [
    "# Skicka POST-förfrågan till SCB API\n",
    "response = requests.post(url, json=payload)"
   ]
  },
  {
   "cell_type": "code",
   "execution_count": 5,
   "id": "5b2e89df",
   "metadata": {},
   "outputs": [
    {
     "name": "stdout",
     "output_type": "stream",
     "text": [
      "Data har sparats till region_birth_data.csv\n"
     ]
    }
   ],
   "source": [
    "# Kontrollera om förfrågan lyckades\n",
    "if response.status_code == 200:\n",
    "    data = response.json()\n",
    "    \n",
    "    # Skapa och spara data i CSV-format\n",
    "    with open('region_birth_data.csv', mode='w', newline='', encoding='utf-8') as file:\n",
    "        writer = csv.writer(file)\n",
    "        # Skriv rubrikerna i CSV-filen\n",
    "        writer.writerow(['Region', 'Year', 'Number'])\n",
    "\n",
    "        # Loopa genom data och skriv till CSV\n",
    "        for item in data['data']:\n",
    "            region = item['key'][0]\n",
    "            year = item['key'][1]\n",
    "            number = item['values'][0]\n",
    "            writer.writerow([region, year, number])\n",
    "\n",
    "    print(\"Data har sparats till region_birth_data.csv\")\n",
    "else:\n",
    "    print(f\"Fel vid hämtning av data: {response.status_code}\")"
   ]
  },
  {
   "cell_type": "code",
   "execution_count": null,
   "id": "a29e330b",
   "metadata": {},
   "outputs": [],
   "source": []
  },
  {
   "cell_type": "markdown",
   "id": "9a4dfe11",
   "metadata": {},
   "source": [
    "Folkmängd 0-16 år efter region, ålder och år (https://www.statistikdatabasen.scb.se/pxweb/sv/ssd/START__BE__BE0101__BE0101A/BefolkningNy/table/tableViewLayout1/)"
   ]
  },
  {
   "cell_type": "code",
   "execution_count": 6,
   "id": "acf2eb93",
   "metadata": {},
   "outputs": [],
   "source": [
    "url = \"https://api.scb.se/OV0104/v1/doris/sv/ssd/START/BE/BE0101/BE0101A/BefolkningNy\""
   ]
  },
  {
   "cell_type": "code",
   "execution_count": 7,
   "id": "00183122",
   "metadata": {},
   "outputs": [],
   "source": [
    "query = {\n",
    "    \"query\": [\n",
    "        {\n",
    "            \"code\": \"Region\",\n",
    "            \"selection\": {\n",
    "                \"filter\": \"vs:RegionLän07\",\n",
    "                \"values\": [\n",
    "                    \"01\", \"03\", \"04\", \"05\", \"06\", \"07\", \"08\", \"09\", \"10\",\n",
    "                    \"12\", \"13\", \"14\", \"17\", \"18\", \"19\", \"20\", \"21\", \"22\", \"23\",\n",
    "                    \"24\", \"25\"\n",
    "                ]\n",
    "            }\n",
    "        },\n",
    "        {\n",
    "            \"code\": \"Alder\",\n",
    "            \"selection\": {\n",
    "                \"filter\": \"vs:Ålder1årA\",\n",
    "                \"values\": [\n",
    "                    \"0\", \"1\", \"2\", \"3\", \"4\", \"5\", \"6\", \"7\", \"8\", \"9\", \"10\", \"11\",\n",
    "                    \"12\", \"13\", \"14\", \"15\", \"16\"\n",
    "                ]\n",
    "            }\n",
    "        },\n",
    "        {\n",
    "            \"code\": \"ContentsCode\",\n",
    "            \"selection\": {\n",
    "                \"filter\": \"item\",\n",
    "                \"values\": [\"BE0101N1\"]\n",
    "            }\n",
    "        }\n",
    "    ],\n",
    "    \"response\": {\n",
    "        \"format\": \"json\"\n",
    "    }\n",
    "}\n"
   ]
  },
  {
   "cell_type": "code",
   "execution_count": 8,
   "id": "d160471a",
   "metadata": {},
   "outputs": [],
   "source": [
    "# Skicka POST-förfrågan\n",
    "response = requests.post(url, json=query)\n"
   ]
  },
  {
   "cell_type": "code",
   "execution_count": 9,
   "id": "ad456f65",
   "metadata": {},
   "outputs": [
    {
     "name": "stdout",
     "output_type": "stream",
     "text": [
      "Data har sparats i scb_population_0_16_years.csv\n"
     ]
    }
   ],
   "source": [
    "if response.status_code == 200:\n",
    "    data = response.json()\n",
    "    \n",
    "    # Spara data i CSV-format\n",
    "    with open('scb_population_0_16_years.csv', mode='w', newline='', encoding='utf-8') as csv_file:\n",
    "        csv_writer = csv.writer(csv_file)\n",
    "        \n",
    "        # Skriv rubriker\n",
    "        headers = ['Region', 'Age', 'Year', 'Population']\n",
    "        csv_writer.writerow(headers)\n",
    "        \n",
    "        # Skriv rader\n",
    "        for item in data['data']:\n",
    "            region = item['key'][0]\n",
    "            alder = item['key'][1]\n",
    "            year = item['key'][2]\n",
    "            population = item['values'][0]\n",
    "            csv_writer.writerow([region, alder, year, population])\n",
    "\n",
    "    print(\"Data har sparats i scb_population_0_16_years.csv\")\n",
    "else:\n",
    "    print(f\"Fel vid hämtning av data: {response.status_code}\")"
   ]
  },
  {
   "cell_type": "code",
   "execution_count": null,
   "id": "4a336b18",
   "metadata": {},
   "outputs": [],
   "source": []
  },
  {
   "cell_type": "markdown",
   "id": "f78ae5e7",
   "metadata": {},
   "source": [
    "Folkmängd 17-19 år efter region, ålder och år (https://www.statistikdatabasen.scb.se/pxweb/sv/ssd/START__BE__BE0101__BE0101A/BefolkningNy/table/tableViewLayout1/)"
   ]
  },
  {
   "cell_type": "code",
   "execution_count": 10,
   "id": "8b6377c1",
   "metadata": {},
   "outputs": [],
   "source": [
    "url = \"https://api.scb.se/OV0104/v1/doris/sv/ssd/START/BE/BE0101/BE0101A/BefolkningNy\""
   ]
  },
  {
   "cell_type": "code",
   "execution_count": 11,
   "id": "8c53805c",
   "metadata": {},
   "outputs": [],
   "source": [
    "query = {\n",
    "    \"query\": [\n",
    "        {\n",
    "            \"code\": \"Region\",\n",
    "            \"selection\": {\n",
    "                \"filter\": \"vs:RegionLän07\",\n",
    "                \"values\": [\n",
    "                    \"01\", \"03\", \"04\", \"05\", \"06\", \"07\", \"08\", \"09\", \"10\",\n",
    "                    \"12\", \"13\", \"14\", \"17\", \"18\", \"19\", \"20\", \"21\", \"22\", \"23\",\n",
    "                    \"24\", \"25\"\n",
    "                ]\n",
    "            }\n",
    "        },\n",
    "        {\n",
    "            \"code\": \"Alder\",\n",
    "            \"selection\": {\n",
    "                \"filter\": \"vs:Ålder1årA\",\n",
    "                \"values\": [\n",
    "                     \"17\", \"18\", \"19\"\n",
    "                ]\n",
    "            }\n",
    "        },\n",
    "        {\n",
    "            \"code\": \"ContentsCode\",\n",
    "            \"selection\": {\n",
    "                \"filter\": \"item\",\n",
    "                \"values\": [\"BE0101N1\"]\n",
    "            }\n",
    "        }\n",
    "    ],\n",
    "    \"response\": {\n",
    "        \"format\": \"json\"\n",
    "    }\n",
    "}\n"
   ]
  },
  {
   "cell_type": "code",
   "execution_count": 12,
   "id": "aa3c9fea",
   "metadata": {},
   "outputs": [],
   "source": [
    "# Skicka POST-förfrågan\n",
    "response = requests.post(url, json=query)\n"
   ]
  },
  {
   "cell_type": "code",
   "execution_count": 13,
   "id": "f71a2e13",
   "metadata": {},
   "outputs": [
    {
     "name": "stdout",
     "output_type": "stream",
     "text": [
      "Data har sparats i scb_population_17_19_years.csv\n"
     ]
    }
   ],
   "source": [
    "if response.status_code == 200:\n",
    "    data = response.json()\n",
    "    \n",
    "    # Spara data i CSV-format\n",
    "    with open('scb_population_17_19_years.csv', mode='w', newline='', encoding='utf-8') as csv_file:\n",
    "        csv_writer = csv.writer(csv_file)\n",
    "        \n",
    "        # Skriv rubriker\n",
    "        headers = ['Region', 'Age', 'Year', 'Population']\n",
    "        csv_writer.writerow(headers)\n",
    "        \n",
    "        # Skriv rader\n",
    "        for item in data['data']:\n",
    "            region = item['key'][0]\n",
    "            alder = item['key'][1]\n",
    "            year = item['key'][2]\n",
    "            population = item['values'][0]\n",
    "            csv_writer.writerow([region, alder, year, population])\n",
    "\n",
    "    print(\"Data har sparats i scb_population_17_19_years.csv\")\n",
    "else:\n",
    "    print(f\"Fel vid hämtning av data: {response.status_code}\")"
   ]
  },
  {
   "cell_type": "code",
   "execution_count": null,
   "id": "0a54a1a8",
   "metadata": {},
   "outputs": [],
   "source": []
  },
  {
   "cell_type": "markdown",
   "id": "be3aad55",
   "metadata": {},
   "source": [
    "Döda efter region, ålder och år (https://www.statistikdatabasen.scb.se/pxweb/sv/ssd/START__BE__BE0101__BE0101I/DodaFodelsearK/table/tableViewLayout1/) "
   ]
  },
  {
   "cell_type": "code",
   "execution_count": 14,
   "id": "2980c710",
   "metadata": {},
   "outputs": [],
   "source": [
    "url = \"https://api.scb.se/OV0104/v1/doris/sv/ssd/START/BE/BE0101/BE0101I/DodaFodelsearK\""
   ]
  },
  {
   "cell_type": "code",
   "execution_count": 15,
   "id": "6899c926",
   "metadata": {},
   "outputs": [],
   "source": [
    "# JSON-förfrågan\n",
    "payload = {\n",
    "    \"query\": [\n",
    "        {\n",
    "            \"code\": \"Region\",\n",
    "            \"selection\": {\n",
    "                \"filter\": \"vs:RegionLän07\",\n",
    "                \"values\": [\n",
    "                    \"01\", \"03\", \"04\", \"05\", \"06\", \"07\", \"08\", \"09\", \"10\", \"12\",\n",
    "                    \"13\", \"14\", \"17\", \"18\", \"19\", \"20\", \"21\", \"22\", \"23\", \"24\", \"25\"\n",
    "                ]\n",
    "            }\n",
    "        },\n",
    "        {\n",
    "            \"code\": \"Alder\",\n",
    "            \"selection\": {\n",
    "                \"filter\": \"vs:Ålder1årA\",\n",
    "                \"values\": [str(i) for i in range(20)]  # Ålder 0-19\n",
    "            }\n",
    "        },\n",
    "        {\n",
    "            \"code\": \"Tid\",\n",
    "            \"selection\": {\n",
    "                \"filter\": \"item\",\n",
    "                \"values\": [str(year) for year in range(2000, 2023)]  # År 2000-2023\n",
    "            }\n",
    "        }\n",
    "    ],\n",
    "    \"response\": {\n",
    "        \"format\": \"json\"\n",
    "    }\n",
    "}"
   ]
  },
  {
   "cell_type": "code",
   "execution_count": 16,
   "id": "aa455a8a",
   "metadata": {},
   "outputs": [],
   "source": [
    "# Skicka POST-förfrågan till SCB API\n",
    "response = requests.post(url, json=payload)"
   ]
  },
  {
   "cell_type": "code",
   "execution_count": 17,
   "id": "cbd623b3",
   "metadata": {},
   "outputs": [
    {
     "name": "stdout",
     "output_type": "stream",
     "text": [
      "Data har sparats till scb_dead_region.csv\n"
     ]
    }
   ],
   "source": [
    "# Kontrollera om förfrågan lyckades\n",
    "if response.status_code == 200:\n",
    "    data = response.json()\n",
    "    \n",
    "    # Skapa och spara data i CSV-format\n",
    "    with open('scb_dead_region.csv', mode='w', newline='', encoding='utf-8') as file:\n",
    "        writer = csv.writer(file)\n",
    "        # Skriv rubrikerna i CSV-filen\n",
    "        writer.writerow(['Region', 'Age', 'Year', 'Number'])\n",
    "\n",
    "        # Loopa genom data och skriv till CSV\n",
    "        for item in data['data']:\n",
    "            region = item['key'][0]\n",
    "            age = item['key'][1]\n",
    "            year = item['key'][2]\n",
    "            number = item['values'][0]\n",
    "            writer.writerow([region, age, year, number])\n",
    "\n",
    "    print(\"Data har sparats till scb_dead_region.csv\")\n",
    "else:\n",
    "    print(f\"Fel vid hämtning av data: {response.status_code}\")"
   ]
  },
  {
   "cell_type": "code",
   "execution_count": null,
   "id": "7b0733c8",
   "metadata": {},
   "outputs": [],
   "source": []
  },
  {
   "cell_type": "markdown",
   "id": "22f02bdb",
   "metadata": {},
   "source": [
    "Flyttningsöverskott efter region, ålder och år (https://www.statistikdatabasen.scb.se/pxweb/sv/ssd/START__BE__BE0101__BE0101J/Flyttningar97/table/tableViewLayout1/)"
   ]
  },
  {
   "cell_type": "code",
   "execution_count": 18,
   "id": "15b2599b",
   "metadata": {},
   "outputs": [],
   "source": [
    "# URL till SCB API för migration\n",
    "url = \"https://api.scb.se/OV0104/v1/doris/sv/ssd/START/BE/BE0101/BE0101J/Flyttningar97\"\n"
   ]
  },
  {
   "cell_type": "code",
   "execution_count": 19,
   "id": "74aef573",
   "metadata": {},
   "outputs": [],
   "source": [
    "# Payload enligt din specifikation\n",
    "payload = {\n",
    "    \"query\": [\n",
    "        {\n",
    "            \"code\": \"Region\",\n",
    "            \"selection\": {\n",
    "                \"filter\": \"vs:RegionLän99EjAggr\",\n",
    "                \"values\": [\n",
    "                    \"01\", \"03\", \"04\", \"05\", \"06\", \"07\", \"08\", \"09\", \"10\", \"12\", \"13\", \"14\",\n",
    "                    \"17\", \"18\", \"19\", \"20\", \"21\", \"22\", \"23\", \"24\", \"25\"\n",
    "                ]\n",
    "            }\n",
    "        },\n",
    "        {\n",
    "            \"code\": \"Alder\",\n",
    "            \"selection\": {\n",
    "                \"filter\": \"vs:Ålder1årA\",\n",
    "                \"values\": [str(i) for i in range(20)]  # åldrar 0 till 19\n",
    "            }\n",
    "        },\n",
    "        {\n",
    "            \"code\": \"ContentsCode\",\n",
    "            \"selection\": {\n",
    "                \"filter\": \"item\",\n",
    "                \"values\": [\"BE0101AZ\"]  # migrationsdata\n",
    "            }\n",
    "        },\n",
    "        {\n",
    "            \"code\": \"Tid\",\n",
    "            \"selection\": {\n",
    "                \"filter\": \"item\",\n",
    "                \"values\": [str(i) for i in range(2000, 2024)]  # åren 2000 till 2023\n",
    "            }\n",
    "        }\n",
    "    ],\n",
    "    \"response\": {\n",
    "        \"format\": \"json\"  # Ändra till JSON format för enkel hantering\n",
    "    }\n",
    "}\n"
   ]
  },
  {
   "cell_type": "code",
   "execution_count": 20,
   "id": "a523e223",
   "metadata": {},
   "outputs": [],
   "source": [
    "# Skicka förfrågan till API:et\n",
    "headers = {'Content-Type': 'application/json'}\n",
    "response = requests.post(url, headers=headers, data=json.dumps(payload))"
   ]
  },
  {
   "cell_type": "code",
   "execution_count": 21,
   "id": "a0021698",
   "metadata": {},
   "outputs": [
    {
     "name": "stdout",
     "output_type": "stream",
     "text": [
      "Data sparades till 'scb_migration_data.csv'.\n"
     ]
    }
   ],
   "source": [
    "# Kontrollera om förfrågan lyckades\n",
    "if response.status_code == 200:\n",
    "    data = response.json()\n",
    "    \n",
    "    # Omvandla API-svaret till DataFrame\n",
    "    rows = []\n",
    "    for item in data['data']:\n",
    "        row = {\n",
    "            \"Region\": item['key'][0],\n",
    "            \"Age\": item['key'][1],\n",
    "            \"Year\": item['key'][2],\n",
    "            \"Number\": item['values'][0]\n",
    "        }\n",
    "        rows.append(row)\n",
    "    \n",
    "    # Skapa DataFrame och spara som CSV\n",
    "    df = pd.DataFrame(rows)\n",
    "    df.to_csv('scb_migration_data.csv', index=False, encoding='utf-8-sig')\n",
    "    print(\"Data sparades till 'scb_migration_data.csv'.\")\n",
    "else:\n",
    "    print(f\"Fel: {response.status_code}, Detaljer: {response.text}\")"
   ]
  },
  {
   "cell_type": "code",
   "execution_count": null,
   "id": "f91cf96a",
   "metadata": {},
   "outputs": [],
   "source": []
  },
  {
   "cell_type": "code",
   "execution_count": null,
   "id": "50f5706a",
   "metadata": {},
   "outputs": [],
   "source": []
  },
  {
   "cell_type": "markdown",
   "id": "07f8a6d7",
   "metadata": {},
   "source": [
    "# 2. Data transformation. Database generators"
   ]
  },
  {
   "cell_type": "code",
   "execution_count": null,
   "id": "6bc48564",
   "metadata": {},
   "outputs": [],
   "source": []
  },
  {
   "cell_type": "markdown",
   "id": "d7b98e9c",
   "metadata": {},
   "source": [
    "1. Consolidation of population data"
   ]
  },
  {
   "cell_type": "code",
   "execution_count": 22,
   "id": "d2c2cc34",
   "metadata": {},
   "outputs": [],
   "source": [
    "# Loud data\n",
    "population_0_16 = pd.read_csv('scb_population_0_16_years.csv')\n",
    "population_17_19 = pd.read_csv('scb_population_17_19_years.csv')\n"
   ]
  },
  {
   "cell_type": "code",
   "execution_count": 23,
   "id": "08aafc80",
   "metadata": {},
   "outputs": [],
   "source": [
    "# Merge tables vertically\n",
    "combined_population = pd.concat([population_0_16, population_17_19], ignore_index=True)"
   ]
  },
  {
   "cell_type": "code",
   "execution_count": 24,
   "id": "0d0cde05",
   "metadata": {},
   "outputs": [
    {
     "name": "stdout",
     "output_type": "stream",
     "text": [
      "   Region  Age  Year  Population\n",
      "0       1    0  1968       19736\n",
      "1       1    0  1969       19351\n",
      "2       1    0  1970       20840\n",
      "3       1    0  1971       22142\n",
      "4       1    0  1972       22099\n"
     ]
    }
   ],
   "source": [
    "# Checking the result\n",
    "print(combined_population.head())"
   ]
  },
  {
   "cell_type": "code",
   "execution_count": 25,
   "id": "080903f5",
   "metadata": {},
   "outputs": [
    {
     "name": "stdout",
     "output_type": "stream",
     "text": [
      "   Region  Age  Year  Population\n",
      "0       1    0  1968       19736\n",
      "1       1    0  1969       19351\n",
      "2       1    0  1970       20840\n",
      "3       1    0  1971       22142\n",
      "4       1    0  1972       22099\n"
     ]
    }
   ],
   "source": [
    "# Save the merged table to a new CSV file\n",
    "combined_population.to_csv('combined_population_0_19_years.csv', index=False)\n",
    "\n",
    "print(combined_population.head())"
   ]
  },
  {
   "cell_type": "code",
   "execution_count": null,
   "id": "de298514",
   "metadata": {},
   "outputs": [],
   "source": []
  },
  {
   "cell_type": "markdown",
   "id": "f1a13e84",
   "metadata": {},
   "source": [
    "2.Calculation of the mortality rate"
   ]
  },
  {
   "cell_type": "code",
   "execution_count": 26,
   "id": "a005953e",
   "metadata": {},
   "outputs": [],
   "source": [
    "# Loading data from CSV files\n",
    "population_df = pd.read_csv('combined_population_0_19_years.csv')\n",
    "deaths_df = pd.read_csv('scb_dead_region.csv')\n"
   ]
  },
  {
   "cell_type": "code",
   "execution_count": 27,
   "id": "53c03e2e",
   "metadata": {},
   "outputs": [],
   "source": [
    "# Filter data by year (2000-2023)\n",
    "filtered_population = population_df[(population_df['Year'] >= 2000) & (population_df['Year'] <= 2023)]\n"
   ]
  },
  {
   "cell_type": "code",
   "execution_count": 28,
   "id": "5e9d1f2a",
   "metadata": {},
   "outputs": [],
   "source": [
    "# Grouping data by age and summing up the population (regardless of region and year)\n",
    "population_by_age = filtered_population.groupby('Age')['Population'].sum().reset_index()"
   ]
  },
  {
   "cell_type": "code",
   "execution_count": 29,
   "id": "88c9c6a1",
   "metadata": {},
   "outputs": [],
   "source": [
    "# Filtering and grouping data by age and summing up the number of deaths (2000-2023)\n",
    "deaths_by_age = deaths_df[(deaths_df['Year'] >= 2000) & (deaths_df['Year'] <= 2023)].groupby('Age')['Number'].sum().reset_index()"
   ]
  },
  {
   "cell_type": "code",
   "execution_count": 30,
   "id": "43dad8c2",
   "metadata": {},
   "outputs": [],
   "source": [
    "# Merge tables by age\n",
    "merged_df = pd.merge(population_by_age, deaths_by_age, left_on='Age', right_on='Age', how='inner')"
   ]
  },
  {
   "cell_type": "code",
   "execution_count": 31,
   "id": "28e06baa",
   "metadata": {},
   "outputs": [],
   "source": [
    "# Calculating the mortality rate\n",
    "merged_df['Mortality_Rate'] = (merged_df['Number'] / merged_df['Population']) * 100"
   ]
  },
  {
   "cell_type": "code",
   "execution_count": 32,
   "id": "b4889a84",
   "metadata": {},
   "outputs": [],
   "source": [
    "# Only the necessary columns Age and Mortality_Rate\n",
    "mortality_rate_df = merged_df[['Age', 'Mortality_Rate']]"
   ]
  },
  {
   "cell_type": "code",
   "execution_count": 33,
   "id": "45d10d1b",
   "metadata": {},
   "outputs": [],
   "source": [
    "# Save table to new CSV file\n",
    "mortality_rate_df.to_csv('mortality_rate.csv', index=False)\n"
   ]
  },
  {
   "cell_type": "code",
   "execution_count": 34,
   "id": "3e3caa53",
   "metadata": {},
   "outputs": [
    {
     "name": "stdout",
     "output_type": "stream",
     "text": [
      "    Age  Mortality_Rate\n",
      "0     0        0.212834\n",
      "1     1        0.043071\n",
      "2     2        0.015785\n",
      "3     3        0.011063\n",
      "4     4        0.009583\n",
      "5     5        0.008885\n",
      "6     6        0.007945\n",
      "7     7        0.006961\n",
      "8     8        0.006620\n",
      "9     9        0.006604\n",
      "10   10        0.006516\n",
      "11   11        0.007322\n",
      "12   12        0.007257\n",
      "13   13        0.009609\n",
      "14   14        0.010670\n",
      "15   15        0.015036\n",
      "16   16        0.016584\n",
      "17   17        0.022521\n",
      "18   18        0.027203\n",
      "19   19        0.035517\n"
     ]
    }
   ],
   "source": [
    "print(mortality_rate_df)"
   ]
  },
  {
   "cell_type": "code",
   "execution_count": null,
   "id": "4ccc40bd",
   "metadata": {},
   "outputs": [],
   "source": []
  },
  {
   "cell_type": "markdown",
   "id": "a2b7c446",
   "metadata": {},
   "source": [
    "3.Calculation of the migration rate"
   ]
  },
  {
   "cell_type": "code",
   "execution_count": 35,
   "id": "b82ee1d8",
   "metadata": {},
   "outputs": [],
   "source": [
    "# Reading population and migration data\n",
    "population_df = pd.read_csv('combined_population_0_19_years.csv')\n",
    "migration_df = pd.read_csv('scb_migration_data.csv')"
   ]
  },
  {
   "cell_type": "code",
   "execution_count": 36,
   "id": "a4e193ef",
   "metadata": {},
   "outputs": [],
   "source": [
    "# Filtering population data since 2000 to compare with migration\n",
    "population_df_filtered = population_df[population_df['Year'] >= 2000]"
   ]
  },
  {
   "cell_type": "code",
   "execution_count": 37,
   "id": "11758c5e",
   "metadata": {},
   "outputs": [],
   "source": [
    "# List for saving migration coefficients\n",
    "migration_rate_list = []\n"
   ]
  },
  {
   "cell_type": "code",
   "execution_count": 38,
   "id": "c9d62ccc",
   "metadata": {},
   "outputs": [],
   "source": [
    "# Calculation of migration rates\n",
    "for region in migration_df['Region'].unique():\n",
    "    for age in migration_df['Age'].unique():\n",
    "        migration_rates = []\n",
    "        for year in migration_df[migration_df['Year'] >= 2000]['Year'].unique():\n",
    "            # We receive population data for the current and previous years\n",
    "            previous_year_population = population_df_filtered[(population_df_filtered['Region'] == region) & \n",
    "                                                              (population_df_filtered['Age'] == age) & \n",
    "                                                              (population_df_filtered['Year'] == year - 1)]\n",
    "            migration_data = migration_df[(migration_df['Region'] == region) & \n",
    "                                          (migration_df['Age'] == age) & \n",
    "                                          (migration_df['Year'] == year)]\n",
    "            \n",
    "            if not previous_year_population.empty and not migration_data.empty:\n",
    "                population = previous_year_population['Population'].values[0]\n",
    "                migration = migration_data['Number'].values[0]\n",
    "                \n",
    "                # Calculate the migration rate\n",
    "                migration_rate = (migration / population) * 100\n",
    "                migration_rates.append(migration_rate)\n",
    "        \n",
    "        # If the migration coefficients have been calculated, we calculate their average value\n",
    "        if migration_rates:\n",
    "            avg_migration_rate = sum(migration_rates) / len(migration_rates)\n",
    "            migration_rate_list.append([region, age, avg_migration_rate])\n",
    "\n"
   ]
  },
  {
   "cell_type": "code",
   "execution_count": 39,
   "id": "e830457f",
   "metadata": {},
   "outputs": [],
   "source": [
    "# Check the length of the list strings to avoid error\n",
    "for row in migration_rate_list:\n",
    "    assert len(row) == 3, f\"Error: The row {row} contains {len(row)} elements instead of 3.\"\n",
    "\n"
   ]
  },
  {
   "cell_type": "code",
   "execution_count": 40,
   "id": "c890965e",
   "metadata": {},
   "outputs": [],
   "source": [
    "# Convert List to DataFrame\n",
    "migration_rate_df = pd.DataFrame(migration_rate_list, columns=['Region', 'Age', 'Average_Migration_Rate'])\n",
    "\n"
   ]
  },
  {
   "cell_type": "code",
   "execution_count": 41,
   "id": "0fb717f9",
   "metadata": {},
   "outputs": [],
   "source": [
    "# Saving table to CSV file\n",
    "migration_rate_df.to_csv('migration_rate.csv', index=False)"
   ]
  },
  {
   "cell_type": "code",
   "execution_count": null,
   "id": "feaf055b",
   "metadata": {},
   "outputs": [],
   "source": []
  },
  {
   "cell_type": "code",
   "execution_count": null,
   "id": "4705b1fb",
   "metadata": {},
   "outputs": [],
   "source": []
  },
  {
   "cell_type": "markdown",
   "id": "3210c657",
   "metadata": {},
   "source": [
    "# 3. Create SQL database"
   ]
  },
  {
   "cell_type": "code",
   "execution_count": 42,
   "id": "889b3e84",
   "metadata": {},
   "outputs": [],
   "source": [
    "# Creating connections to the SQLite database\n",
    "conn = sqlite3.connect('education_costs_db.sqlite')\n",
    "cursor = conn.cursor()"
   ]
  },
  {
   "cell_type": "code",
   "execution_count": 43,
   "id": "271117e2",
   "metadata": {},
   "outputs": [],
   "source": [
    "# Load data from CSV file\n",
    "combined_population_df = pd.read_csv('combined_population_0_19_years.csv')\n",
    "mortality_rate_df = pd.read_csv('mortality_rate.csv')\n",
    "birth_data_df = pd.read_csv('region_birth_data.csv')\n",
    "migration_rate_df=pd.read_csv('migration_rate.csv')\n",
    "grundskola_costs_df=pd.read_csv('grundskola_costs_per_child.csv')\n",
    "gymnasieskola_costs_df=pd.read_csv('gymnasieskola_costs_per_child.csv')\n",
    "region_df = pd.read_csv('region.csv', encoding='ISO-8859-1')"
   ]
  },
  {
   "cell_type": "code",
   "execution_count": 44,
   "id": "348175b9",
   "metadata": {},
   "outputs": [
    {
     "data": {
      "text/plain": [
       "21"
      ]
     },
     "execution_count": 44,
     "metadata": {},
     "output_type": "execute_result"
    }
   ],
   "source": [
    "# Saving CSV files to SQL database\n",
    "combined_population_df.to_sql('combined_population_0_19_years', conn, if_exists='replace', index=False) \n",
    "mortality_rate_df.to_sql('mortality_rate', conn, if_exists='replace', index=False)\n",
    "birth_data_df.to_sql('birth_data', conn, if_exists='replace', index=False) \n",
    "migration_rate_df.to_sql('migration_rate', conn, if_exists='replace', index=False) \n",
    "grundskola_costs_df.to_sql('grundskola_costs', conn, if_exists='replace', index=False) \n",
    "gymnasieskola_costs_df.to_sql('gymnasieskola_costs', conn, if_exists='replace', index=False)\n",
    "region_df.to_sql('region', conn, if_exists='replace', index=False)"
   ]
  },
  {
   "cell_type": "code",
   "execution_count": 45,
   "id": "e8307b62",
   "metadata": {},
   "outputs": [
    {
     "name": "stdout",
     "output_type": "stream",
     "text": [
      "Created tables: [('predictions_birth_2024_2029',), ('year_klass',), ('birth_2007_2029',), ('school_gymnasium_results',), ('grundskola_costs_forecast',), ('gymnasieskola_costs_forecast',), ('Cost_region_grundskola_forecast_2025_2035',), ('Cost_region_gymnasieskola_forecast_2025_2035',), ('combined_population_0_19_years',), ('mortality_rate',), ('birth_data',), ('migration_rate',), ('grundskola_costs',), ('gymnasieskola_costs',), ('region',)]\n"
     ]
    }
   ],
   "source": [
    "# Check that the tables are created\n",
    "cursor.execute(\"SELECT name FROM sqlite_master WHERE type='table';\")\n",
    "tables = cursor.fetchall()\n",
    "print(\"Created tables:\", tables)\n"
   ]
  },
  {
   "cell_type": "code",
   "execution_count": 46,
   "id": "8a2dc8da",
   "metadata": {},
   "outputs": [
    {
     "name": "stdout",
     "output_type": "stream",
     "text": [
      "\n",
      "Table predictions_birth_2024_2029:\n",
      "   Year  Region  Number\n",
      "0  2024       1   23812\n",
      "1  2025       1   23746\n",
      "2  2026       1   23764\n",
      "3  2027       1   23974\n",
      "4  2028       1   23787\n",
      "\n",
      "Table year_klass:\n",
      "   year  F_school  1_school  2_school  3_school  4_school  5_school  6_school  \\\n",
      "0  2025      2019      2018      2017      2016      2015      2014      2013   \n",
      "1  2026      2020      2019      2018      2017      2016      2015      2014   \n",
      "2  2027      2021      2020      2019      2018      2017      2016      2015   \n",
      "3  2028      2022      2021      2020      2019      2018      2017      2016   \n",
      "4  2029      2023      2022      2021      2020      2019      2018      2017   \n",
      "\n",
      "   7_school  8_school  9_school  1_gymnasium  2_gymnasium  3__gymnasium  \n",
      "0      2012      2011      2010         2009         2008          2007  \n",
      "1      2013      2012      2011         2010         2009          2008  \n",
      "2      2014      2013      2012         2011         2010          2009  \n",
      "3      2015      2014      2013         2012         2011          2010  \n",
      "4      2016      2015      2014         2013         2012          2011  \n",
      "\n",
      "Table birth_2007_2029:\n",
      "   Region  Year  Number\n",
      "0       1  2007   27421\n",
      "1       1  2008   27948\n",
      "2       1  2009   28570\n",
      "3       1  2010   29619\n",
      "4       1  2011   28650\n",
      "\n",
      "Table school_gymnasium_results:\n",
      "   year  F_school  1_school  2_school  3_school  4_school  5_school  6_school  \\\n",
      "0  2025     28232     28534     28677     29375     29386     29603     29845   \n",
      "1  2026     28289     28238     28579     28725     29462     29487     29727   \n",
      "2  2027     28886     28295     28283     28626     28810     29564     29611   \n",
      "3  2028     26192     28892     28340     28330     28711     28909     29688   \n",
      "4  2029     25621     26198     28938     28387     28414     28810     29031   \n",
      "\n",
      "   7_school  8_school  9_school  1_gymnasium  2_gymnasium  3__gymnasium  \\\n",
      "0     29298     29176     30359        29506        29202         28988   \n",
      "1     29987     29464     29366        30590        29852         29545   \n",
      "2     29869     30157     29655        29589        30948         30203   \n",
      "3     29753     30038     30353        29880        29935         31312   \n",
      "4     29830     29921     30233        30584        30230         30287   \n",
      "\n",
      "   Region  \n",
      "0       1  \n",
      "1       1  \n",
      "2       1  \n",
      "3       1  \n",
      "4       1  \n",
      "\n",
      "Table grundskola_costs_forecast:\n",
      "   Year  Predicted_Fixed_Cost_per_child_kr  \\\n",
      "0  2023                             138587   \n",
      "1  2024                             140938   \n",
      "2  2025                             143290   \n",
      "3  2026                             145642   \n",
      "4  2027                             147993   \n",
      "\n",
      "   Predicted_Current_Cost_per_child_kr  \n",
      "0                               130030  \n",
      "1                               133284  \n",
      "2                               136537  \n",
      "3                               139791  \n",
      "4                               143044  \n",
      "\n",
      "Table gymnasieskola_costs_forecast:\n",
      "   Year  Predicted_Fixed_Cost_per_child_kr  \\\n",
      "0  2023                             148392   \n",
      "1  2024                             150495   \n",
      "2  2025                             152598   \n",
      "3  2026                             154701   \n",
      "4  2027                             156804   \n",
      "\n",
      "   Predicted_Current_Cost_per_child_kr  \n",
      "0                               139138  \n",
      "1                               142268  \n",
      "2                               145399  \n",
      "3                               148530  \n",
      "4                               151661  \n",
      "\n",
      "Table Cost_region_grundskola_forecast_2025_2035:\n",
      "   Region  Year  Predicted_Fixed_Cost  Predicted_Current_Cost\n",
      "0       1  2025           41910175650             39935024445\n",
      "1       1  2026           42429010008             40724473284\n",
      "2       1  2027           43177845708             41733945264\n",
      "3       1  2028           43480676070             42310259388\n",
      "4       1  2029           43577127951             42679313033\n",
      "\n",
      "Table Cost_region_gymnasieskola_forecast_2025_2035:\n",
      "   Region  Year  Predicted_Fixed_Cost  Predicted_Current_Cost\n",
      "0       1  2025           13382234208             12750910704\n",
      "1       1  2026           13921078887             13365769110\n",
      "2       1  2027           14228394960             13761719140\n",
      "3       1  2028           14480627062             14105730584\n",
      "4       1  2029           14668080909             14386943223\n",
      "\n",
      "Table combined_population_0_19_years:\n",
      "   Region  Age  Year  Population\n",
      "0       1    0  1968       19736\n",
      "1       1    0  1969       19351\n",
      "2       1    0  1970       20840\n",
      "3       1    0  1971       22142\n",
      "4       1    0  1972       22099\n",
      "\n",
      "Table mortality_rate:\n",
      "   Age  Mortality_Rate\n",
      "0    0        0.212834\n",
      "1    1        0.043071\n",
      "2    2        0.015785\n",
      "3    3        0.011063\n",
      "4    4        0.009583\n",
      "\n",
      "Table birth_data:\n",
      "   Region  Year  Number\n",
      "0       1  1968   20095\n",
      "1       1  1969   19703\n",
      "2       1  1970   21113\n",
      "3       1  1971   22834\n",
      "4       1  1972   22316\n",
      "\n",
      "Table migration_rate:\n",
      "   Region  Age  Average_Migration_Rate\n",
      "0       1    0                0.029957\n",
      "1       1    1                0.029345\n",
      "2       1    2               -0.122223\n",
      "3       1    3               -0.191543\n",
      "4       1    4               -0.066815\n",
      "\n",
      "Table grundskola_costs:\n",
      "   Year  Fixed_cost_per_child_kr  Current_cost_per_child_kr\n",
      "0  2007                   101392                      79200\n",
      "1  2008                   103429                      83600\n",
      "2  2009                   106611                      85900\n",
      "3  2010                   108217                      88300\n",
      "4  2011                   108075                      90500\n",
      "\n",
      "Table gymnasieskola_costs:\n",
      "   Year  Fixed_cost_per_child_kr  Current_cost_per_child_kr\n",
      "0  2007                   113809                      88900\n",
      "1  2008                   114316                      92400\n",
      "2  2009                   116416                      93800\n",
      "3  2010                   117532                      95900\n",
      "4  2011                   119539                     100100\n",
      "\n",
      "Table region:\n",
      "   Region        Name_Region\n",
      "0       1     Stockholms län\n",
      "1       3        Uppsala län\n",
      "2       4  Södermanlands län\n",
      "3       5  Östergötlands län\n",
      "4       6     Jönköpings län\n"
     ]
    }
   ],
   "source": [
    "# Check the contents of each table\n",
    "for table in tables:\n",
    "    table_name = table[0]\n",
    "    print(f\"\\nTable {table_name}:\")\n",
    "    \n",
    "    # Execute SQL query to get first 5 rows from each table\n",
    "    data = pd.read_sql_query(f\"SELECT * FROM {table_name} LIMIT 5;\", conn)\n",
    "    print(data)"
   ]
  },
  {
   "cell_type": "code",
   "execution_count": 47,
   "id": "17e08662",
   "metadata": {},
   "outputs": [],
   "source": [
    "\n",
    "conn.close()"
   ]
  },
  {
   "cell_type": "markdown",
   "id": "b8a11c8e",
   "metadata": {},
   "source": []
  },
  {
   "cell_type": "markdown",
   "id": "07634c26",
   "metadata": {},
   "source": [
    "# 4. Verifying the correctness of migration and mortality rates"
   ]
  },
  {
   "cell_type": "markdown",
   "id": "db6f0b5d",
   "metadata": {},
   "source": [
    "Algorithm:\n",
    "Extract data for children in 2004 from the birth_data table.\n",
    "Apply migration and death rates for each year in sequence.\n",
    "Compare with the number of 19-year-olds in 2023."
   ]
  },
  {
   "cell_type": "code",
   "execution_count": 48,
   "id": "0d367ca8",
   "metadata": {},
   "outputs": [],
   "source": [
    "# Connections to SQLite database\n",
    "conn = sqlite3.connect('education_costs_db.sqlite')"
   ]
  },
  {
   "cell_type": "code",
   "execution_count": 49,
   "id": "9eabb6e0",
   "metadata": {},
   "outputs": [],
   "source": [
    "# Loading data\n",
    "combined_population_df = pd.read_csv('combined_population_0_19_years.csv')\n",
    "mortality_rate_df = pd.read_csv('mortality_rate.csv')\n",
    "birth_data_df = pd.read_csv('region_birth_data.csv')\n",
    "migration_rate_df = pd.read_csv('migration_rate.csv')"
   ]
  },
  {
   "cell_type": "code",
   "execution_count": 50,
   "id": "f5d9f2b0",
   "metadata": {},
   "outputs": [],
   "source": [
    "# Parameters\n",
    "region_id = 14\n",
    "start_year = 2004\n",
    "max_age = 20  # Возраст от 0 до 19 лет"
   ]
  },
  {
   "cell_type": "code",
   "execution_count": 51,
   "id": "9e9814c1",
   "metadata": {},
   "outputs": [],
   "source": [
    "# Preparing for data storage\n",
    "results = []\n"
   ]
  },
  {
   "cell_type": "code",
   "execution_count": 52,
   "id": "5347ea9a",
   "metadata": {},
   "outputs": [],
   "source": [
    "# Initial values\n",
    "adjusted_population = None  # Initially empty for starting year"
   ]
  },
  {
   "cell_type": "code",
   "execution_count": 53,
   "id": "61b6300f",
   "metadata": {
    "scrolled": true
   },
   "outputs": [],
   "source": [
    "# Age selection from 0 to 19 years\n",
    "for age in range(max_age):\n",
    "    year = start_year + age\n",
    "    \n",
    "    # 1. We get the number of people born in 2004\n",
    "    if year == start_year:\n",
    "        initial_number = birth_data_df.loc[(birth_data_df['Year'] == year) & (birth_data_df['Region'] == region_id), 'Number'].values[0]\n",
    "        adjusted_population = initial_number  # Keep the initial number of births\n",
    "    else:\n",
    "        # Use the previous adjusted_population value\n",
    "        initial_number = adjusted_population\n",
    "\n",
    "    # 2. Obtain coefficients from tables\n",
    "    # Mortality\n",
    "    mortality_rate = mortality_rate_df.loc[mortality_rate_df['Age'] == age, 'Mortality_Rate'].values[0] / 100  \n",
    "\n",
    "    # Apply the mortality rate\n",
    "    population_after_mortality = adjusted_population * (1 - mortality_rate)\n",
    "\n",
    "    # Migration\n",
    "    migration_rate = migration_rate_df.loc[(migration_rate_df['Region'] == region_id) & (migration_rate_df['Age'] == age), 'Average_Migration_Rate'].values[0] / 100  # Делим на 100\n",
    "\n",
    "    # Apply the migration coefficient\n",
    "    population_after_migration = population_after_mortality * (1 + migration_rate)\n",
    "\n",
    "    # Update adjusted_population for next year\n",
    "    adjusted_population = round(population_after_migration)\n",
    "\n",
    "    # 3. Get the real number of people from the combined_population_0_19_years.csv\n",
    "    real_population = combined_population_df.loc[(combined_population_df['Year'] == year) & \n",
    "                                                 (combined_population_df['Region'] == region_id) & \n",
    "                                                 (combined_population_df['Age'] == age), \n",
    "                                                 'Population'].values[0]\n",
    "\n",
    "   # 4. Calculate the difference\n",
    "    difference = real_population - adjusted_population\n",
    "    percentage_difference = (difference / real_population) * 100 if real_population != 0 else 0\n",
    "\n",
    "   # Save the results\n",
    "    results.append({\n",
    "        'Year': year,\n",
    "        'Age': age,\n",
    "        'Initial_Number': initial_number,\n",
    "        'Mortality_Rate': mortality_rate * 100,  # Return to percentages for the report\n",
    "        'Population_After_Mortality': round(population_after_mortality),\n",
    "        'Average_Migration_Rate': migration_rate * 100,  # Return to percentages for the report\n",
    "        'Population_After_Migration': round(population_after_migration),\n",
    "        'Adjusted_Population': adjusted_population,  # Use the new value for adjusted_population\n",
    "        'Real_Population': real_population,\n",
    "        'Difference': round(difference),\n",
    "        'Percentage_Difference': round(percentage_difference, 2)\n",
    "    })\n",
    "\n"
   ]
  },
  {
   "cell_type": "code",
   "execution_count": 54,
   "id": "5650deeb",
   "metadata": {},
   "outputs": [
    {
     "name": "stdout",
     "output_type": "stream",
     "text": [
      "    Year  Age  Initial_Number  Mortality_Rate  Population_After_Mortality  \\\n",
      "0   2004    0           17086        0.212834                       17050   \n",
      "1   2005    1           17105        0.043071                       17098   \n",
      "2   2006    2           17210        0.015785                       17207   \n",
      "3   2007    3           17292        0.011063                       17290   \n",
      "4   2008    4           17371        0.009583                       17369   \n",
      "5   2009    5           17449        0.008885                       17447   \n",
      "6   2010    6           17526        0.007945                       17525   \n",
      "7   2011    7           17608        0.006961                       17607   \n",
      "8   2012    8           17695        0.006620                       17694   \n",
      "9   2013    9           17793        0.006604                       17792   \n",
      "10  2014   10           17900        0.006516                       17899   \n",
      "11  2015   11           18013        0.007322                       18012   \n",
      "12  2016   12           18118        0.007257                       18117   \n",
      "13  2017   13           18230        0.009609                       18228   \n",
      "14  2018   14           18344        0.010670                       18342   \n",
      "15  2019   15           18471        0.015036                       18468   \n",
      "16  2020   16           18610        0.016584                       18607   \n",
      "17  2021   17           18800        0.022521                       18796   \n",
      "18  2022   18           18979        0.027203                       18974   \n",
      "19  2023   19           19197        0.035517                       19190   \n",
      "\n",
      "    Average_Migration_Rate  Population_After_Migration  Adjusted_Population  \\\n",
      "0                 0.326418                       17105                17105   \n",
      "1                 0.659918                       17210                17210   \n",
      "2                 0.492876                       17292                17292   \n",
      "3                 0.469940                       17371                17371   \n",
      "4                 0.457609                       17449                17449   \n",
      "5                 0.447485                       17526                17526   \n",
      "6                 0.476230                       17608                17608   \n",
      "7                 0.498352                       17695                17695   \n",
      "8                 0.562922                       17793                17793   \n",
      "9                 0.606391                       17900                17900   \n",
      "10                0.635849                       18013                18013   \n",
      "11                0.589466                       18118                18118   \n",
      "12                0.624519                       18230                18230   \n",
      "13                0.632396                       18344                18344   \n",
      "14                0.703116                       18471                18471   \n",
      "15                0.767886                       18610                18610   \n",
      "16                1.036624                       18800                18800   \n",
      "17                0.974900                       18979                18979   \n",
      "18                1.176846                       19197                19197   \n",
      "19                1.025021                       19387                19387   \n",
      "\n",
      "    Real_Population  Difference  Percentage_Difference  \n",
      "0             17039         -66                  -0.39  \n",
      "1             17150         -60                  -0.35  \n",
      "2             17189        -103                  -0.60  \n",
      "3             17230        -141                  -0.82  \n",
      "4             17271        -178                  -1.03  \n",
      "5             17343        -183                  -1.06  \n",
      "6             17422        -186                  -1.07  \n",
      "7             17492        -203                  -1.16  \n",
      "8             17611        -182                  -1.03  \n",
      "9             17850         -50                  -0.28  \n",
      "10            18052          39                   0.22  \n",
      "11            18263         145                   0.79  \n",
      "12            18565         335                   1.80  \n",
      "13            18803         459                   2.44  \n",
      "14            19052         581                   3.05  \n",
      "15            19175         565                   2.95  \n",
      "16            19240         440                   2.29  \n",
      "17            19352         373                   1.93  \n",
      "18            19485         288                   1.48  \n",
      "19            19754         367                   1.86  \n"
     ]
    }
   ],
   "source": [
    "# Convert the results to a DataFrame for easy display\n",
    "results_df = pd.DataFrame(results)\n",
    "print(results_df)\n"
   ]
  },
  {
   "cell_type": "code",
   "execution_count": 55,
   "id": "177009e2",
   "metadata": {},
   "outputs": [],
   "source": [
    "# Closing the connection\n",
    "conn.close()"
   ]
  },
  {
   "cell_type": "code",
   "execution_count": null,
   "id": "c062b46f",
   "metadata": {},
   "outputs": [],
   "source": []
  },
  {
   "cell_type": "markdown",
   "id": "5d2c5ed7",
   "metadata": {},
   "source": [
    "# 5. Modell"
   ]
  },
  {
   "cell_type": "markdown",
   "id": "ae4b8c67",
   "metadata": {},
   "source": [
    "# LSTM "
   ]
  },
  {
   "cell_type": "markdown",
   "id": "4dc32f22",
   "metadata": {},
   "source": [
    "https://keras.io/api/layers/recurrent_layers/lstm/"
   ]
  },
  {
   "cell_type": "code",
   "execution_count": 56,
   "id": "66fd983b",
   "metadata": {},
   "outputs": [],
   "source": [
    "from tensorflow.keras.models import Sequential\n",
    "from tensorflow.keras.layers import LSTM, Dense, Dropout, BatchNormalization"
   ]
  },
  {
   "cell_type": "code",
   "execution_count": 57,
   "id": "47d7878e",
   "metadata": {},
   "outputs": [],
   "source": [
    "# Connect to the database\n",
    "conn = sqlite3.connect('education_costs_db.sqlite')"
   ]
  },
  {
   "cell_type": "code",
   "execution_count": 58,
   "id": "5a90b6dd",
   "metadata": {},
   "outputs": [],
   "source": [
    "# Loading birth data\n",
    "data = pd.read_sql_query(\"SELECT * FROM birth_data\", conn)\n",
    "data['Year'] = pd.to_datetime(data['Year'], format='%Y').dt.year\n",
    "data = data.sort_values(by=['Region', 'Year'])"
   ]
  },
  {
   "cell_type": "code",
   "execution_count": 59,
   "id": "e37f8798",
   "metadata": {},
   "outputs": [],
   "source": [
    "# Data preparation\n",
    "data_pivot = data.pivot(index='Year', columns='Region', values='Number')\n",
    "data_pivot = data_pivot.fillna(0)"
   ]
  },
  {
   "cell_type": "code",
   "execution_count": 60,
   "id": "4c454536",
   "metadata": {},
   "outputs": [],
   "source": [
    "# Normalize the data\n",
    "scaler = MinMaxScaler()"
   ]
  },
  {
   "cell_type": "code",
   "execution_count": 61,
   "id": "8b582901",
   "metadata": {},
   "outputs": [],
   "source": [
    "# Define 'numbers' as data from 'data_pivot' (all values to be scaled)\n",
    "numbers = data_pivot.values  \n"
   ]
  },
  {
   "cell_type": "code",
   "execution_count": 62,
   "id": "516d9efd",
   "metadata": {},
   "outputs": [],
   "source": [
    "# Transform the data\n",
    "numbers_scaled = scaler.fit_transform(numbers)"
   ]
  },
  {
   "cell_type": "code",
   "execution_count": 63,
   "id": "aabfdaba",
   "metadata": {},
   "outputs": [],
   "source": [
    "# Use normalized data to train the model\n",
    "# Prepare input data for LSTM\n",
    "X = []\n",
    "y = []\n",
    "time_step = 5"
   ]
  },
  {
   "cell_type": "code",
   "execution_count": 64,
   "id": "1010364c",
   "metadata": {},
   "outputs": [],
   "source": [
    "for i in range(len(numbers_scaled) - time_step):\n",
    "    X.append(numbers_scaled[i:i + time_step])\n",
    "    y.append(numbers_scaled[i + time_step])\n",
    "\n",
    "X = np.array(X)\n",
    "y = np.array(y)"
   ]
  },
  {
   "cell_type": "code",
   "execution_count": 65,
   "id": "811b06e5",
   "metadata": {},
   "outputs": [],
   "source": [
    "# Reshape X for LSTM\n",
    "X = X.reshape((X.shape[0], X.shape[1], X.shape[2]))"
   ]
  },
  {
   "cell_type": "code",
   "execution_count": 66,
   "id": "015dc40f",
   "metadata": {},
   "outputs": [],
   "source": [
    "# Splitting into training and testing data\n",
    "train_size = len(X) - 5\n",
    "X_train, X_test = X[:train_size], X[train_size:]\n",
    "y_train, y_test = y[:train_size], y[train_size:]\n"
   ]
  },
  {
   "cell_type": "code",
   "execution_count": 67,
   "id": "5da53ced",
   "metadata": {},
   "outputs": [
    {
     "name": "stderr",
     "output_type": "stream",
     "text": [
      "C:\\Users\\lidii\\anaconda3\\Lib\\site-packages\\keras\\src\\layers\\rnn\\rnn.py:205: UserWarning: Do not pass an `input_shape`/`input_dim` argument to a layer. When using Sequential models, prefer using an `Input(shape)` object as the first layer in the model instead.\n",
      "  super().__init__(**kwargs)\n"
     ]
    }
   ],
   "source": [
    "# Creating a model\n",
    "model = Sequential()\n",
    "model.add(LSTM(150, activation='relu', return_sequences=True, input_shape=(time_step, X.shape[2])))\n",
    "model.add(Dropout(0.2))\n",
    "model.add(BatchNormalization())\n",
    "#model.add(LSTM(150, activation='relu', return_sequences=True))\n",
    "model.add(Dropout(0.2))\n",
    "model.add(LSTM(100, activation='relu'))\n",
    "model.add(Dense(100, activation='relu'))\n",
    "model.add(Dense(X.shape[2]))  # Один выход для каждого региона\n",
    "\n",
    "model.compile(optimizer='adam', loss='mse')"
   ]
  },
  {
   "cell_type": "code",
   "execution_count": 68,
   "id": "e670b319",
   "metadata": {},
   "outputs": [
    {
     "data": {
      "text/plain": [
       "<keras.src.callbacks.history.History at 0x1d75c63ab10>"
      ]
     },
     "execution_count": 68,
     "metadata": {},
     "output_type": "execute_result"
    }
   ],
   "source": [
    "# Model training\n",
    "model.fit(X_train, y_train, epochs=200, batch_size=32, verbose=0)\n"
   ]
  },
  {
   "cell_type": "code",
   "execution_count": 69,
   "id": "7ee3d4b8",
   "metadata": {},
   "outputs": [
    {
     "name": "stdout",
     "output_type": "stream",
     "text": [
      "\u001b[1m1/1\u001b[0m \u001b[32m━━━━━━━━━━━━━━━━━━━━\u001b[0m\u001b[37m\u001b[0m \u001b[1m1s\u001b[0m 777ms/step\n"
     ]
    }
   ],
   "source": [
    "# Forecasting on test data\n",
    "test_predictions = model.predict(X_test)"
   ]
  },
  {
   "cell_type": "code",
   "execution_count": 70,
   "id": "d9c5c827",
   "metadata": {},
   "outputs": [],
   "source": [
    "# Convert predictions back to original scale\n",
    "test_predictions_original_scale = scaler.inverse_transform(test_predictions)\n"
   ]
  },
  {
   "cell_type": "code",
   "execution_count": 71,
   "id": "393039b9",
   "metadata": {},
   "outputs": [],
   "source": [
    "# Convert test data and predictions to DataFrame\n",
    "test_predictions_df = pd.DataFrame(test_predictions_original_scale, columns=data_pivot.columns, \n",
    "                                   index=[data_pivot.index[-5], data_pivot.index[-4], data_pivot.index[-3], data_pivot.index[-2], data_pivot.index[-1]])\n"
   ]
  },
  {
   "cell_type": "code",
   "execution_count": 72,
   "id": "fc4d066f",
   "metadata": {},
   "outputs": [],
   "source": [
    "# Convert real test values back to original scale\n",
    "y_test_original_scale = scaler.inverse_transform(y_test)\n"
   ]
  },
  {
   "cell_type": "code",
   "execution_count": 73,
   "id": "c64182f6",
   "metadata": {},
   "outputs": [],
   "source": [
    "# Converting real values to DataFrame\n",
    "real_values_df = pd.DataFrame(y_test_original_scale, columns=data_pivot.columns, \n",
    "                              index=[data_pivot.index[-5], data_pivot.index[-4], data_pivot.index[-3], data_pivot.index[-2], data_pivot.index[-1]])"
   ]
  },
  {
   "cell_type": "code",
   "execution_count": 74,
   "id": "41a8a5e3",
   "metadata": {},
   "outputs": [],
   "source": [
    "# Calculating the percentage error\n",
    "percentage_error_df = abs((real_values_df - test_predictions_df) / real_values_df) * 100\n"
   ]
  },
  {
   "cell_type": "code",
   "execution_count": 75,
   "id": "4be1d352",
   "metadata": {},
   "outputs": [],
   "source": [
    "# Forecast for the next 6 years (including 2029)029)\n",
    "last_sequence = numbers_scaled[-time_step:]  # Latest data for forecasting\n",
    "last_sequence = last_sequence.reshape(1, time_step, last_sequence.shape[1])\n",
    "\n",
    "future_predictions = []\n",
    "\n"
   ]
  },
  {
   "cell_type": "code",
   "execution_count": 76,
   "id": "7a1b2b18",
   "metadata": {},
   "outputs": [
    {
     "name": "stdout",
     "output_type": "stream",
     "text": [
      "\u001b[1m1/1\u001b[0m \u001b[32m━━━━━━━━━━━━━━━━━━━━\u001b[0m\u001b[37m\u001b[0m \u001b[1m1s\u001b[0m 667ms/step\n",
      "\u001b[1m1/1\u001b[0m \u001b[32m━━━━━━━━━━━━━━━━━━━━\u001b[0m\u001b[37m\u001b[0m \u001b[1m0s\u001b[0m 49ms/step\n",
      "\u001b[1m1/1\u001b[0m \u001b[32m━━━━━━━━━━━━━━━━━━━━\u001b[0m\u001b[37m\u001b[0m \u001b[1m0s\u001b[0m 35ms/step\n",
      "\u001b[1m1/1\u001b[0m \u001b[32m━━━━━━━━━━━━━━━━━━━━\u001b[0m\u001b[37m\u001b[0m \u001b[1m0s\u001b[0m 57ms/step\n",
      "\u001b[1m1/1\u001b[0m \u001b[32m━━━━━━━━━━━━━━━━━━━━\u001b[0m\u001b[37m\u001b[0m \u001b[1m0s\u001b[0m 44ms/step\n",
      "\u001b[1m1/1\u001b[0m \u001b[32m━━━━━━━━━━━━━━━━━━━━\u001b[0m\u001b[37m\u001b[0m \u001b[1m0s\u001b[0m 40ms/step\n"
     ]
    }
   ],
   "source": [
    "for _ in range(6):  # Forecast for 6 years (2024-2029)\n",
    "    predicted = model.predict(last_sequence)\n",
    "    future_predictions.append(predicted[0])\n",
    "    \n",
    "    # Update the sequence for the next forecast\n",
    "    last_sequence = np.append(last_sequence[:, 1:, :], predicted.reshape(1, 1, predicted.shape[1]), axis=1)"
   ]
  },
  {
   "cell_type": "code",
   "execution_count": 77,
   "id": "7e272ca2",
   "metadata": {},
   "outputs": [],
   "source": [
    "# Transform future predictions back to their original scale\n",
    "future_predictions_original_scale = scaler.inverse_transform(future_predictions)\n"
   ]
  },
  {
   "cell_type": "code",
   "execution_count": 78,
   "id": "91a49efb",
   "metadata": {},
   "outputs": [],
   "source": [
    "# Converting Future Predictions to DataFrame\n",
    "future_predictions_df = pd.DataFrame(future_predictions_original_scale, columns=data_pivot.columns, \n",
    "                                     index=[2024, 2025, 2026, 2027, 2028, 2029])"
   ]
  },
  {
   "cell_type": "code",
   "execution_count": 79,
   "id": "0d12fd5a",
   "metadata": {},
   "outputs": [
    {
     "name": "stdout",
     "output_type": "stream",
     "text": [
      "Test results for the last 6 years (predicted values):\n",
      "Region            1            3            4            5            6   \\\n",
      "2019    24086.896484  3613.005371  2765.928955  4599.602539  3701.907959   \n",
      "2020    24048.250000  3605.134277  2762.048584  4596.639648  3695.633545   \n",
      "2021    23981.492188  3596.229248  2756.645264  4589.827637  3689.840820   \n",
      "2022    23955.839844  3588.979980  2749.330078  4587.117188  3685.309326   \n",
      "2023    23860.302734  3573.031494  2730.505371  4568.717773  3672.254883   \n",
      "\n",
      "Region           7            8           9            10            12  ...  \\\n",
      "2019    1948.592285  2257.983154  511.502777  1485.791626  13488.348633  ...   \n",
      "2020    1945.129761  2257.364258  510.770905  1483.336304  13456.461914  ...   \n",
      "2021    1940.360107  2248.848145  508.343658  1479.727539  13416.940430  ...   \n",
      "2022    1936.792847  2246.273193  508.613953  1478.914429  13389.180664  ...   \n",
      "2023    1924.165527  2218.534424  506.524506  1470.821289  13321.606445  ...   \n",
      "\n",
      "Region            14           17           18           19           20  \\\n",
      "2019    17594.021484  2671.835205  3012.235840  2728.628174  2748.447266   \n",
      "2020    17575.568359  2670.660156  3012.435791  2723.479736  2742.069092   \n",
      "2021    17547.365234  2656.666260  3007.802979  2719.183105  2737.932373   \n",
      "2022    17534.205078  2653.043457  3006.409668  2713.665039  2730.555664   \n",
      "2023    17461.580078  2633.776611  2999.612793  2694.564209  2712.381348   \n",
      "\n",
      "Region           21           22           23           24           25  \n",
      "2019    2718.898682  2318.812988  1258.327026  2687.326172  2322.943848  \n",
      "2020    2716.626465  2318.732178  1256.663574  2692.277588  2328.394287  \n",
      "2021    2707.606689  2302.402832  1251.693848  2685.939453  2315.961426  \n",
      "2022    2708.604004  2299.412109  1251.748169  2687.923340  2317.432373  \n",
      "2023    2696.796875  2273.713623  1244.740601  2674.360596  2297.140625  \n",
      "\n",
      "[5 rows x 21 columns]\n",
      "\n",
      "Real values for the last 6 years:\n",
      "Region       1       3       4       5       6       7       8      9   \\\n",
      "2019    28409.0  4278.0  3134.0  5035.0  4090.0  2308.0  2407.0  516.0   \n",
      "2020    28466.0  4142.0  3013.0  4855.0  4162.0  2349.0  2501.0  467.0   \n",
      "2021    29067.0  4261.0  3045.0  5035.0  4039.0  2269.0  2460.0  522.0   \n",
      "2022    26356.0  3991.0  2876.0  4535.0  3722.0  2041.0  2176.0  465.0   \n",
      "2023    25781.0  3816.0  2526.0  4294.0  3581.0  1963.0  2108.0  454.0   \n",
      "\n",
      "Region      10       12  ...       14      17      18      19      20      21  \\\n",
      "2019    1545.0  15704.0  ...  19503.0  2786.0  3331.0  2981.0  2943.0  2870.0   \n",
      "2020    1491.0  15460.0  ...  19337.0  2720.0  3267.0  2955.0  2893.0  2762.0   \n",
      "2021    1507.0  15605.0  ...  19662.0  2634.0  3297.0  2829.0  2790.0  2741.0   \n",
      "2022    1392.0  14381.0  ...  18147.0  2528.0  3024.0  2835.0  2575.0  2473.0   \n",
      "2023    1301.0  13841.0  ...  17427.0  2273.0  2813.0  2568.0  2440.0  2281.0   \n",
      "\n",
      "Region      22      23      24      25  \n",
      "2019    2454.0  1350.0  2934.0  2457.0  \n",
      "2020    2275.0  1274.0  2936.0  2320.0  \n",
      "2021    2362.0  1330.0  2845.0  2435.0  \n",
      "2022    2029.0  1170.0  2618.0  2107.0  \n",
      "2023    1949.0  1158.0  2384.0  2033.0  \n",
      "\n",
      "[5 rows x 21 columns]\n",
      "\n",
      "Percentage error for each region and year:\n",
      "Region         1          3          4         5          6          7   \\\n",
      "2019    15.213853  15.544521  11.744449  8.647417   9.488803  15.572258   \n",
      "2020    15.519392  12.961509   8.328955  5.321531  11.205345  17.193284   \n",
      "2021    17.495812  15.601285   9.469778  8.841556   8.644694  14.483909   \n",
      "2022     9.106694  10.073165   4.404378  1.149221   0.985778   5.105691   \n",
      "2023     7.450050   6.367099   8.096016  6.397712   2.548307   1.978323   \n",
      "\n",
      "Region        8          9          10         12  ...         14         17  \\\n",
      "2019    6.190978   0.871555   3.832257  14.108834  ...   9.788128   4.097803   \n",
      "2020    9.741533   9.372785   0.513997  12.959496  ...   9.109126   1.813965   \n",
      "2021    8.583409   2.616157   1.809719  14.021529  ...  10.754932   0.860526   \n",
      "2022    3.229467   9.379345   6.243853   6.896734  ...   3.376839   4.946339   \n",
      "2023    5.243568  11.569274  13.053135   3.752572  ...   0.198428  15.872266   \n",
      "\n",
      "Region        18        19         20         21         22        23  \\\n",
      "2019    9.569624  8.466012   6.610694   5.264854   5.508843  6.790591   \n",
      "2020    7.791987  7.834865   5.217107   1.642778   1.922294  1.360787   \n",
      "2021    8.771520  3.881827   1.866223   1.218289   2.523165  5.887681   \n",
      "2022    0.581691  4.279893   6.040997   9.527052  13.327359  6.987023   \n",
      "2023    6.633942  4.928513  11.163170  18.228710  16.660525  7.490553   \n",
      "\n",
      "Region         24         25  \n",
      "2019     8.407424   5.456091  \n",
      "2020     8.301172   0.361823  \n",
      "2021     5.590880   4.888648  \n",
      "2022     2.670869   9.987298  \n",
      "2023    12.179555  12.992652  \n",
      "\n",
      "[5 rows x 21 columns]\n",
      "\n",
      "Predictions for the next 6 years (2024-2029):\n",
      "Region            1            3            4            5            6   \\\n",
      "2024    23513.010828  3530.051425  2687.580825  4518.237692  3626.780665   \n",
      "2025    23152.110362  3480.790426  2642.392175  4456.995079  3580.214246   \n",
      "2026    22984.304162  3442.097606  2603.899842  4421.505697  3551.896411   \n",
      "2027    23280.891634  3460.630872  2602.391983  4420.312812  3555.988824   \n",
      "2028    23244.192440  3461.997216  2621.350917  4449.448478  3577.048129   \n",
      "2029    22876.504723  3437.146640  2624.847445  4471.885261  3586.638195   \n",
      "\n",
      "Region           7            8           9            10            12  ...  \\\n",
      "2024    1892.690472  2179.715207  500.835473  1459.335223  13150.893007  ...   \n",
      "2025    1858.629910  2143.971880  498.237195  1451.683666  13000.836240  ...   \n",
      "2026    1838.976478  2126.392518  504.378388  1452.326557  12906.880057  ...   \n",
      "2027    1847.833076  2146.676743  523.979837  1459.655210  12901.465944  ...   \n",
      "2028    1863.874116  2207.361181  547.466152  1476.589102  12880.731887  ...   \n",
      "2029    1874.381333  2249.096396  558.438671  1491.341443  12772.977164  ...   \n",
      "\n",
      "Region            14           17           18           19           20  \\\n",
      "2024    17283.846533  2603.591208  2968.986015  2649.800747  2663.428666   \n",
      "2025    17133.132779  2575.403265  2934.643619  2605.666592  2616.433814   \n",
      "2026    17037.674987  2556.257802  2910.742936  2570.737719  2582.314834   \n",
      "2027    17157.691777  2570.855151  2905.136295  2574.475361  2579.687613   \n",
      "2028    17291.006337  2597.678453  2916.685242  2616.548523  2636.425266   \n",
      "2029    17268.978568  2623.624820  2928.411191  2659.656220  2687.993144   \n",
      "\n",
      "Region           21           22           23           24           25  \n",
      "2024    2663.908300  2232.036878  1225.640857  2650.765445  2271.873326  \n",
      "2025    2627.991784  2204.541261  1207.602629  2631.275645  2259.229900  \n",
      "2026    2587.245435  2201.063761  1205.264319  2620.004914  2261.789983  \n",
      "2027    2579.268646  2240.258372  1222.674060  2653.175362  2324.281638  \n",
      "2028    2618.334816  2314.316969  1252.786202  2702.039313  2421.455608  \n",
      "2029    2654.873079  2374.208492  1276.073610  2727.707779  2490.064038  \n",
      "\n",
      "[6 rows x 21 columns]\n"
     ]
    }
   ],
   "source": [
    "# Output results\n",
    "print(\"Test results for the last 6 years (predicted values):\")\n",
    "print(test_predictions_df)\n",
    "\n",
    "print(\"\\nReal values for the last 6 years:\")\n",
    "print(real_values_df)\n",
    "\n",
    "print(\"\\nPercentage error for each region and year:\")\n",
    "print(percentage_error_df)\n",
    "\n",
    "print(\"\\nPredictions for the next 6 years (2024-2029):\")\n",
    "print(future_predictions_df)"
   ]
  },
  {
   "cell_type": "code",
   "execution_count": 80,
   "id": "6e5ead3e",
   "metadata": {},
   "outputs": [],
   "source": [
    "# Calculate the average value for each year\n",
    "average_percentage_error_per_year = percentage_error_df.mean(axis=1)\n"
   ]
  },
  {
   "cell_type": "code",
   "execution_count": 81,
   "id": "93971373",
   "metadata": {},
   "outputs": [],
   "source": [
    "# Round the result to two decimal places\n",
    "average_percentage_error_per_year = average_percentage_error_per_year.round(2)"
   ]
  },
  {
   "cell_type": "code",
   "execution_count": 82,
   "id": "6bf1075b",
   "metadata": {},
   "outputs": [
    {
     "name": "stdout",
     "output_type": "stream",
     "text": [
      "\n",
      "Average percentage error for each year:\n",
      "2019    8.73\n",
      "2020    7.59\n",
      "2021    7.68\n",
      "2022    5.99\n",
      "2023    8.29\n",
      "dtype: float64\n"
     ]
    }
   ],
   "source": [
    "# Output the result\n",
    "print(\"\\nAverage percentage error for each year:\")\n",
    "print(average_percentage_error_per_year)"
   ]
  },
  {
   "cell_type": "code",
   "execution_count": 83,
   "id": "24715430",
   "metadata": {},
   "outputs": [],
   "source": [
    "# Add a new DataFrame to store the results in the required format\n",
    "# To do this, transform our DataFrame with forecasts future_predictions_df\n",
    "future_predictions_melted = future_predictions_df.reset_index().melt(id_vars='index', var_name='Region', value_name='Number')\n"
   ]
  },
  {
   "cell_type": "code",
   "execution_count": 84,
   "id": "08c47d63",
   "metadata": {},
   "outputs": [],
   "source": [
    "# Rename the columns to match the format\n",
    "future_predictions_melted.rename(columns={'index': 'Year'}, inplace=True)"
   ]
  },
  {
   "cell_type": "code",
   "execution_count": 85,
   "id": "00735e9e",
   "metadata": {},
   "outputs": [],
   "source": [
    "# Make sure 'Region' is in numeric format\n",
    "future_predictions_melted['Region'] = future_predictions_melted['Region'].astype(int) "
   ]
  },
  {
   "cell_type": "code",
   "execution_count": 86,
   "id": "22f04172",
   "metadata": {},
   "outputs": [],
   "source": [
    "# Round values in column 'Number' to whole number\n",
    "future_predictions_melted['Number'] = future_predictions_melted['Number'].round().astype(int)\n"
   ]
  },
  {
   "cell_type": "code",
   "execution_count": 87,
   "id": "5439e90a",
   "metadata": {},
   "outputs": [],
   "source": [
    "# Add sorting by region and year\n",
    "future_predictions_melted = future_predictions_melted.sort_values(by=['Region', 'Year'])"
   ]
  },
  {
   "cell_type": "code",
   "execution_count": 88,
   "id": "31cd0e5c",
   "metadata": {},
   "outputs": [],
   "source": [
    "# Save to CSV\n",
    "csv_file_path = 'predictions_birth_2024_2029.csv'\n",
    "future_predictions_melted.to_csv(csv_file_path, index=False)"
   ]
  },
  {
   "cell_type": "code",
   "execution_count": 89,
   "id": "393fedb6",
   "metadata": {},
   "outputs": [
    {
     "name": "stdout",
     "output_type": "stream",
     "text": [
      "\n",
      "Predictions are saved to file: predictions_birth_2024_2029.csv\n"
     ]
    }
   ],
   "source": [
    "\n",
    "print(f\"\\nPredictions are saved to file: {csv_file_path}\")"
   ]
  },
  {
   "cell_type": "code",
   "execution_count": 90,
   "id": "d5bf61c0",
   "metadata": {},
   "outputs": [
    {
     "data": {
      "text/plain": [
       "126"
      ]
     },
     "execution_count": 90,
     "metadata": {},
     "output_type": "execute_result"
    }
   ],
   "source": [
    "# Save the DataFrame to the table predictions_birth_2024_2029\n",
    "predictions_df = pd.read_csv(csv_file_path)\n",
    "predictions_df.to_sql('predictions_birth_2024_2029', conn, if_exists='replace', index=False)"
   ]
  },
  {
   "cell_type": "code",
   "execution_count": 91,
   "id": "d79987e4",
   "metadata": {},
   "outputs": [],
   "source": [
    "\n",
    "conn.close()"
   ]
  },
  {
   "cell_type": "code",
   "execution_count": null,
   "id": "9fda5d5f",
   "metadata": {},
   "outputs": [],
   "source": []
  },
  {
   "cell_type": "markdown",
   "id": "4fbfb9f5",
   "metadata": {},
   "source": [
    "# 6. Forecasting the number of children in school by year"
   ]
  },
  {
   "cell_type": "markdown",
   "id": "d2f0261d",
   "metadata": {},
   "source": [
    "6.1.Data preparation"
   ]
  },
  {
   "cell_type": "markdown",
   "id": "7aa50dad",
   "metadata": {},
   "source": [
    "6.1.1.Comparison of year of birth and year of study"
   ]
  },
  {
   "cell_type": "code",
   "execution_count": 92,
   "id": "edccd0b2",
   "metadata": {},
   "outputs": [],
   "source": [
    "# # Loading a CSV file into a DataFrame\n",
    "df = pd.read_csv('year_klass.csv')"
   ]
  },
  {
   "cell_type": "code",
   "execution_count": 93,
   "id": "68e1cf3f",
   "metadata": {},
   "outputs": [
    {
     "name": "stdout",
     "output_type": "stream",
     "text": [
      "    year  F_school  1_school  2_school  3_school  4_school  5_school  \\\n",
      "0   2025      2019      2018      2017      2016      2015      2014   \n",
      "1   2026      2020      2019      2018      2017      2016      2015   \n",
      "2   2027      2021      2020      2019      2018      2017      2016   \n",
      "3   2028      2022      2021      2020      2019      2018      2017   \n",
      "4   2029      2023      2022      2021      2020      2019      2018   \n",
      "5   2030      2024      2023      2022      2021      2020      2019   \n",
      "6   2031      2025      2024      2023      2022      2021      2020   \n",
      "7   2032      2026      2025      2024      2023      2022      2021   \n",
      "8   2033      2027      2026      2025      2024      2023      2022   \n",
      "9   2034      2028      2027      2026      2025      2024      2023   \n",
      "10  2035      2029      2028      2027      2026      2025      2024   \n",
      "\n",
      "    6_school  7_school  8_school  9_school  1_gymnasium  2_gymnasium  \\\n",
      "0       2013      2012      2011      2010         2009         2008   \n",
      "1       2014      2013      2012      2011         2010         2009   \n",
      "2       2015      2014      2013      2012         2011         2010   \n",
      "3       2016      2015      2014      2013         2012         2011   \n",
      "4       2017      2016      2015      2014         2013         2012   \n",
      "5       2018      2017      2016      2015         2014         2013   \n",
      "6       2019      2018      2017      2016         2015         2014   \n",
      "7       2020      2019      2018      2017         2016         2015   \n",
      "8       2021      2020      2019      2018         2017         2016   \n",
      "9       2022      2021      2020      2019         2018         2017   \n",
      "10      2023      2022      2021      2020         2019         2018   \n",
      "\n",
      "    3__gymnasium  \n",
      "0           2007  \n",
      "1           2008  \n",
      "2           2009  \n",
      "3           2010  \n",
      "4           2011  \n",
      "5           2012  \n",
      "6           2013  \n",
      "7           2014  \n",
      "8           2015  \n",
      "9           2016  \n",
      "10          2017  \n"
     ]
    }
   ],
   "source": [
    "print(df.head(60))"
   ]
  },
  {
   "cell_type": "code",
   "execution_count": 94,
   "id": "94fe88a5",
   "metadata": {},
   "outputs": [],
   "source": [
    "# Connect to the database\n",
    "conn = sqlite3.connect('education_costs_db.sqlite')"
   ]
  },
  {
   "cell_type": "code",
   "execution_count": 95,
   "id": "5e6308da",
   "metadata": {},
   "outputs": [
    {
     "data": {
      "text/plain": [
       "11"
      ]
     },
     "execution_count": 95,
     "metadata": {},
     "output_type": "execute_result"
    }
   ],
   "source": [
    "# Replace 'your_table_name' with your desired table name\n",
    "df.to_sql('year_klass', conn, if_exists='replace', index=False)"
   ]
  },
  {
   "cell_type": "code",
   "execution_count": 96,
   "id": "f72f8ad5",
   "metadata": {},
   "outputs": [],
   "source": [
    "# Close the connection\n",
    "conn.close()"
   ]
  },
  {
   "cell_type": "code",
   "execution_count": null,
   "id": "31b939b0",
   "metadata": {},
   "outputs": [],
   "source": []
  },
  {
   "cell_type": "markdown",
   "id": "67f86b91",
   "metadata": {},
   "source": [
    "6.1.2.Creating a table with the number of births from 2007 to 2029"
   ]
  },
  {
   "cell_type": "code",
   "execution_count": 97,
   "id": "cc41fb53",
   "metadata": {},
   "outputs": [],
   "source": [
    "# Connect to the database\n",
    "conn = sqlite3.connect('education_costs_db.sqlite')\n"
   ]
  },
  {
   "cell_type": "code",
   "execution_count": 98,
   "id": "5344adab",
   "metadata": {},
   "outputs": [],
   "source": [
    "# Extract data from birth_data for years 2007-2023\n",
    "birth_data_query = \"\"\"\n",
    "SELECT Region, Year, Number\n",
    "FROM birth_data\n",
    "WHERE Year BETWEEN 2007 AND 2023;\n",
    "\"\"\"\n",
    "birth_data = pd.read_sql_query(birth_data_query, conn)"
   ]
  },
  {
   "cell_type": "code",
   "execution_count": 99,
   "id": "d451239d",
   "metadata": {},
   "outputs": [],
   "source": [
    "#Extract data from predictions_birth_2024_2029\n",
    "predictions_birth_query = \"\"\"\n",
    "SELECT Year, Region, Number\n",
    "FROM predictions_birth_2024_2029;\n",
    "\"\"\"\n",
    "predictions_birth = pd.read_sql_query(predictions_birth_query, conn)"
   ]
  },
  {
   "cell_type": "code",
   "execution_count": 100,
   "id": "9e6556db",
   "metadata": {},
   "outputs": [],
   "source": [
    "#Merging a set of data into one ta\n",
    "birth_2007_2029 = pd.concat([birth_data, predictions_birth], ignore_index=True)"
   ]
  },
  {
   "cell_type": "code",
   "execution_count": 101,
   "id": "2d13aa34",
   "metadata": {},
   "outputs": [],
   "source": [
    "# Sorting the table by year for clarity\n",
    "birth_2007_2029 = birth_2007_2029.sort_values(by=['Region', 'Year']).reset_index(drop=True)"
   ]
  },
  {
   "cell_type": "code",
   "execution_count": 102,
   "id": "df14280b",
   "metadata": {},
   "outputs": [
    {
     "data": {
      "text/plain": [
       "483"
      ]
     },
     "execution_count": 102,
     "metadata": {},
     "output_type": "execute_result"
    }
   ],
   "source": [
    "# Store the result in a new table birth_2007_2029 in the database\n",
    "birth_2007_2029.to_sql('birth_2007_2029', conn, if_exists='replace', index=False)"
   ]
  },
  {
   "cell_type": "code",
   "execution_count": 103,
   "id": "4d649082",
   "metadata": {},
   "outputs": [],
   "source": [
    "\n",
    "conn.close()"
   ]
  },
  {
   "cell_type": "code",
   "execution_count": null,
   "id": "9e59950c",
   "metadata": {},
   "outputs": [],
   "source": []
  },
  {
   "cell_type": "markdown",
   "id": "dbc719a4",
   "metadata": {},
   "source": [
    "6.2.Calculation"
   ]
  },
  {
   "cell_type": "code",
   "execution_count": 104,
   "id": "1d818bdf",
   "metadata": {},
   "outputs": [],
   "source": [
    "# Create a database conne\n",
    "conn = sqlite3.connect('education_costs_db.sqlite')"
   ]
  },
  {
   "cell_type": "code",
   "execution_count": 105,
   "id": "4717dad2",
   "metadata": {},
   "outputs": [],
   "source": [
    "# List of regions to process\n",
    "regions = [1, 3, 4, 5, 6, 7, 8, 9, 10, 12, 13, 14, 17, 18, 19, 20, 21, 22, 23, 24, 25]"
   ]
  },
  {
   "cell_type": "code",
   "execution_count": 106,
   "id": "33dd0fa3",
   "metadata": {},
   "outputs": [],
   "source": [
    "# List of classes to process\n",
    "classes = ['F_school', '1_school', '2_school', '3_school', '4_school', '5_school', \n",
    "           '6_school', '7_school', '8_school', '9_school', '1_gymnasium', \n",
    "           '2_gymnasium', '3__gymnasium']"
   ]
  },
  {
   "cell_type": "code",
   "execution_count": 107,
   "id": "6db4036e",
   "metadata": {},
   "outputs": [],
   "source": [
    "# Create an empty DataFrame to store all results\n",
    "all_results = pd.DataFrame()"
   ]
  },
  {
   "cell_type": "code",
   "execution_count": 108,
   "id": "1bdf720f",
   "metadata": {},
   "outputs": [],
   "source": [
    "# To go through each region\n",
    "for region in regions:\n",
    "    # Load tables for the current region\n",
    "    year_klass = pd.read_sql_query(\"SELECT * FROM year_klass\", conn)\n",
    "    birth_data = pd.read_sql_query(f\"SELECT * FROM birth_2007_2029 WHERE Region = {region}\", conn)\n",
    "    mortality_rate = pd.read_sql_query(\"SELECT * FROM mortality_rate\", conn)\n",
    "    migration_rate = pd.read_sql_query(f\"SELECT * FROM migration_rate WHERE Region = {region}\", conn)\n",
    "    \n",
    "    # Convert tables with coefficients into dictionaries\n",
    "    mortality_rate_dict = mortality_rate.set_index('Age')['Mortality_Rate'].to_dict()\n",
    "    migration_rate_dict = migration_rate.set_index('Age')['Average_Migration_Rate'].to_dict()\n",
    "\n",
    "    # Function for calculating the number of children taking into account mortality and migration\n",
    "    def calculate_children(birth_year, school_year):\n",
    "        age = school_year - birth_year  # Calculate the age of the child\n",
    "        if age < 0:\n",
    "            return 0\n",
    "        \n",
    "        # To get the number of children born for a given year\n",
    "        birth_row = birth_data.loc[birth_data['Year'] == birth_year, 'Number']\n",
    "        if birth_row.empty:\n",
    "            return 0  # If there is no data on births, return 0\n",
    "        \n",
    "        birth_count = birth_row.values[0]  # Number of births per year\n",
    "        \n",
    "        # To apply mortality and migration rates for each year of life\n",
    "        for year in range(age):\n",
    "            mortality_rate = mortality_rate_dict.get(year, 0) / 100  \n",
    "            migration_rate = migration_rate_dict.get(year, 0) / 100  \n",
    "            \n",
    "           # Apply coefficients to the current number of children\n",
    "            birth_count = birth_count * (1 - mortality_rate) * (1 + migration_rate)\n",
    "        \n",
    "        return round(birth_count)  \n",
    "    \n",
    "   # Create a copy of the year_klass table for work\n",
    "    result_table = year_klass.copy()\n",
    "    \n",
    "    # Fill the table for the current region\n",
    "    for index, row in year_klass.iterrows():\n",
    "        school_year = row['year']\n",
    "        \n",
    "        # To go through all classes\n",
    "        for class_name in classes:\n",
    "            birth_year = row[class_name]\n",
    "            if pd.notna(birth_year):  # Check that the year of birth is not empty\n",
    "                birth_year = int(birth_year)\n",
    "                # To calculate the number of children taking into account mortality and migration\n",
    "                result_table.at[index, class_name] = calculate_children(birth_year, school_year)\n",
    "    \n",
    "    # Add the Region column\n",
    "    result_table['Region'] = region\n",
    "\n",
    "    # Add the result of the current region to the overall DataFrame\n",
    "    all_results = pd.concat([all_results, result_table], ignore_index=True)"
   ]
  },
  {
   "cell_type": "code",
   "execution_count": 109,
   "id": "951d1050",
   "metadata": {},
   "outputs": [
    {
     "name": "stdout",
     "output_type": "stream",
     "text": [
      "     year  F_school  1_school  2_school  3_school  4_school  5_school  \\\n",
      "0    2025     28232     28534     28677     29375     29386     29603   \n",
      "1    2026     28289     28238     28579     28725     29462     29487   \n",
      "2    2027     28886     28295     28283     28626     28810     29564   \n",
      "3    2028     26192     28892     28340     28330     28711     28909   \n",
      "4    2029     25621     26198     28938     28387     28414     28810   \n",
      "..    ...       ...       ...       ...       ...       ...       ...   \n",
      "226  2031      2357      2382      2138      2226      2585      2469   \n",
      "227  2032      2361      2368      2390      2148      2237      2592   \n",
      "228  2033      2425      2372      2376      2401      2158      2243   \n",
      "229  2034      2527      2437      2379      2387      2412      2164   \n",
      "230  2035      2599      2538      2445      2390      2398      2418   \n",
      "\n",
      "     6_school  7_school  8_school  9_school  1_gymnasium  2_gymnasium  \\\n",
      "0       29845     29298     29176     30359        29506        29202   \n",
      "1       29727     29987     29464     29366        30590        29852   \n",
      "2       29611     29869     30157     29655        29589        30948   \n",
      "3       29688     29753     30038     30353        29880        29935   \n",
      "4       29031     29830     29921     30233        30584        30230   \n",
      "..        ...       ...       ...       ...          ...          ...   \n",
      "226      2623      2539      2588      2736         2638         2707   \n",
      "227      2477      2629      2546      2598         2747         2646   \n",
      "228      2599      2482      2636      2555         2609         2756   \n",
      "229      2249      2605      2489      2645         2565         2617   \n",
      "230      2170      2254      2612      2498         2656         2573   \n",
      "\n",
      "     3__gymnasium  Region  \n",
      "0           28988       1  \n",
      "1           29545       1  \n",
      "2           30203       1  \n",
      "3           31312       1  \n",
      "4           30287       1  \n",
      "..            ...     ...  \n",
      "226          2691      25  \n",
      "227          2728      25  \n",
      "228          2667      25  \n",
      "229          2777      25  \n",
      "230          2638      25  \n",
      "\n",
      "[231 rows x 15 columns]\n"
     ]
    }
   ],
   "source": [
    "print( all_results)"
   ]
  },
  {
   "cell_type": "code",
   "execution_count": 110,
   "id": "b02c715b",
   "metadata": {},
   "outputs": [],
   "source": [
    "# Save the results to a CSV file\n",
    "all_results.to_csv('school_gymnasium_results_by_region.csv', index=False)\n"
   ]
  },
  {
   "cell_type": "code",
   "execution_count": 111,
   "id": "68409ad8",
   "metadata": {},
   "outputs": [],
   "source": [
    "# Save the results to an Excel file\n",
    "all_results.to_excel('school_gymnasium_results_by_region.xlsx', index=False)"
   ]
  },
  {
   "cell_type": "code",
   "execution_count": 112,
   "id": "cacb18e9",
   "metadata": {},
   "outputs": [
    {
     "data": {
      "text/plain": [
       "231"
      ]
     },
     "execution_count": 112,
     "metadata": {},
     "output_type": "execute_result"
    }
   ],
   "source": [
    "# Save the results to a table in the SQLite database\n",
    "all_results.to_sql('school_gymnasium_results', conn, if_exists='replace', index=False)"
   ]
  },
  {
   "cell_type": "code",
   "execution_count": 113,
   "id": "3193255b",
   "metadata": {},
   "outputs": [],
   "source": [
    "\n",
    "conn.close()"
   ]
  },
  {
   "cell_type": "code",
   "execution_count": null,
   "id": "d330a80e",
   "metadata": {},
   "outputs": [],
   "source": []
  },
  {
   "cell_type": "markdown",
   "id": "9515aa3f",
   "metadata": {},
   "source": [
    "# 7. Linear Regression Models for Predicting Annual Tuition Per Student"
   ]
  },
  {
   "cell_type": "code",
   "execution_count": 114,
   "id": "985c8781",
   "metadata": {},
   "outputs": [],
   "source": [
    "from sklearn.metrics import r2_score, mean_squared_error, mean_absolute_error"
   ]
  },
  {
   "cell_type": "code",
   "execution_count": 115,
   "id": "539dc981",
   "metadata": {},
   "outputs": [],
   "source": [
    "# Connect to the database\n",
    "conn = sqlite3.connect('education_costs_db.sqlite')"
   ]
  },
  {
   "cell_type": "markdown",
   "id": "9752a32d",
   "metadata": {},
   "source": [
    "7.1.Grundskola"
   ]
  },
  {
   "cell_type": "code",
   "execution_count": 116,
   "id": "e1b7d434",
   "metadata": {},
   "outputs": [],
   "source": [
    "# Extracting data from a table\n",
    "query = '''\n",
    "SELECT Year, Fixed_cost_per_child_kr, Current_cost_per_child_kr \n",
    "FROM grundskola_costs\n",
    "'''\n",
    "data = pd.read_sql_query(query, conn)"
   ]
  },
  {
   "cell_type": "code",
   "execution_count": 117,
   "id": "a74d9359",
   "metadata": {},
   "outputs": [],
   "source": [
    "# Preparing data for the model\n",
    "X = data['Year'].values.reshape(-1, 1)  # Transform year into an independent variable\n",
    "fixed_costs = data['Fixed_cost_per_child_kr'].values  # Dependent variable - fixed costs\n",
    "variable_costs = data['Current_cost_per_child_kr'].values  # Dependent variable - variable costs\n"
   ]
  },
  {
   "cell_type": "code",
   "execution_count": 118,
   "id": "00bb6234",
   "metadata": {},
   "outputs": [],
   "source": [
    "# Linear Regression for Fixed Costs\n",
    "model_fixed = LinearRegression()\n",
    "model_fixed.fit(X, fixed_costs)\n",
    "fixed_costs_pred_train = model_fixed.predict(X)"
   ]
  },
  {
   "cell_type": "code",
   "execution_count": 119,
   "id": "1a7e8da1",
   "metadata": {},
   "outputs": [],
   "source": [
    "# Linear Regression for Variable Costs\n",
    "model_variable = LinearRegression()\n",
    "model_variable.fit(X, variable_costs)\n",
    "variable_costs_pred_train = model_variable.predict(X)"
   ]
  },
  {
   "cell_type": "code",
   "execution_count": 120,
   "id": "b80af3ef",
   "metadata": {},
   "outputs": [],
   "source": [
    "# Accuracy check for fixed costs\n",
    "r2_fixed = r2_score(fixed_costs, fixed_costs_pred_train)\n",
    "mse_fixed = mean_squared_error(fixed_costs, fixed_costs_pred_train)\n",
    "mae_fixed = mean_absolute_error(fixed_costs, fixed_costs_pred_train)"
   ]
  },
  {
   "cell_type": "code",
   "execution_count": 121,
   "id": "1e71da9b",
   "metadata": {},
   "outputs": [
    {
     "name": "stdout",
     "output_type": "stream",
     "text": [
      "Fixed Costs Model - R²: 0.9382, MSE: 7746199.32, MAE: 2051.92\n"
     ]
    }
   ],
   "source": [
    "print(f'Fixed Costs Model - R²: {r2_fixed:.4f}, MSE: {mse_fixed:.2f}, MAE: {mae_fixed:.2f}')\n"
   ]
  },
  {
   "cell_type": "code",
   "execution_count": 122,
   "id": "c340b83b",
   "metadata": {},
   "outputs": [],
   "source": [
    "# Accuracy check for current expenses\n",
    "r2_variable = r2_score(variable_costs, variable_costs_pred_train)\n",
    "mse_variable = mean_squared_error(variable_costs, variable_costs_pred_train)\n",
    "mae_variable = mean_absolute_error(variable_costs, variable_costs_pred_train)"
   ]
  },
  {
   "cell_type": "code",
   "execution_count": 123,
   "id": "70218913",
   "metadata": {},
   "outputs": [
    {
     "name": "stdout",
     "output_type": "stream",
     "text": [
      "Current Costs Model - R²: 0.9873, MSE: 2890985.29, MAE: 1415.15\n"
     ]
    }
   ],
   "source": [
    "print(f'Current Costs Model - R²: {r2_variable:.4f}, MSE: {mse_variable:.2f}, MAE: {mae_variable:.2f}')"
   ]
  },
  {
   "cell_type": "code",
   "execution_count": 124,
   "id": "20c61b89",
   "metadata": {},
   "outputs": [],
   "source": [
    "# Forecasting for future years\n",
    "future_years = np.arange(2023, 2036).reshape(-1, 1)  \n",
    "fixed_costs_pred = model_fixed.predict(future_years) \n",
    "variable_costs_pred = model_variable.predict(future_years)  \n"
   ]
  },
  {
   "cell_type": "code",
   "execution_count": 125,
   "id": "42161ffe",
   "metadata": {},
   "outputs": [],
   "source": [
    "# Generate a DataFrame with forecasts\n",
    "forecast_df = pd.DataFrame({\n",
    "    'Year': future_years.flatten(),\n",
    "    'Predicted_Fixed_Cost_per_child_kr': fixed_costs_pred,\n",
    "    'Predicted_Current_Cost_per_child_kr': variable_costs_pred\n",
    "})"
   ]
  },
  {
   "cell_type": "code",
   "execution_count": 126,
   "id": "c6689537",
   "metadata": {},
   "outputs": [
    {
     "name": "stdout",
     "output_type": "stream",
     "text": [
      "    Year  Predicted_Fixed_Cost_per_child_kr  \\\n",
      "0   2023                      138586.700000   \n",
      "1   2024                      140938.370588   \n",
      "2   2025                      143290.041176   \n",
      "3   2026                      145641.711765   \n",
      "4   2027                      147993.382353   \n",
      "5   2028                      150345.052941   \n",
      "6   2029                      152696.723529   \n",
      "7   2030                      155048.394118   \n",
      "8   2031                      157400.064706   \n",
      "9   2032                      159751.735294   \n",
      "10  2033                      162103.405882   \n",
      "11  2034                      164455.076471   \n",
      "12  2035                      166806.747059   \n",
      "\n",
      "    Predicted_Current_Cost_per_child_kr  \n",
      "0                         130030.000000  \n",
      "1                         133283.529412  \n",
      "2                         136537.058824  \n",
      "3                         139790.588235  \n",
      "4                         143044.117647  \n",
      "5                         146297.647059  \n",
      "6                         149551.176471  \n",
      "7                         152804.705882  \n",
      "8                         156058.235294  \n",
      "9                         159311.764706  \n",
      "10                        162565.294118  \n",
      "11                        165818.823529  \n",
      "12                        169072.352941  \n"
     ]
    }
   ],
   "source": [
    "\n",
    "print(forecast_df)"
   ]
  },
  {
   "cell_type": "code",
   "execution_count": 127,
   "id": "9b02fa25",
   "metadata": {},
   "outputs": [
    {
     "data": {
      "image/png": "[encoded data removed]",
      "text/plain": [
       "<Figure size 1000x600 with 1 Axes>"
      ]
     },
     "metadata": {},
     "output_type": "display_data"
    }
   ],
   "source": [
    "# Visualization of forecasts\n",
    "plt.figure(figsize=(10, 6))\n",
    "plt.plot(data['Year'], fixed_costs, label='Actual Fixed Costs', marker='o', color='blue')\n",
    "plt.plot(future_years, fixed_costs_pred, label='Predicted Fixed Costs', linestyle='--', color='blue')\n",
    "plt.plot(data['Year'], variable_costs, label='Actual Current Costs', marker='o', color='green')\n",
    "plt.plot(future_years, variable_costs_pred, label='Predicted Current Costs', linestyle='--', color='green')\n",
    "plt.xlabel('Year')\n",
    "plt.ylabel('Cost per Child (kr)')\n",
    "plt.title('Forecast of Fixed and Current Grundskola Costs per Child (2025-2035)')\n",
    "plt.legend()\n",
    "plt.grid(True)\n",
    "plt.show()\n"
   ]
  },
  {
   "cell_type": "code",
   "execution_count": 128,
   "id": "ba5a5d9a",
   "metadata": {},
   "outputs": [],
   "source": [
    "#Rounding to integers\n",
    "forecast_df['Predicted_Fixed_Cost_per_child_kr'] = forecast_df['Predicted_Fixed_Cost_per_child_kr'].round().astype(int)\n",
    "forecast_df['Predicted_Current_Cost_per_child_kr'] = forecast_df['Predicted_Current_Cost_per_child_kr'].round().astype(int)\n"
   ]
  },
  {
   "cell_type": "code",
   "execution_count": 129,
   "id": "a45489a5",
   "metadata": {},
   "outputs": [],
   "source": [
    "# Saving table to CSV file\n",
    "csv_file_path = 'grundskola_costs_forecast.csv'\n",
    "forecast_df.to_csv(csv_file_path, index=False)"
   ]
  },
  {
   "cell_type": "code",
   "execution_count": 130,
   "id": "5b117891",
   "metadata": {},
   "outputs": [
    {
     "data": {
      "text/plain": [
       "13"
      ]
     },
     "execution_count": 130,
     "metadata": {},
     "output_type": "execute_result"
    }
   ],
   "source": [
    "# Saving the table to the SQLite database\n",
    "conn = sqlite3.connect('education_costs_db.sqlite')\n",
    "forecast_df.to_sql('grundskola_costs_forecast', conn, if_exists='replace', index=False)"
   ]
  },
  {
   "cell_type": "markdown",
   "id": "49535817",
   "metadata": {},
   "source": [
    "7.2.Gymnasieskola"
   ]
  },
  {
   "cell_type": "code",
   "execution_count": 131,
   "id": "f877671f",
   "metadata": {},
   "outputs": [],
   "source": [
    "# Extracting data from a table\n",
    "query = '''\n",
    "SELECT Year, Fixed_cost_per_child_kr, Current_cost_per_child_kr \n",
    "FROM gymnasieskola_costs\n",
    "'''\n",
    "data = pd.read_sql_query(query, conn)"
   ]
  },
  {
   "cell_type": "code",
   "execution_count": 132,
   "id": "1a0029fe",
   "metadata": {},
   "outputs": [],
   "source": [
    "# Preparing data for the model\n",
    "X = data['Year'].values.reshape(-1, 1)  \n",
    "fixed_costs = data['Fixed_cost_per_child_kr'].values  \n",
    "variable_costs = data['Current_cost_per_child_kr'].values  \n"
   ]
  },
  {
   "cell_type": "code",
   "execution_count": 133,
   "id": "96e52ba1",
   "metadata": {},
   "outputs": [],
   "source": [
    "# Linear Regression for Fixed Costs\n",
    "model_fixed = LinearRegression()\n",
    "model_fixed.fit(X, fixed_costs)\n",
    "fixed_costs_pred_train = model_fixed.predict(X)"
   ]
  },
  {
   "cell_type": "code",
   "execution_count": 134,
   "id": "49dbf44e",
   "metadata": {},
   "outputs": [],
   "source": [
    "# Linear Regression for Variable Costs\n",
    "model_variable = LinearRegression()\n",
    "model_variable.fit(X, variable_costs)\n",
    "variable_costs_pred_train = model_variable.predict(X)\n"
   ]
  },
  {
   "cell_type": "code",
   "execution_count": 135,
   "id": "633cb06f",
   "metadata": {},
   "outputs": [],
   "source": [
    "# Accuracy check for fixed costs\n",
    "r2_fixed = r2_score(fixed_costs, fixed_costs_pred_train)\n",
    "mse_fixed = mean_squared_error(fixed_costs, fixed_costs_pred_train)\n",
    "mae_fixed = mean_absolute_error(fixed_costs, fixed_costs_pred_train)\n"
   ]
  },
  {
   "cell_type": "code",
   "execution_count": 136,
   "id": "6cb4a47d",
   "metadata": {},
   "outputs": [
    {
     "name": "stdout",
     "output_type": "stream",
     "text": [
      "Fixed Costs Model - R²: 0.8010, MSE: 23338254.59, MAE: 4006.67\n"
     ]
    }
   ],
   "source": [
    "print(f'Fixed Costs Model - R²: {r2_fixed:.4f}, MSE: {mse_fixed:.2f}, MAE: {mae_fixed:.2f}')"
   ]
  },
  {
   "cell_type": "code",
   "execution_count": 137,
   "id": "fb922dc1",
   "metadata": {},
   "outputs": [],
   "source": [
    "# Accuracy check for current expenses\n",
    "r2_variable = r2_score(variable_costs, variable_costs_pred_train)\n",
    "mse_variable = mean_squared_error(variable_costs, variable_costs_pred_train)\n",
    "mae_variable = mean_absolute_error(variable_costs, variable_costs_pred_train)"
   ]
  },
  {
   "cell_type": "code",
   "execution_count": 138,
   "id": "1604177e",
   "metadata": {},
   "outputs": [
    {
     "name": "stdout",
     "output_type": "stream",
     "text": [
      "Current Costs Model - R²: 0.9796, MSE: 4342858.46, MAE: 1736.31\n"
     ]
    }
   ],
   "source": [
    "print(f'Current Costs Model - R²: {r2_variable:.4f}, MSE: {mse_variable:.2f}, MAE: {mae_variable:.2f}')"
   ]
  },
  {
   "cell_type": "code",
   "execution_count": 139,
   "id": "6d6c8152",
   "metadata": {},
   "outputs": [],
   "source": [
    "# Forecasting for future years\n",
    "future_years = np.arange(2023, 2036).reshape(-1, 1)  \n",
    "fixed_costs_pred = model_fixed.predict(future_years)  \n",
    "variable_costs_pred = model_variable.predict(future_years)  \n"
   ]
  },
  {
   "cell_type": "code",
   "execution_count": 140,
   "id": "4c5912c4",
   "metadata": {},
   "outputs": [],
   "source": [
    "# Generate a DataFrame with forecasts\n",
    "forecast_df = pd.DataFrame({\n",
    "    'Year': future_years.flatten(),\n",
    "    'Predicted_Fixed_Cost_per_child_kr': fixed_costs_pred,\n",
    "    'Predicted_Current_Cost_per_child_kr': variable_costs_pred\n",
    "})"
   ]
  },
  {
   "cell_type": "code",
   "execution_count": 141,
   "id": "d8a17904",
   "metadata": {},
   "outputs": [
    {
     "name": "stdout",
     "output_type": "stream",
     "text": [
      "    Year  Predicted_Fixed_Cost_per_child_kr  \\\n",
      "0   2023                      148392.375000   \n",
      "1   2024                      150495.191176   \n",
      "2   2025                      152598.007353   \n",
      "3   2026                      154700.823529   \n",
      "4   2027                      156803.639706   \n",
      "5   2028                      158906.455882   \n",
      "6   2029                      161009.272059   \n",
      "7   2030                      163112.088235   \n",
      "8   2031                      165214.904412   \n",
      "9   2032                      167317.720588   \n",
      "10  2033                      169420.536765   \n",
      "11  2034                      171523.352941   \n",
      "12  2035                      173626.169118   \n",
      "\n",
      "    Predicted_Current_Cost_per_child_kr  \n",
      "0                         139137.500000  \n",
      "1                         142268.382353  \n",
      "2                         145399.264706  \n",
      "3                         148530.147059  \n",
      "4                         151661.029412  \n",
      "5                         154791.911765  \n",
      "6                         157922.794118  \n",
      "7                         161053.676471  \n",
      "8                         164184.558824  \n",
      "9                         167315.441176  \n",
      "10                        170446.323529  \n",
      "11                        173577.205882  \n",
      "12                        176708.088235  \n"
     ]
    }
   ],
   "source": [
    "# Вывод прогнозов\n",
    "print(forecast_df)"
   ]
  },
  {
   "cell_type": "code",
   "execution_count": 142,
   "id": "360312e7",
   "metadata": {},
   "outputs": [
    {
     "data": {
      "image/png": "[encoded data removed]",
      "text/plain": [
       "<Figure size 1000x600 with 1 Axes>"
      ]
     },
     "metadata": {},
     "output_type": "display_data"
    }
   ],
   "source": [
    "# Visualization of forecasts\n",
    "plt.figure(figsize=(10, 6))\n",
    "plt.plot(data['Year'], fixed_costs, label='Actual Fixed Costs', marker='o', color='blue')\n",
    "plt.plot(future_years, fixed_costs_pred, label='Predicted Fixed Costs', linestyle='--', color='blue')\n",
    "plt.plot(data['Year'], variable_costs, label='Actual Current Costs', marker='o', color='green')\n",
    "plt.plot(future_years, variable_costs_pred, label='Predicted Current Costs', linestyle='--', color='green')\n",
    "plt.xlabel('Year')\n",
    "plt.ylabel('Cost per Child (kr)')\n",
    "plt.title('Forecast of Fixed and Current Gymnasieskola Costs per Child (2025-2035)')\n",
    "plt.legend()\n",
    "plt.grid(True)\n",
    "plt.show()"
   ]
  },
  {
   "cell_type": "code",
   "execution_count": 143,
   "id": "bc61a0c1",
   "metadata": {},
   "outputs": [],
   "source": [
    "#Rounding of forecasts\n",
    "forecast_df['Predicted_Fixed_Cost_per_child_kr'] = forecast_df['Predicted_Fixed_Cost_per_child_kr'].round().astype(int)\n",
    "forecast_df['Predicted_Current_Cost_per_child_kr'] = forecast_df['Predicted_Current_Cost_per_child_kr'].round().astype(int)\n"
   ]
  },
  {
   "cell_type": "code",
   "execution_count": 144,
   "id": "22fda417",
   "metadata": {},
   "outputs": [],
   "source": [
    "# Saving table to CSV file\n",
    "csv_file_path = 'gymnasieskola_costs_forecast.csv'\n",
    "forecast_df.to_csv(csv_file_path, index=False)"
   ]
  },
  {
   "cell_type": "code",
   "execution_count": 145,
   "id": "410016ba",
   "metadata": {},
   "outputs": [
    {
     "data": {
      "text/plain": [
       "13"
      ]
     },
     "execution_count": 145,
     "metadata": {},
     "output_type": "execute_result"
    }
   ],
   "source": [
    "# Saving the table to the SQLite database\n",
    "conn = sqlite3.connect('education_costs_db.sqlite')\n",
    "forecast_df.to_sql('gymnasieskola_costs_forecast', conn, if_exists='replace', index=False)"
   ]
  },
  {
   "cell_type": "code",
   "execution_count": 146,
   "id": "f42babcb",
   "metadata": {},
   "outputs": [],
   "source": [
    "\n",
    "conn.close()"
   ]
  },
  {
   "cell_type": "code",
   "execution_count": null,
   "id": "4a47e3d4",
   "metadata": {},
   "outputs": [],
   "source": []
  },
  {
   "cell_type": "markdown",
   "id": "78a412d2",
   "metadata": {},
   "source": [
    "# 8. Calculation of the cost of education for regions in 2025-2035"
   ]
  },
  {
   "cell_type": "code",
   "execution_count": 147,
   "id": "ffe1e11b",
   "metadata": {},
   "outputs": [],
   "source": [
    "# Connect to the database\n",
    "conn = sqlite3.connect('education_costs_db.sqlite')"
   ]
  },
  {
   "cell_type": "code",
   "execution_count": 148,
   "id": "9a95c90e",
   "metadata": {},
   "outputs": [],
   "source": [
    "# Loading data from tables\n",
    "school_data = pd.read_sql_query(\"SELECT * FROM school_gymnasium_results\", conn)\n",
    "grundskola_costs = pd.read_sql_query(\"SELECT * FROM grundskola_costs_forecast\", conn)\n",
    "gymnasieskola_costs = pd.read_sql_query(\"SELECT * FROM gymnasieskola_costs_forecast\", conn)\n"
   ]
  },
  {
   "cell_type": "code",
   "execution_count": 149,
   "id": "cc3ba6e2",
   "metadata": {},
   "outputs": [],
   "source": [
    "# Defining the region and year for calculation\n",
    "regions = [1, 3, 4, 5, 6, 7, 8, 9, 10, 12, 13, 14, 17, 18, 19, 20, 21, 22, 23, 24, 25]\n",
    "years = list(range(2025, 2036))\n"
   ]
  },
  {
   "cell_type": "code",
   "execution_count": 150,
   "id": "9e960340",
   "metadata": {},
   "outputs": [],
   "source": [
    "# Preparing data for grundskola\n",
    "cost_grundskola = []\n",
    "for region in regions:\n",
    "    for year in years:\n",
    "        # Filter data by region and year\n",
    "        school_row = school_data[(school_data['Region'] == region) & (school_data['year'] == year)]\n",
    "        cost_row = grundskola_costs[grundskola_costs['Year'] == year]\n",
    "        \n",
    "        if not school_row.empty and not cost_row.empty:\n",
    "            # Number of children\n",
    "            total_children = school_row[['F_school', '1_school', '2_school', '3_school', '4_school', \n",
    "                                         '5_school', '6_school', '7_school', '8_school', '9_school']].sum(axis=1).values[0]\n",
    "            # Cost per child\n",
    "            fixed_cost = total_children * cost_row['Predicted_Fixed_Cost_per_child_kr'].values[0]\n",
    "            current_cost = total_children * cost_row['Predicted_Current_Cost_per_child_kr'].values[0]\n",
    "            \n",
    "            # Saving the result\n",
    "            cost_grundskola.append({\n",
    "                'Region': region,\n",
    "                'Year': year,\n",
    "                'Predicted_Fixed_Cost': round(fixed_cost),\n",
    "                'Predicted_Current_Cost': round(current_cost)\n",
    "            })\n"
   ]
  },
  {
   "cell_type": "code",
   "execution_count": 151,
   "id": "988f10cf",
   "metadata": {},
   "outputs": [],
   "source": [
    "# Convert results to DataFrame\n",
    "cost_grundskola_df = pd.DataFrame(cost_grundskola)\n"
   ]
  },
  {
   "cell_type": "code",
   "execution_count": 152,
   "id": "71c9eec1",
   "metadata": {},
   "outputs": [],
   "source": [
    "# Save results to CSV file\n",
    "cost_grundskola_df.to_csv('Cost_region_grundskola_forecast_2025_2035.csv', index=False)"
   ]
  },
  {
   "cell_type": "code",
   "execution_count": 153,
   "id": "f998b301",
   "metadata": {},
   "outputs": [
    {
     "data": {
      "text/plain": [
       "231"
      ]
     },
     "execution_count": 153,
     "metadata": {},
     "output_type": "execute_result"
    }
   ],
   "source": [
    "# Saving the table to the database\n",
    "cost_grundskola_df.to_sql('Cost_region_grundskola_forecast_2025_2035', conn, if_exists='replace', index=False)"
   ]
  },
  {
   "cell_type": "code",
   "execution_count": 154,
   "id": "29c5da9b",
   "metadata": {},
   "outputs": [],
   "source": [
    "# Preparing data for gymnasieskola\n",
    "cost_gymnasieskola = []\n",
    "for region in regions:\n",
    "    for year in years:\n",
    "        # Filter data by region and year\n",
    "        school_row = school_data[(school_data['Region'] == region) & (school_data['year'] == year)]\n",
    "        cost_row = gymnasieskola_costs[gymnasieskola_costs['Year'] == year]\n",
    "        \n",
    "        if not school_row.empty and not cost_row.empty:\n",
    "            # Number of children in the gymnasium\n",
    "            total_children = school_row[['1_gymnasium', '2_gymnasium', '3__gymnasium']].sum(axis=1).values[0]\n",
    "           # Cost per child\n",
    "            fixed_cost = total_children * cost_row['Predicted_Fixed_Cost_per_child_kr'].values[0]\n",
    "            current_cost = total_children * cost_row['Predicted_Current_Cost_per_child_kr'].values[0]\n",
    "            \n",
    "            # Saving the result\n",
    "            cost_gymnasieskola.append({\n",
    "                'Region': region,\n",
    "                'Year': year,\n",
    "                'Predicted_Fixed_Cost': round(fixed_cost),\n",
    "                'Predicted_Current_Cost': round(current_cost)\n",
    "            })\n"
   ]
  },
  {
   "cell_type": "code",
   "execution_count": 155,
   "id": "a2c62e6a",
   "metadata": {},
   "outputs": [],
   "source": [
    "# Convert results to DataFrame\n",
    "cost_gymnasieskola_df = pd.DataFrame(cost_gymnasieskola)"
   ]
  },
  {
   "cell_type": "code",
   "execution_count": 156,
   "id": "04a0607e",
   "metadata": {},
   "outputs": [],
   "source": [
    "# Save results to CSV file\n",
    "cost_gymnasieskola_df.to_csv('Cost_region_gymnasieskola_forecast_2025_2035.csv', index=False)"
   ]
  },
  {
   "cell_type": "code",
   "execution_count": 157,
   "id": "8f0b3bb0",
   "metadata": {},
   "outputs": [
    {
     "data": {
      "text/plain": [
       "231"
      ]
     },
     "execution_count": 157,
     "metadata": {},
     "output_type": "execute_result"
    }
   ],
   "source": [
    "# Saving the table to the database\n",
    "cost_gymnasieskola_df.to_sql('Cost_region_gymnasieskola_forecast_2025_2035', conn, if_exists='replace', index=False)\n"
   ]
  },
  {
   "cell_type": "code",
   "execution_count": 158,
   "id": "611a7ea5",
   "metadata": {},
   "outputs": [],
   "source": [
    "# Closing the connection\n",
    "conn.close()"
   ]
  },
  {
   "cell_type": "code",
   "execution_count": null,
   "id": "5b399ac8",
   "metadata": {},
   "outputs": [],
   "source": []
  },
  {
   "cell_type": "code",
   "execution_count": null,
   "id": "e87fdbb1",
   "metadata": {},
   "outputs": [],
   "source": []
  },
  {
   "cell_type": "code",
   "execution_count": null,
   "id": "ff84884a",
   "metadata": {},
   "outputs": [],
   "source": []
  }
 ],
 "metadata": {
  "kernelspec": {
   "display_name": "Python 3 (ipykernel)",
   "language": "python",
   "name": "python3"
  },
  "language_info": {
   "codemirror_mode": {
    "name": "ipython",
    "version": 3
   },
   "file_extension": ".py",
   "mimetype": "text/x-python",
   "name": "python",
   "nbconvert_exporter": "python",
   "pygments_lexer": "ipython3",
   "version": "3.11.5"
  }
 },
 "nbformat": 4,
 "nbformat_minor": 5
}
